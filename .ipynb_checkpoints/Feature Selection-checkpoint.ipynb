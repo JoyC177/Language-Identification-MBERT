{
 "cells": [
  {
   "cell_type": "code",
   "execution_count": 2,
   "id": "47d4d7ce",
   "metadata": {},
   "outputs": [],
   "source": [
    "import unicodedata\n",
    "import numpy as np\n",
    "import pandas as pd\n",
    "from collections import Counter\n",
    "import matplotlib.pyplot as plt"
   ]
  },
  {
   "cell_type": "code",
   "execution_count": 3,
   "id": "a39d8c51",
   "metadata": {},
   "outputs": [],
   "source": [
    "df = pd.read_csv('data/train_pre.csv')"
   ]
  },
  {
   "cell_type": "code",
   "execution_count": 4,
   "id": "d7a25991",
   "metadata": {},
   "outputs": [],
   "source": [
    "df = df.drop(columns=['Nd', 'Cc', 'No', 'Nl', 'Co', 'Cn'])"
   ]
  },
  {
   "cell_type": "code",
   "execution_count": 5,
   "id": "8600e81e",
   "metadata": {},
   "outputs": [
    {
     "name": "stdout",
     "output_type": "stream",
     "text": [
      "              Lu       Ll      Zs      Po     Pd     Ps     Pe       Lo  \\\n",
      "Language                                                                  \n",
      "ace       13.472  223.534  43.992   7.480  0.784  0.434  0.432    0.530   \n",
      "afr       13.716  331.412  69.256   9.190  1.276  0.636  0.636    0.068   \n",
      "als       21.422  265.276  56.234   8.472  0.900  0.796  0.710    0.096   \n",
      "amh        0.676    4.290  56.952   8.312  0.534  0.944  0.934  217.340   \n",
      "ang       10.642  207.452  41.732   6.336  0.348  0.542  0.532    0.190   \n",
      "...          ...      ...     ...     ...    ...    ...    ...      ...   \n",
      "yid        0.678    4.182  59.784   8.054  0.506  0.490  0.490  277.694   \n",
      "yor       13.836  242.096  62.848   7.888  1.432  1.120  1.122    0.514   \n",
      "zea       10.920  227.444  50.208  11.152  0.850  0.382  0.380    0.146   \n",
      "zh-yue     3.958   35.150   7.086  14.244  0.376  2.500  2.498  136.054   \n",
      "zho        5.762   12.770   2.656  17.778  0.372  2.296  2.300  194.570   \n",
      "\n",
      "             Mc     Mn     Pi     Pf     Cf     Sm     Lm     So     Sc  \\\n",
      "Language                                                                  \n",
      "ace       0.010  0.028  0.008  0.064  0.032  0.004  0.002  0.022  0.000   \n",
      "afr       0.000  0.000  0.074  0.454  0.010  0.020  0.004  0.006  0.036   \n",
      "als       0.004  0.020  0.202  0.174  0.004  0.018  0.050  0.012  0.002   \n",
      "amh       0.006  0.340  0.538  0.564  0.000  0.034  0.006  0.078  0.004   \n",
      "ang       0.034  0.048  0.008  0.006  0.002  0.006  0.004  0.004  0.016   \n",
      "...         ...    ...    ...    ...    ...    ...    ...    ...    ...   \n",
      "yid       0.006  2.932  0.006  0.006  0.092  0.010  0.004  0.020  0.004   \n",
      "yor       0.038  4.464  0.072  0.096  0.030  0.008  0.152  0.002  0.012   \n",
      "zea       0.002  0.010  0.090  0.410  0.004  0.004  0.000  0.002  0.002   \n",
      "zh-yue    0.018  0.022  0.032  0.038  0.016  0.050  0.078  0.034  0.008   \n",
      "zho       0.000  0.010  0.622  0.648  0.006  0.054  0.004  0.016  0.006   \n",
      "\n",
      "             Sk     Pc  \n",
      "Language                \n",
      "ace       0.000  0.000  \n",
      "afr       0.000  0.000  \n",
      "als       0.002  0.000  \n",
      "amh       0.000  0.002  \n",
      "ang       0.000  0.000  \n",
      "...         ...    ...  \n",
      "yid       0.000  0.010  \n",
      "yor       0.016  0.000  \n",
      "zea       0.014  0.000  \n",
      "zh-yue    0.002  0.000  \n",
      "zho       0.000  0.000  \n",
      "\n",
      "[234 rows x 19 columns]\n"
     ]
    }
   ],
   "source": [
    "df3 = df.groupby([\"Language\"]).mean()\n",
    "print(df3)"
   ]
  },
  {
   "cell_type": "code",
   "execution_count": 16,
   "id": "b2fdf7ce",
   "metadata": {},
   "outputs": [
    {
     "name": "stdout",
     "output_type": "stream",
     "text": [
      "(234, 19)\n"
     ]
    }
   ],
   "source": [
    "from sklearn.feature_selection import VarianceThreshold\n",
    "\n",
    "X = df3.to_numpy()\n",
    "print(X.shape)"
   ]
  },
  {
   "cell_type": "code",
   "execution_count": 18,
   "id": "47ed8b73",
   "metadata": {},
   "outputs": [
    {
     "name": "stdout",
     "output_type": "stream",
     "text": [
      "(234, 10)\n",
      "[[1.34720e+01 2.23534e+02 4.39920e+01 ... 2.80000e-02 3.20000e-02\n",
      "  2.00000e-03]\n",
      " [1.37160e+01 3.31412e+02 6.92560e+01 ... 0.00000e+00 1.00000e-02\n",
      "  4.00000e-03]\n",
      " [2.14220e+01 2.65276e+02 5.62340e+01 ... 2.00000e-02 4.00000e-03\n",
      "  5.00000e-02]\n",
      " ...\n",
      " [1.09200e+01 2.27444e+02 5.02080e+01 ... 1.00000e-02 4.00000e-03\n",
      "  0.00000e+00]\n",
      " [3.95800e+00 3.51500e+01 7.08600e+00 ... 2.20000e-02 1.60000e-02\n",
      "  7.80000e-02]\n",
      " [5.76200e+00 1.27700e+01 2.65600e+00 ... 1.00000e-02 6.00000e-03\n",
      "  4.00000e-03]]\n"
     ]
    }
   ],
   "source": [
    "selector = VarianceThreshold(0.5)\n",
    "new_x = selector.fit_transform(X)\n",
    "print(new_x.shape)"
   ]
  },
  {
   "cell_type": "code",
   "execution_count": 6,
   "id": "dc11face",
   "metadata": {},
   "outputs": [],
   "source": [
    "df = df.reset_index()"
   ]
  },
  {
   "cell_type": "code",
   "execution_count": 7,
   "id": "f7f07870",
   "metadata": {},
   "outputs": [
    {
     "name": "stdout",
     "output_type": "stream",
     "text": [
      "        Lang_ace  Lang_afr  Lang_als  Lang_amh  Lang_ang  Lang_ara  Lang_arg  \\\n",
      "0              0         0         0         0         0         0         0   \n",
      "1              0         0         0         0         0         0         0   \n",
      "2              0         0         0         0         0         0         0   \n",
      "3              0         0         0         0         0         0         0   \n",
      "4              0         0         0         0         0         0         0   \n",
      "...          ...       ...       ...       ...       ...       ...       ...   \n",
      "117495         0         0         0         0         0         0         0   \n",
      "117496         0         0         0         0         0         0         0   \n",
      "117497         0         0         0         0         0         0         0   \n",
      "117498         0         0         0         0         0         0         0   \n",
      "117499         0         0         0         0         0         0         0   \n",
      "\n",
      "        Lang_arz  Lang_asm  Lang_ast  ...  Lang_wln  Lang_wol  Lang_wuu  \\\n",
      "0              0         0         0  ...         0         0         0   \n",
      "1              0         0         0  ...         0         0         0   \n",
      "2              0         0         0  ...         0         0         0   \n",
      "3              0         0         0  ...         0         0         0   \n",
      "4              0         0         0  ...         0         0         0   \n",
      "...          ...       ...       ...  ...       ...       ...       ...   \n",
      "117495         0         0         0  ...         0         0         0   \n",
      "117496         0         0         0  ...         0         0         0   \n",
      "117497         0         0         0  ...         0         0         0   \n",
      "117498         0         0         0  ...         0         0         0   \n",
      "117499         0         0         0  ...         0         0         0   \n",
      "\n",
      "        Lang_xho  Lang_xmf  Lang_yid  Lang_yor  Lang_zea  Lang_zh-yue  \\\n",
      "0              0         0         0         0         0            0   \n",
      "1              0         0         0         0         0            0   \n",
      "2              0         0         0         0         0            0   \n",
      "3              0         0         0         0         0            0   \n",
      "4              0         0         0         0         0            0   \n",
      "...          ...       ...       ...       ...       ...          ...   \n",
      "117495         0         0         0         0         0            0   \n",
      "117496         0         0         0         0         0            0   \n",
      "117497         0         0         0         0         0            0   \n",
      "117498         0         0         0         0         0            0   \n",
      "117499         0         0         0         0         0            0   \n",
      "\n",
      "        Lang_zho  \n",
      "0              0  \n",
      "1              0  \n",
      "2              0  \n",
      "3              0  \n",
      "4              0  \n",
      "...          ...  \n",
      "117495         0  \n",
      "117496         0  \n",
      "117497         0  \n",
      "117498         0  \n",
      "117499         0  \n",
      "\n",
      "[117500 rows x 234 columns]\n"
     ]
    }
   ],
   "source": [
    "df2 = pd.get_dummies(df['Language'], prefix='Lang')\n",
    "print(df2)"
   ]
  },
  {
   "cell_type": "code",
   "execution_count": 8,
   "id": "d43841ed",
   "metadata": {},
   "outputs": [
    {
     "name": "stdout",
     "output_type": "stream",
     "text": [
      "        Lu   Ll   Zs  Po  Pd  Ps  Pe   Lo  Mc  Mn  Pi  Pf  Cf  Sm  Lm  So  Sc  \\\n",
      "0        9  283   45   6   2   0   0    0   0   0   0   0   0   0   0   0   0   \n",
      "1       17  120   31  11   3   3   3    0   0   0   0   0   0   0   0   0   0   \n",
      "2        0    0   63   8   0   0   0  237  61  67   0   0   0   0   0   0   0   \n",
      "3       42  750  159  37   1  16  15    0   0   0   2   4   0   0   0   0   0   \n",
      "4        3   15   13   1   0   1   1  179   0  41   0   0   0   0   0   0   0   \n",
      "...     ..  ...  ...  ..  ..  ..  ..  ...  ..  ..  ..  ..  ..  ..  ..  ..  ..   \n",
      "117495  26  792  187  27   0   3   3    0   0   0   0   0   0   0   0   0   0   \n",
      "117496  14  200   45   9   1   0   0    0   0   0   0   0   0   0   0   0   0   \n",
      "117497   0    0    0  34   0   1   1  195   0   0   0   0   0   0   0   0   0   \n",
      "117498  19  495  106  16   0   0   0    0   0   0   0   0   0   0   0   0   0   \n",
      "117499   6  238   46   4   0   0   0    0   0   0   0   0   0   0   0   0   0   \n",
      "\n",
      "        Sk  Pc  \n",
      "0        0   0  \n",
      "1        0   0  \n",
      "2        0   0  \n",
      "3        0   0  \n",
      "4        0   0  \n",
      "...     ..  ..  \n",
      "117495   0   0  \n",
      "117496   0   0  \n",
      "117497   0   0  \n",
      "117498   0   0  \n",
      "117499   0   0  \n",
      "\n",
      "[117500 rows x 19 columns]\n"
     ]
    }
   ],
   "source": [
    "x = df.drop('Language', axis=1).drop('index', axis=1)\n",
    "print(x)"
   ]
  },
  {
   "cell_type": "code",
   "execution_count": 10,
   "id": "e35d96e6",
   "metadata": {},
   "outputs": [
    {
     "name": "stdout",
     "output_type": "stream",
     "text": [
      "              Lu        Ll        Zs        Po        Pd        Ps        Pe  \\\n",
      "0       0.026087  0.820290  0.130435  0.017391  0.005797  0.000000  0.000000   \n",
      "1       0.090426  0.638298  0.164894  0.058511  0.015957  0.015957  0.015957   \n",
      "2       0.000000  0.000000  0.144495  0.018349  0.000000  0.000000  0.000000   \n",
      "3       0.040936  0.730994  0.154971  0.036062  0.000975  0.015595  0.014620   \n",
      "4       0.011811  0.059055  0.051181  0.003937  0.000000  0.003937  0.003937   \n",
      "...          ...       ...       ...       ...       ...       ...       ...   \n",
      "117495  0.025048  0.763006  0.180154  0.026012  0.000000  0.002890  0.002890   \n",
      "117496  0.052045  0.743494  0.167286  0.033457  0.003717  0.000000  0.000000   \n",
      "117497  0.000000  0.000000  0.000000  0.147186  0.000000  0.004329  0.004329   \n",
      "117498  0.029874  0.778302  0.166667  0.025157  0.000000  0.000000  0.000000   \n",
      "117499  0.020408  0.809524  0.156463  0.013605  0.000000  0.000000  0.000000   \n",
      "\n",
      "              Lo        Mc        Mn        Pi        Pf   Cf   Sm   Lm   So  \\\n",
      "0       0.000000  0.000000  0.000000  0.000000  0.000000  0.0  0.0  0.0  0.0   \n",
      "1       0.000000  0.000000  0.000000  0.000000  0.000000  0.0  0.0  0.0  0.0   \n",
      "2       0.543578  0.139908  0.153670  0.000000  0.000000  0.0  0.0  0.0  0.0   \n",
      "3       0.000000  0.000000  0.000000  0.001949  0.003899  0.0  0.0  0.0  0.0   \n",
      "4       0.704724  0.000000  0.161417  0.000000  0.000000  0.0  0.0  0.0  0.0   \n",
      "...          ...       ...       ...       ...       ...  ...  ...  ...  ...   \n",
      "117495  0.000000  0.000000  0.000000  0.000000  0.000000  0.0  0.0  0.0  0.0   \n",
      "117496  0.000000  0.000000  0.000000  0.000000  0.000000  0.0  0.0  0.0  0.0   \n",
      "117497  0.844156  0.000000  0.000000  0.000000  0.000000  0.0  0.0  0.0  0.0   \n",
      "117498  0.000000  0.000000  0.000000  0.000000  0.000000  0.0  0.0  0.0  0.0   \n",
      "117499  0.000000  0.000000  0.000000  0.000000  0.000000  0.0  0.0  0.0  0.0   \n",
      "\n",
      "         Sc   Sk   Pc  \n",
      "0       0.0  0.0  0.0  \n",
      "1       0.0  0.0  0.0  \n",
      "2       0.0  0.0  0.0  \n",
      "3       0.0  0.0  0.0  \n",
      "4       0.0  0.0  0.0  \n",
      "...     ...  ...  ...  \n",
      "117495  0.0  0.0  0.0  \n",
      "117496  0.0  0.0  0.0  \n",
      "117497  0.0  0.0  0.0  \n",
      "117498  0.0  0.0  0.0  \n",
      "117499  0.0  0.0  0.0  \n",
      "\n",
      "[117500 rows x 19 columns]\n"
     ]
    }
   ],
   "source": [
    "h = x.div(x.sum(axis=1), axis=0)\n",
    "print(h)"
   ]
  },
  {
   "cell_type": "code",
   "execution_count": 33,
   "id": "9313067b",
   "metadata": {},
   "outputs": [],
   "source": [
    "# h2 = h.join(df[\"Language\"]).groupby([\"Language\"]).mean()\n",
    "# print(h2.loc[h2[\"Language\"].isin(['wuu', 'zho', 'nan', 'lzh'])])\n",
    "# print(h2.loc['zho'])\n",
    "# print(h2.loc['nan'])\n",
    "# print(h2.loc['vls'])\n",
    "# print(h2.loc['lim'])\n"
   ]
  },
  {
   "cell_type": "code",
   "execution_count": 11,
   "id": "e196115e",
   "metadata": {},
   "outputs": [
    {
     "data": {
      "text/html": [
       "<style>#sk-container-id-1 {color: black;background-color: white;}#sk-container-id-1 pre{padding: 0;}#sk-container-id-1 div.sk-toggleable {background-color: white;}#sk-container-id-1 label.sk-toggleable__label {cursor: pointer;display: block;width: 100%;margin-bottom: 0;padding: 0.3em;box-sizing: border-box;text-align: center;}#sk-container-id-1 label.sk-toggleable__label-arrow:before {content: \"▸\";float: left;margin-right: 0.25em;color: #696969;}#sk-container-id-1 label.sk-toggleable__label-arrow:hover:before {color: black;}#sk-container-id-1 div.sk-estimator:hover label.sk-toggleable__label-arrow:before {color: black;}#sk-container-id-1 div.sk-toggleable__content {max-height: 0;max-width: 0;overflow: hidden;text-align: left;background-color: #f0f8ff;}#sk-container-id-1 div.sk-toggleable__content pre {margin: 0.2em;color: black;border-radius: 0.25em;background-color: #f0f8ff;}#sk-container-id-1 input.sk-toggleable__control:checked~div.sk-toggleable__content {max-height: 200px;max-width: 100%;overflow: auto;}#sk-container-id-1 input.sk-toggleable__control:checked~label.sk-toggleable__label-arrow:before {content: \"▾\";}#sk-container-id-1 div.sk-estimator input.sk-toggleable__control:checked~label.sk-toggleable__label {background-color: #d4ebff;}#sk-container-id-1 div.sk-label input.sk-toggleable__control:checked~label.sk-toggleable__label {background-color: #d4ebff;}#sk-container-id-1 input.sk-hidden--visually {border: 0;clip: rect(1px 1px 1px 1px);clip: rect(1px, 1px, 1px, 1px);height: 1px;margin: -1px;overflow: hidden;padding: 0;position: absolute;width: 1px;}#sk-container-id-1 div.sk-estimator {font-family: monospace;background-color: #f0f8ff;border: 1px dotted black;border-radius: 0.25em;box-sizing: border-box;margin-bottom: 0.5em;}#sk-container-id-1 div.sk-estimator:hover {background-color: #d4ebff;}#sk-container-id-1 div.sk-parallel-item::after {content: \"\";width: 100%;border-bottom: 1px solid gray;flex-grow: 1;}#sk-container-id-1 div.sk-label:hover label.sk-toggleable__label {background-color: #d4ebff;}#sk-container-id-1 div.sk-serial::before {content: \"\";position: absolute;border-left: 1px solid gray;box-sizing: border-box;top: 0;bottom: 0;left: 50%;z-index: 0;}#sk-container-id-1 div.sk-serial {display: flex;flex-direction: column;align-items: center;background-color: white;padding-right: 0.2em;padding-left: 0.2em;position: relative;}#sk-container-id-1 div.sk-item {position: relative;z-index: 1;}#sk-container-id-1 div.sk-parallel {display: flex;align-items: stretch;justify-content: center;background-color: white;position: relative;}#sk-container-id-1 div.sk-item::before, #sk-container-id-1 div.sk-parallel-item::before {content: \"\";position: absolute;border-left: 1px solid gray;box-sizing: border-box;top: 0;bottom: 0;left: 50%;z-index: -1;}#sk-container-id-1 div.sk-parallel-item {display: flex;flex-direction: column;z-index: 1;position: relative;background-color: white;}#sk-container-id-1 div.sk-parallel-item:first-child::after {align-self: flex-end;width: 50%;}#sk-container-id-1 div.sk-parallel-item:last-child::after {align-self: flex-start;width: 50%;}#sk-container-id-1 div.sk-parallel-item:only-child::after {width: 0;}#sk-container-id-1 div.sk-dashed-wrapped {border: 1px dashed gray;margin: 0 0.4em 0.5em 0.4em;box-sizing: border-box;padding-bottom: 0.4em;background-color: white;}#sk-container-id-1 div.sk-label label {font-family: monospace;font-weight: bold;display: inline-block;line-height: 1.2em;}#sk-container-id-1 div.sk-label-container {text-align: center;}#sk-container-id-1 div.sk-container {/* jupyter's `normalize.less` sets `[hidden] { display: none; }` but bootstrap.min.css set `[hidden] { display: none !important; }` so we also need the `!important` here to be able to override the default hidden behavior on the sphinx rendered scikit-learn.org. See: https://github.com/scikit-learn/scikit-learn/issues/21755 */display: inline-block !important;position: relative;}#sk-container-id-1 div.sk-text-repr-fallback {display: none;}</style><div id=\"sk-container-id-1\" class=\"sk-top-container\"><div class=\"sk-text-repr-fallback\"><pre>RandomForestClassifier(n_estimators=50, n_jobs=-1, random_state=42)</pre><b>In a Jupyter environment, please rerun this cell to show the HTML representation or trust the notebook. <br />On GitHub, the HTML representation is unable to render, please try loading this page with nbviewer.org.</b></div><div class=\"sk-container\" hidden><div class=\"sk-item\"><div class=\"sk-estimator sk-toggleable\"><input class=\"sk-toggleable__control sk-hidden--visually\" id=\"sk-estimator-id-1\" type=\"checkbox\" checked><label for=\"sk-estimator-id-1\" class=\"sk-toggleable__label sk-toggleable__label-arrow\">RandomForestClassifier</label><div class=\"sk-toggleable__content\"><pre>RandomForestClassifier(n_estimators=50, n_jobs=-1, random_state=42)</pre></div></div></div></div></div>"
      ],
      "text/plain": [
       "RandomForestClassifier(n_estimators=50, n_jobs=-1, random_state=42)"
      ]
     },
     "execution_count": 11,
     "metadata": {},
     "output_type": "execute_result"
    }
   ],
   "source": [
    "from sklearn.ensemble import RandomForestClassifier\n",
    "from sklearn.model_selection import train_test_split\n",
    "\n",
    "# Spliiting data into test and train sets\n",
    "X_train, X_test, y_train, y_test = train_test_split(h, df2, test_size=0.20, random_state=0)\n",
    "\n",
    "# fitting the model\n",
    "model = RandomForestClassifier(n_estimators=50, n_jobs=-1, random_state=42)\n",
    "model.fit(X_train, y_train)"
   ]
  },
  {
   "cell_type": "code",
   "execution_count": 31,
   "id": "8c87af0a",
   "metadata": {},
   "outputs": [
    {
     "data": {
      "image/png": "[encoded data removed]",
      "text/plain": [
       "<Figure size 800x800 with 1 Axes>"
      ]
     },
     "metadata": {},
     "output_type": "display_data"
    }
   ],
   "source": [
    "# plotting feature importances\n",
    "features = df.drop('Language', axis=1).columns\n",
    "features = features.drop('index')\n",
    "importances = model.feature_importances_\n",
    "indices = np.argsort(importances)\n",
    "plt.figure(figsize=(8,8))\n",
    "plt.title('Feature Importances')\n",
    "plt.barh(range(len(indices)), importances[indices], color='b', align='center')\n",
    "plt.yticks(range(len(indices)), [features[i] for i in indices])\n",
    "plt.xlabel('Relative Importance')\n",
    "plt.show()"
   ]
  },
  {
   "cell_type": "code",
   "execution_count": null,
   "id": "064d4fdf",
   "metadata": {},
   "outputs": [],
   "source": []
  }
 ],
 "metadata": {
  "kernelspec": {
   "display_name": "Python 3 (ipykernel)",
   "language": "python",
   "name": "python3"
  },
  "language_info": {
   "codemirror_mode": {
    "name": "ipython",
    "version": 3
   },
   "file_extension": ".py",
   "mimetype": "text/x-python",
   "name": "python",
   "nbconvert_exporter": "python",
   "pygments_lexer": "ipython3",
   "version": "3.9.13"
  }
 },
 "nbformat": 4,
 "nbformat_minor": 5
}
