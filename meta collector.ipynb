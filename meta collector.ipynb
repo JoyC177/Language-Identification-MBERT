{
 "cells": [
  {
   "cell_type": "code",
   "execution_count": null,
   "id": "2fba1cfe",
   "metadata": {},
   "outputs": [],
   "source": [
    "# Try to do this in parallel to the tokenizer\n",
    "# Make a code that takes a list of sentences and converts them into metadata of choice\n",
    "import pytorch\n",
    "\n",
    "def metadata_collector(sentences, features=[\"Ll\", \"Zs\", \"Lu\", \"Po\", \"Pd\", \"Lo\", \"Mn\", \"Ps\", \"Pe\", \"Mc\"], device):\n",
    "    data = torch.zeros((len(sentences), len(features))).to(device)\n",
    "    \n",
    "    for i, paragraph in enumerate(sentences):\n",
    "        \n",
    "        data[i] = \n",
    "        for char in paragraph:\n",
    "            cat = unicodedata.category(char)\n",
    "            \n",
    "#           if cat in [\"Ll\", \"Zs\", \"Lu\", \"Po\", \"Pd\", \"Lo\", \"Mn\", \"Ps\", \"Pe\", \"Mc\"]\n",
    "            \n",
    "            \n",
    "        \n",
    "    return data"
   ]
  }
 ],
 "metadata": {
  "kernelspec": {
   "display_name": "Python 3 (ipykernel)",
   "language": "python",
   "name": "python3"
  },
  "language_info": {
   "codemirror_mode": {
    "name": "ipython",
    "version": 3
   },
   "file_extension": ".py",
   "mimetype": "text/x-python",
   "name": "python",
   "nbconvert_exporter": "python",
   "pygments_lexer": "ipython3",
   "version": "3.9.13"
  }
 },
 "nbformat": 4,
 "nbformat_minor": 5
}
