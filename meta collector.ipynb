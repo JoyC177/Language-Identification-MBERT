{
 "cells": [
  {
   "cell_type": "code",
   "execution_count": 1,
   "id": "2fba1cfe",
   "metadata": {},
   "outputs": [],
   "source": [
    "# Try to do this in parallel to the tokenizer\n",
    "# Make a code that takes a list of sentences and converts them into metadata of choice\n",
    "import torch\n",
    "import unicodedata\n",
    "\n",
    "def metadata_collector(sentences, device, features=[\"Ll\", \"Zs\", \"Lu\", \"Po\", \"Pd\", \"Lo\", \"Mn\", \"Ps\", \"Pe\", \"Mc\"]):\n",
    "    data = torch.zeros((len(sentences), len(features))).to(device)\n",
    "    \n",
    "    for i, paragraph in enumerate(sentences):\n",
    "        for char in paragraph:\n",
    "            cat = unicodedata.category(char)\n",
    "            \n",
    "            #  if cat in [\"Ll\", \"Zs\", \"Lu\", \"Po\", \"Pd\", \"Lo\", \"Mn\", \"Ps\", \"Pe\", \"Mc\"]\n",
    "            for idx in len(features):\n",
    "                if cat in features[idx]:\n",
    "                    data[i][idx] += 1            \n",
    "    \n",
    "    # normalize the data to percentage of the sentence exists of\n",
    "    return data.div(data.sum(axis=1), axis=0)"
   ]
  }
 ],
 "metadata": {
  "kernelspec": {
   "display_name": "Python 3 (ipykernel)",
   "language": "python",
   "name": "python3"
  },
  "language_info": {
   "codemirror_mode": {
    "name": "ipython",
    "version": 3
   },
   "file_extension": ".py",
   "mimetype": "text/x-python",
   "name": "python",
   "nbconvert_exporter": "python",
   "pygments_lexer": "ipython3",
   "version": "3.9.13"
  },
  "vscode": {
   "interpreter": {
    "hash": "e8c4bf9a1a9f7e7cc011ed0f1048bb31683f8a7a3e3a00930cb02ac8df58bef2"
   }
  }
 },
 "nbformat": 4,
 "nbformat_minor": 5
}
