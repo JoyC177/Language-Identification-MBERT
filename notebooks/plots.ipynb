{
 "cells": [
  {
   "cell_type": "markdown",
   "id": "112d7a0f",
   "metadata": {
    "pycharm": {
     "name": "#%% md\n"
    }
   },
   "source": [
    "# Layer plot"
   ]
  },
  {
   "cell_type": "code",
   "execution_count": 1,
   "id": "eda9dfce-1125-49e9-b7df-10c06b294694",
   "metadata": {
    "pycharm": {
     "name": "#%%\n"
    }
   },
   "outputs": [],
   "source": [
    "import plotly.express as px\n",
    "import plotly.graph_objects as go\n",
    "\n",
    "import pandas as pd \n",
    "import wandb\n",
    "api = wandb.Api()\n",
    "\n",
    "# Project is specified by <entity/project-name>\n",
    "runs = api.runs(\"nils2/dl4nlp\")\n",
    "\n",
    "summary_list, config_list, name_list = [], [], []\n",
    "for run in runs: \n",
    "    if run.state != \"finished\":\n",
    "        continue\n",
    "    # .summary contains the output keys/values for metrics like accuracy.\n",
    "    #  We call ._json_dict to omit large files \n",
    "    summary_list.append(run.summary._json_dict)\n",
    "\n",
    "    # .config contains the hyperparameters.\n",
    "    #  We remove special values that start with _.\n",
    "    config_list.append(\n",
    "        {k: v for k,v in run.config.items()\n",
    "          if not k.startswith('_')})\n",
    "\n",
    "    # .name is the human-readable name of the run.\n",
    "    name_list.append(run.name)\n",
    "\n",
    "runs_df = pd.DataFrame({\n",
    "    \"summary\": summary_list,\n",
    "    \"config\": config_list,\n",
    "    \"name\": name_list\n",
    "    })\n",
    "\n",
    "runs_df.to_csv(\"project.csv\")"
   ]
  },
  {
   "cell_type": "code",
   "execution_count": 2,
   "id": "95b965ae-8adf-4c2a-96be-f1ffe173144e",
   "metadata": {
    "pycharm": {
     "name": "#%%\n"
    }
   },
   "outputs": [],
   "source": [
    "mbert_uni = runs_df[runs_df.name.str.startswith(\"mbert-bbs32-unic-l\")]\n",
    "xlmbert_uni = runs_df[runs_df.name.str.startswith(\"xlmbert-bbs32-unic-l\")]\n",
    "mbert = runs_df[runs_df.name.str.startswith(\"mbert-bbs32-l\")]\n",
    "xlmbert = runs_df[runs_df.name.str.startswith(\"xlmbert-bbs32-l\")]"
   ]
  },
  {
   "cell_type": "code",
   "execution_count": 3,
   "id": "6a082624",
   "metadata": {
    "pycharm": {
     "name": "#%%\n"
    }
   },
   "outputs": [],
   "source": [
    "mbert_uni = pd.concat([mbert_uni,runs_df[runs_df.name.str.fullmatch(\"mbert-bbs32-unic\")]])\n",
    "xlmbert_uni = pd.concat([runs_df[runs_df.name.str.fullmatch(\"xlmbert-bbs32-unic\")],xlmbert_uni])\n",
    "mbert = pd.concat([mbert,runs_df[runs_df.name.str.fullmatch(\"mbert-bbs32\")]])\n",
    "xlmbert = pd.concat([xlmbert,runs_df[runs_df.name.str.fullmatch(\"xlmbert-bbs32-adam\")]])"
   ]
  },
  {
   "cell_type": "code",
   "execution_count": 4,
   "id": "7fa833f2-72db-4e83-b733-560554ef091a",
   "metadata": {
    "pycharm": {
     "name": "#%%\n"
    }
   },
   "outputs": [],
   "source": [
    "mbertun_res = pd.DataFrame({\n",
    "        \"test/accuracy\": [s[\"test/accuracy\"] for s in mbert_uni.summary],\n",
    "        \"embeddings_layer\": [c[\"embeddings_layer\"] for c in mbert_uni.config],\n",
    "})\n",
    "xlmbertun_res = pd.DataFrame({\n",
    "        \"test/accuracy\": [s[\"test/accuracy\"] for s in xlmbert_uni.summary],\n",
    "        \"embeddings_layer\": [c[\"embeddings_layer\"] for c in xlmbert_uni.config],\n",
    "})\n",
    "mbert_res = pd.DataFrame({\n",
    "        \"test/accuracy\": [s[\"test/accuracy\"] for s in mbert.summary],\n",
    "        \"embeddings_layer\": [c[\"embeddings_layer\"] for c in mbert.config],\n",
    "})\n",
    "xlmbert_res = pd.DataFrame({\n",
    "        \"test/accuracy\": [s[\"test/accuracy\"] for s in xlmbert.summary],\n",
    "        \"embeddings_layer\": [c[\"embeddings_layer\"] for c in xlmbert.config],\n",
    "})"
   ]
  },
  {
   "cell_type": "code",
   "execution_count": 5,
   "id": "29f788d4",
   "metadata": {
    "pycharm": {
     "name": "#%%\n"
    }
   },
   "outputs": [],
   "source": [
    "mbertun_res = mbertun_res.sort_values(by=\"embeddings_layer\")\n",
    "xlmbertun_res = xlmbertun_res.sort_values(by=\"embeddings_layer\")\n",
    "mbert_res = mbert_res.sort_values(by=\"embeddings_layer\")\n",
    "xlmbert_res = xlmbert_res.sort_values(by=\"embeddings_layer\")"
   ]
  },
  {
   "cell_type": "code",
   "execution_count": 7,
   "id": "b9f1b8d3-d58e-4720-b19e-e8767d6a4819",
   "metadata": {
    "pycharm": {
     "name": "#%%\n"
    }
   },
   "outputs": [
    {
     "data": {
      "application/vnd.plotly.v1+json": {
       "config": {
        "plotlyServerURL": "https://plot.ly"
       },
       "data": [
        {
         "line": {
          "color": "Red",
          "dash": "dot"
         },
         "mode": "lines",
         "name": "MBERT-unicode-norm",
         "type": "scatter",
         "x": [
          0,
          1,
          2,
          3,
          4,
          5,
          6,
          7,
          8,
          9,
          10,
          11,
          12
         ],
         "y": [
          0.9439148936170212,
          0.8900085106382979,
          0.8856340425531914,
          0.9012255319148936,
          0.9135234042553192,
          0.935531914893617,
          0.9219404255319148,
          0.9050808510638296,
          0.9047234042553192,
          0.8865617021276596,
          0.8484851063829787,
          0.8220425531914893,
          0.924936170212766
         ]
        },
        {
         "line": {
          "color": "Green",
          "dash": "dot"
         },
         "mode": "lines",
         "name": "XLMRoberta-unicode-norm",
         "type": "scatter",
         "x": [
          0,
          1,
          2,
          3,
          4,
          5,
          6,
          7,
          8,
          9,
          10,
          11,
          12
         ],
         "y": [
          0.4335063829787234,
          0.6162808510638298,
          0.8914808510638298,
          0.8692255319148936,
          0.8370468085106383,
          0.7887404255319149,
          0.8310553191489362,
          0.8171148936170213,
          0.8605106382978723,
          0.646,
          0.7399659574468085,
          0.8723404255319149,
          0.9324595744680853
         ]
        },
        {
         "line": {
          "color": "Orange"
         },
         "mode": "lines",
         "name": "MBERT",
         "type": "scatter",
         "x": [
          0,
          1,
          2,
          3,
          4,
          5,
          6,
          7,
          8,
          9,
          10,
          11,
          12
         ],
         "y": [
          0.9344765957446808,
          0.8807234042553191,
          0.8735829787234043,
          0.8932851063829788,
          0.9055063829787234,
          0.931863829787234,
          0.9184936170212766,
          0.901991489361702,
          0.9016170212765956,
          0.8817957446808511,
          0.8448595744680851,
          0.8178893617021277,
          0.921268085106383
         ]
        },
        {
         "line": {
          "color": "Cyan"
         },
         "mode": "lines",
         "name": "XLMRoberta",
         "type": "scatter",
         "x": [
          0,
          1,
          2,
          3,
          4,
          5,
          6,
          7,
          8,
          9,
          10,
          11,
          12
         ],
         "y": [
          0.5449787234042553,
          0.7935914893617021,
          0.8898127659574468,
          0.8566468085106383,
          0.8355234042553191,
          0.7838212765957446,
          0.8429106382978724,
          0.8258808510638298,
          0.857931914893617,
          0.5862808510638298,
          0.731268085106383,
          0.8614553191489361,
          0.9135659574468084
         ]
        }
       ],
       "layout": {
        "height": 700,
        "plot_bgcolor": "White",
        "template": {
         "data": {
          "bar": [
           {
            "error_x": {
             "color": "#2a3f5f"
            },
            "error_y": {
             "color": "#2a3f5f"
            },
            "marker": {
             "line": {
              "color": "#E5ECF6",
              "width": 0.5
             },
             "pattern": {
              "fillmode": "overlay",
              "size": 10,
              "solidity": 0.2
             }
            },
            "type": "bar"
           }
          ],
          "barpolar": [
           {
            "marker": {
             "line": {
              "color": "#E5ECF6",
              "width": 0.5
             },
             "pattern": {
              "fillmode": "overlay",
              "size": 10,
              "solidity": 0.2
             }
            },
            "type": "barpolar"
           }
          ],
          "carpet": [
           {
            "aaxis": {
             "endlinecolor": "#2a3f5f",
             "gridcolor": "white",
             "linecolor": "white",
             "minorgridcolor": "white",
             "startlinecolor": "#2a3f5f"
            },
            "baxis": {
             "endlinecolor": "#2a3f5f",
             "gridcolor": "white",
             "linecolor": "white",
             "minorgridcolor": "white",
             "startlinecolor": "#2a3f5f"
            },
            "type": "carpet"
           }
          ],
          "choropleth": [
           {
            "colorbar": {
             "outlinewidth": 0,
             "ticks": ""
            },
            "type": "choropleth"
           }
          ],
          "contour": [
           {
            "colorbar": {
             "outlinewidth": 0,
             "ticks": ""
            },
            "colorscale": [
             [
              0,
              "#0d0887"
             ],
             [
              0.1111111111111111,
              "#46039f"
             ],
             [
              0.2222222222222222,
              "#7201a8"
             ],
             [
              0.3333333333333333,
              "#9c179e"
             ],
             [
              0.4444444444444444,
              "#bd3786"
             ],
             [
              0.5555555555555556,
              "#d8576b"
             ],
             [
              0.6666666666666666,
              "#ed7953"
             ],
             [
              0.7777777777777778,
              "#fb9f3a"
             ],
             [
              0.8888888888888888,
              "#fdca26"
             ],
             [
              1,
              "#f0f921"
             ]
            ],
            "type": "contour"
           }
          ],
          "contourcarpet": [
           {
            "colorbar": {
             "outlinewidth": 0,
             "ticks": ""
            },
            "type": "contourcarpet"
           }
          ],
          "heatmap": [
           {
            "colorbar": {
             "outlinewidth": 0,
             "ticks": ""
            },
            "colorscale": [
             [
              0,
              "#0d0887"
             ],
             [
              0.1111111111111111,
              "#46039f"
             ],
             [
              0.2222222222222222,
              "#7201a8"
             ],
             [
              0.3333333333333333,
              "#9c179e"
             ],
             [
              0.4444444444444444,
              "#bd3786"
             ],
             [
              0.5555555555555556,
              "#d8576b"
             ],
             [
              0.6666666666666666,
              "#ed7953"
             ],
             [
              0.7777777777777778,
              "#fb9f3a"
             ],
             [
              0.8888888888888888,
              "#fdca26"
             ],
             [
              1,
              "#f0f921"
             ]
            ],
            "type": "heatmap"
           }
          ],
          "heatmapgl": [
           {
            "colorbar": {
             "outlinewidth": 0,
             "ticks": ""
            },
            "colorscale": [
             [
              0,
              "#0d0887"
             ],
             [
              0.1111111111111111,
              "#46039f"
             ],
             [
              0.2222222222222222,
              "#7201a8"
             ],
             [
              0.3333333333333333,
              "#9c179e"
             ],
             [
              0.4444444444444444,
              "#bd3786"
             ],
             [
              0.5555555555555556,
              "#d8576b"
             ],
             [
              0.6666666666666666,
              "#ed7953"
             ],
             [
              0.7777777777777778,
              "#fb9f3a"
             ],
             [
              0.8888888888888888,
              "#fdca26"
             ],
             [
              1,
              "#f0f921"
             ]
            ],
            "type": "heatmapgl"
           }
          ],
          "histogram": [
           {
            "marker": {
             "pattern": {
              "fillmode": "overlay",
              "size": 10,
              "solidity": 0.2
             }
            },
            "type": "histogram"
           }
          ],
          "histogram2d": [
           {
            "colorbar": {
             "outlinewidth": 0,
             "ticks": ""
            },
            "colorscale": [
             [
              0,
              "#0d0887"
             ],
             [
              0.1111111111111111,
              "#46039f"
             ],
             [
              0.2222222222222222,
              "#7201a8"
             ],
             [
              0.3333333333333333,
              "#9c179e"
             ],
             [
              0.4444444444444444,
              "#bd3786"
             ],
             [
              0.5555555555555556,
              "#d8576b"
             ],
             [
              0.6666666666666666,
              "#ed7953"
             ],
             [
              0.7777777777777778,
              "#fb9f3a"
             ],
             [
              0.8888888888888888,
              "#fdca26"
             ],
             [
              1,
              "#f0f921"
             ]
            ],
            "type": "histogram2d"
           }
          ],
          "histogram2dcontour": [
           {
            "colorbar": {
             "outlinewidth": 0,
             "ticks": ""
            },
            "colorscale": [
             [
              0,
              "#0d0887"
             ],
             [
              0.1111111111111111,
              "#46039f"
             ],
             [
              0.2222222222222222,
              "#7201a8"
             ],
             [
              0.3333333333333333,
              "#9c179e"
             ],
             [
              0.4444444444444444,
              "#bd3786"
             ],
             [
              0.5555555555555556,
              "#d8576b"
             ],
             [
              0.6666666666666666,
              "#ed7953"
             ],
             [
              0.7777777777777778,
              "#fb9f3a"
             ],
             [
              0.8888888888888888,
              "#fdca26"
             ],
             [
              1,
              "#f0f921"
             ]
            ],
            "type": "histogram2dcontour"
           }
          ],
          "mesh3d": [
           {
            "colorbar": {
             "outlinewidth": 0,
             "ticks": ""
            },
            "type": "mesh3d"
           }
          ],
          "parcoords": [
           {
            "line": {
             "colorbar": {
              "outlinewidth": 0,
              "ticks": ""
             }
            },
            "type": "parcoords"
           }
          ],
          "pie": [
           {
            "automargin": true,
            "type": "pie"
           }
          ],
          "scatter": [
           {
            "fillpattern": {
             "fillmode": "overlay",
             "size": 10,
             "solidity": 0.2
            },
            "type": "scatter"
           }
          ],
          "scatter3d": [
           {
            "line": {
             "colorbar": {
              "outlinewidth": 0,
              "ticks": ""
             }
            },
            "marker": {
             "colorbar": {
              "outlinewidth": 0,
              "ticks": ""
             }
            },
            "type": "scatter3d"
           }
          ],
          "scattercarpet": [
           {
            "marker": {
             "colorbar": {
              "outlinewidth": 0,
              "ticks": ""
             }
            },
            "type": "scattercarpet"
           }
          ],
          "scattergeo": [
           {
            "marker": {
             "colorbar": {
              "outlinewidth": 0,
              "ticks": ""
             }
            },
            "type": "scattergeo"
           }
          ],
          "scattergl": [
           {
            "marker": {
             "colorbar": {
              "outlinewidth": 0,
              "ticks": ""
             }
            },
            "type": "scattergl"
           }
          ],
          "scattermapbox": [
           {
            "marker": {
             "colorbar": {
              "outlinewidth": 0,
              "ticks": ""
             }
            },
            "type": "scattermapbox"
           }
          ],
          "scatterpolar": [
           {
            "marker": {
             "colorbar": {
              "outlinewidth": 0,
              "ticks": ""
             }
            },
            "type": "scatterpolar"
           }
          ],
          "scatterpolargl": [
           {
            "marker": {
             "colorbar": {
              "outlinewidth": 0,
              "ticks": ""
             }
            },
            "type": "scatterpolargl"
           }
          ],
          "scatterternary": [
           {
            "marker": {
             "colorbar": {
              "outlinewidth": 0,
              "ticks": ""
             }
            },
            "type": "scatterternary"
           }
          ],
          "surface": [
           {
            "colorbar": {
             "outlinewidth": 0,
             "ticks": ""
            },
            "colorscale": [
             [
              0,
              "#0d0887"
             ],
             [
              0.1111111111111111,
              "#46039f"
             ],
             [
              0.2222222222222222,
              "#7201a8"
             ],
             [
              0.3333333333333333,
              "#9c179e"
             ],
             [
              0.4444444444444444,
              "#bd3786"
             ],
             [
              0.5555555555555556,
              "#d8576b"
             ],
             [
              0.6666666666666666,
              "#ed7953"
             ],
             [
              0.7777777777777778,
              "#fb9f3a"
             ],
             [
              0.8888888888888888,
              "#fdca26"
             ],
             [
              1,
              "#f0f921"
             ]
            ],
            "type": "surface"
           }
          ],
          "table": [
           {
            "cells": {
             "fill": {
              "color": "#EBF0F8"
             },
             "line": {
              "color": "white"
             }
            },
            "header": {
             "fill": {
              "color": "#C8D4E3"
             },
             "line": {
              "color": "white"
             }
            },
            "type": "table"
           }
          ]
         },
         "layout": {
          "annotationdefaults": {
           "arrowcolor": "#2a3f5f",
           "arrowhead": 0,
           "arrowwidth": 1
          },
          "autotypenumbers": "strict",
          "coloraxis": {
           "colorbar": {
            "outlinewidth": 0,
            "ticks": ""
           }
          },
          "colorscale": {
           "diverging": [
            [
             0,
             "#8e0152"
            ],
            [
             0.1,
             "#c51b7d"
            ],
            [
             0.2,
             "#de77ae"
            ],
            [
             0.3,
             "#f1b6da"
            ],
            [
             0.4,
             "#fde0ef"
            ],
            [
             0.5,
             "#f7f7f7"
            ],
            [
             0.6,
             "#e6f5d0"
            ],
            [
             0.7,
             "#b8e186"
            ],
            [
             0.8,
             "#7fbc41"
            ],
            [
             0.9,
             "#4d9221"
            ],
            [
             1,
             "#276419"
            ]
           ],
           "sequential": [
            [
             0,
             "#0d0887"
            ],
            [
             0.1111111111111111,
             "#46039f"
            ],
            [
             0.2222222222222222,
             "#7201a8"
            ],
            [
             0.3333333333333333,
             "#9c179e"
            ],
            [
             0.4444444444444444,
             "#bd3786"
            ],
            [
             0.5555555555555556,
             "#d8576b"
            ],
            [
             0.6666666666666666,
             "#ed7953"
            ],
            [
             0.7777777777777778,
             "#fb9f3a"
            ],
            [
             0.8888888888888888,
             "#fdca26"
            ],
            [
             1,
             "#f0f921"
            ]
           ],
           "sequentialminus": [
            [
             0,
             "#0d0887"
            ],
            [
             0.1111111111111111,
             "#46039f"
            ],
            [
             0.2222222222222222,
             "#7201a8"
            ],
            [
             0.3333333333333333,
             "#9c179e"
            ],
            [
             0.4444444444444444,
             "#bd3786"
            ],
            [
             0.5555555555555556,
             "#d8576b"
            ],
            [
             0.6666666666666666,
             "#ed7953"
            ],
            [
             0.7777777777777778,
             "#fb9f3a"
            ],
            [
             0.8888888888888888,
             "#fdca26"
            ],
            [
             1,
             "#f0f921"
            ]
           ]
          },
          "colorway": [
           "#636efa",
           "#EF553B",
           "#00cc96",
           "#ab63fa",
           "#FFA15A",
           "#19d3f3",
           "#FF6692",
           "#B6E880",
           "#FF97FF",
           "#FECB52"
          ],
          "font": {
           "color": "#2a3f5f"
          },
          "geo": {
           "bgcolor": "white",
           "lakecolor": "white",
           "landcolor": "#E5ECF6",
           "showlakes": true,
           "showland": true,
           "subunitcolor": "white"
          },
          "hoverlabel": {
           "align": "left"
          },
          "hovermode": "closest",
          "mapbox": {
           "style": "light"
          },
          "paper_bgcolor": "white",
          "plot_bgcolor": "#E5ECF6",
          "polar": {
           "angularaxis": {
            "gridcolor": "white",
            "linecolor": "white",
            "ticks": ""
           },
           "bgcolor": "#E5ECF6",
           "radialaxis": {
            "gridcolor": "white",
            "linecolor": "white",
            "ticks": ""
           }
          },
          "scene": {
           "xaxis": {
            "backgroundcolor": "#E5ECF6",
            "gridcolor": "white",
            "gridwidth": 2,
            "linecolor": "white",
            "showbackground": true,
            "ticks": "",
            "zerolinecolor": "white"
           },
           "yaxis": {
            "backgroundcolor": "#E5ECF6",
            "gridcolor": "white",
            "gridwidth": 2,
            "linecolor": "white",
            "showbackground": true,
            "ticks": "",
            "zerolinecolor": "white"
           },
           "zaxis": {
            "backgroundcolor": "#E5ECF6",
            "gridcolor": "white",
            "gridwidth": 2,
            "linecolor": "white",
            "showbackground": true,
            "ticks": "",
            "zerolinecolor": "white"
           }
          },
          "shapedefaults": {
           "line": {
            "color": "#2a3f5f"
           }
          },
          "ternary": {
           "aaxis": {
            "gridcolor": "white",
            "linecolor": "white",
            "ticks": ""
           },
           "baxis": {
            "gridcolor": "white",
            "linecolor": "white",
            "ticks": ""
           },
           "bgcolor": "#E5ECF6",
           "caxis": {
            "gridcolor": "white",
            "linecolor": "white",
            "ticks": ""
           }
          },
          "title": {
           "x": 0.05
          },
          "xaxis": {
           "automargin": true,
           "gridcolor": "white",
           "linecolor": "white",
           "ticks": "",
           "title": {
            "standoff": 15
           },
           "zerolinecolor": "white",
           "zerolinewidth": 2
          },
          "yaxis": {
           "automargin": true,
           "gridcolor": "white",
           "linecolor": "white",
           "ticks": "",
           "title": {
            "standoff": 15
           },
           "zerolinecolor": "white",
           "zerolinewidth": 2
          }
         }
        },
        "width": 900,
        "xaxis": {
         "gridcolor": "LightGrey",
         "gridwidth": 1,
         "linecolor": "Black",
         "showgrid": true,
         "title": {
          "text": "Layer"
         }
        },
        "yaxis": {
         "gridcolor": "LightGrey",
         "gridwidth": 1,
         "linecolor": "Black",
         "showgrid": true,
         "title": {
          "text": "Test accuracy"
         }
        }
       }
      },
      "text/html": [
       "<div>                            <div id=\"60b6fb4d-45d2-4cdb-a71d-e67af9ee6050\" class=\"plotly-graph-div\" style=\"height:700px; width:900px;\"></div>            <script type=\"text/javascript\">                require([\"plotly\"], function(Plotly) {                    window.PLOTLYENV=window.PLOTLYENV || {};                                    if (document.getElementById(\"60b6fb4d-45d2-4cdb-a71d-e67af9ee6050\")) {                    Plotly.newPlot(                        \"60b6fb4d-45d2-4cdb-a71d-e67af9ee6050\",                        [{\"line\":{\"color\":\"Red\",\"dash\":\"dot\"},\"mode\":\"lines\",\"name\":\"MBERT-unicode-norm\",\"x\":[0,1,2,3,4,5,6,7,8,9,10,11,12],\"y\":[0.9439148936170212,0.8900085106382979,0.8856340425531914,0.9012255319148936,0.9135234042553192,0.935531914893617,0.9219404255319148,0.9050808510638296,0.9047234042553192,0.8865617021276596,0.8484851063829787,0.8220425531914893,0.924936170212766],\"type\":\"scatter\"},{\"line\":{\"color\":\"Green\",\"dash\":\"dot\"},\"mode\":\"lines\",\"name\":\"XLMRoberta-unicode-norm\",\"x\":[0,1,2,3,4,5,6,7,8,9,10,11,12],\"y\":[0.4335063829787234,0.6162808510638298,0.8914808510638298,0.8692255319148936,0.8370468085106383,0.7887404255319149,0.8310553191489362,0.8171148936170213,0.8605106382978723,0.646,0.7399659574468085,0.8723404255319149,0.9324595744680853],\"type\":\"scatter\"},{\"line\":{\"color\":\"Orange\"},\"mode\":\"lines\",\"name\":\"MBERT\",\"x\":[0,1,2,3,4,5,6,7,8,9,10,11,12],\"y\":[0.9344765957446808,0.8807234042553191,0.8735829787234043,0.8932851063829788,0.9055063829787234,0.931863829787234,0.9184936170212766,0.901991489361702,0.9016170212765956,0.8817957446808511,0.8448595744680851,0.8178893617021277,0.921268085106383],\"type\":\"scatter\"},{\"line\":{\"color\":\"Cyan\"},\"mode\":\"lines\",\"name\":\"XLMRoberta\",\"x\":[0,1,2,3,4,5,6,7,8,9,10,11,12],\"y\":[0.5449787234042553,0.7935914893617021,0.8898127659574468,0.8566468085106383,0.8355234042553191,0.7838212765957446,0.8429106382978724,0.8258808510638298,0.857931914893617,0.5862808510638298,0.731268085106383,0.8614553191489361,0.9135659574468084],\"type\":\"scatter\"}],                        {\"height\":700,\"width\":900,\"template\":{\"data\":{\"histogram2dcontour\":[{\"type\":\"histogram2dcontour\",\"colorbar\":{\"outlinewidth\":0,\"ticks\":\"\"},\"colorscale\":[[0.0,\"#0d0887\"],[0.1111111111111111,\"#46039f\"],[0.2222222222222222,\"#7201a8\"],[0.3333333333333333,\"#9c179e\"],[0.4444444444444444,\"#bd3786\"],[0.5555555555555556,\"#d8576b\"],[0.6666666666666666,\"#ed7953\"],[0.7777777777777778,\"#fb9f3a\"],[0.8888888888888888,\"#fdca26\"],[1.0,\"#f0f921\"]]}],\"choropleth\":[{\"type\":\"choropleth\",\"colorbar\":{\"outlinewidth\":0,\"ticks\":\"\"}}],\"histogram2d\":[{\"type\":\"histogram2d\",\"colorbar\":{\"outlinewidth\":0,\"ticks\":\"\"},\"colorscale\":[[0.0,\"#0d0887\"],[0.1111111111111111,\"#46039f\"],[0.2222222222222222,\"#7201a8\"],[0.3333333333333333,\"#9c179e\"],[0.4444444444444444,\"#bd3786\"],[0.5555555555555556,\"#d8576b\"],[0.6666666666666666,\"#ed7953\"],[0.7777777777777778,\"#fb9f3a\"],[0.8888888888888888,\"#fdca26\"],[1.0,\"#f0f921\"]]}],\"heatmap\":[{\"type\":\"heatmap\",\"colorbar\":{\"outlinewidth\":0,\"ticks\":\"\"},\"colorscale\":[[0.0,\"#0d0887\"],[0.1111111111111111,\"#46039f\"],[0.2222222222222222,\"#7201a8\"],[0.3333333333333333,\"#9c179e\"],[0.4444444444444444,\"#bd3786\"],[0.5555555555555556,\"#d8576b\"],[0.6666666666666666,\"#ed7953\"],[0.7777777777777778,\"#fb9f3a\"],[0.8888888888888888,\"#fdca26\"],[1.0,\"#f0f921\"]]}],\"heatmapgl\":[{\"type\":\"heatmapgl\",\"colorbar\":{\"outlinewidth\":0,\"ticks\":\"\"},\"colorscale\":[[0.0,\"#0d0887\"],[0.1111111111111111,\"#46039f\"],[0.2222222222222222,\"#7201a8\"],[0.3333333333333333,\"#9c179e\"],[0.4444444444444444,\"#bd3786\"],[0.5555555555555556,\"#d8576b\"],[0.6666666666666666,\"#ed7953\"],[0.7777777777777778,\"#fb9f3a\"],[0.8888888888888888,\"#fdca26\"],[1.0,\"#f0f921\"]]}],\"contourcarpet\":[{\"type\":\"contourcarpet\",\"colorbar\":{\"outlinewidth\":0,\"ticks\":\"\"}}],\"contour\":[{\"type\":\"contour\",\"colorbar\":{\"outlinewidth\":0,\"ticks\":\"\"},\"colorscale\":[[0.0,\"#0d0887\"],[0.1111111111111111,\"#46039f\"],[0.2222222222222222,\"#7201a8\"],[0.3333333333333333,\"#9c179e\"],[0.4444444444444444,\"#bd3786\"],[0.5555555555555556,\"#d8576b\"],[0.6666666666666666,\"#ed7953\"],[0.7777777777777778,\"#fb9f3a\"],[0.8888888888888888,\"#fdca26\"],[1.0,\"#f0f921\"]]}],\"surface\":[{\"type\":\"surface\",\"colorbar\":{\"outlinewidth\":0,\"ticks\":\"\"},\"colorscale\":[[0.0,\"#0d0887\"],[0.1111111111111111,\"#46039f\"],[0.2222222222222222,\"#7201a8\"],[0.3333333333333333,\"#9c179e\"],[0.4444444444444444,\"#bd3786\"],[0.5555555555555556,\"#d8576b\"],[0.6666666666666666,\"#ed7953\"],[0.7777777777777778,\"#fb9f3a\"],[0.8888888888888888,\"#fdca26\"],[1.0,\"#f0f921\"]]}],\"mesh3d\":[{\"type\":\"mesh3d\",\"colorbar\":{\"outlinewidth\":0,\"ticks\":\"\"}}],\"scatter\":[{\"fillpattern\":{\"fillmode\":\"overlay\",\"size\":10,\"solidity\":0.2},\"type\":\"scatter\"}],\"parcoords\":[{\"type\":\"parcoords\",\"line\":{\"colorbar\":{\"outlinewidth\":0,\"ticks\":\"\"}}}],\"scatterpolargl\":[{\"type\":\"scatterpolargl\",\"marker\":{\"colorbar\":{\"outlinewidth\":0,\"ticks\":\"\"}}}],\"bar\":[{\"error_x\":{\"color\":\"#2a3f5f\"},\"error_y\":{\"color\":\"#2a3f5f\"},\"marker\":{\"line\":{\"color\":\"#E5ECF6\",\"width\":0.5},\"pattern\":{\"fillmode\":\"overlay\",\"size\":10,\"solidity\":0.2}},\"type\":\"bar\"}],\"scattergeo\":[{\"type\":\"scattergeo\",\"marker\":{\"colorbar\":{\"outlinewidth\":0,\"ticks\":\"\"}}}],\"scatterpolar\":[{\"type\":\"scatterpolar\",\"marker\":{\"colorbar\":{\"outlinewidth\":0,\"ticks\":\"\"}}}],\"histogram\":[{\"marker\":{\"pattern\":{\"fillmode\":\"overlay\",\"size\":10,\"solidity\":0.2}},\"type\":\"histogram\"}],\"scattergl\":[{\"type\":\"scattergl\",\"marker\":{\"colorbar\":{\"outlinewidth\":0,\"ticks\":\"\"}}}],\"scatter3d\":[{\"type\":\"scatter3d\",\"line\":{\"colorbar\":{\"outlinewidth\":0,\"ticks\":\"\"}},\"marker\":{\"colorbar\":{\"outlinewidth\":0,\"ticks\":\"\"}}}],\"scattermapbox\":[{\"type\":\"scattermapbox\",\"marker\":{\"colorbar\":{\"outlinewidth\":0,\"ticks\":\"\"}}}],\"scatterternary\":[{\"type\":\"scatterternary\",\"marker\":{\"colorbar\":{\"outlinewidth\":0,\"ticks\":\"\"}}}],\"scattercarpet\":[{\"type\":\"scattercarpet\",\"marker\":{\"colorbar\":{\"outlinewidth\":0,\"ticks\":\"\"}}}],\"carpet\":[{\"aaxis\":{\"endlinecolor\":\"#2a3f5f\",\"gridcolor\":\"white\",\"linecolor\":\"white\",\"minorgridcolor\":\"white\",\"startlinecolor\":\"#2a3f5f\"},\"baxis\":{\"endlinecolor\":\"#2a3f5f\",\"gridcolor\":\"white\",\"linecolor\":\"white\",\"minorgridcolor\":\"white\",\"startlinecolor\":\"#2a3f5f\"},\"type\":\"carpet\"}],\"table\":[{\"cells\":{\"fill\":{\"color\":\"#EBF0F8\"},\"line\":{\"color\":\"white\"}},\"header\":{\"fill\":{\"color\":\"#C8D4E3\"},\"line\":{\"color\":\"white\"}},\"type\":\"table\"}],\"barpolar\":[{\"marker\":{\"line\":{\"color\":\"#E5ECF6\",\"width\":0.5},\"pattern\":{\"fillmode\":\"overlay\",\"size\":10,\"solidity\":0.2}},\"type\":\"barpolar\"}],\"pie\":[{\"automargin\":true,\"type\":\"pie\"}]},\"layout\":{\"autotypenumbers\":\"strict\",\"colorway\":[\"#636efa\",\"#EF553B\",\"#00cc96\",\"#ab63fa\",\"#FFA15A\",\"#19d3f3\",\"#FF6692\",\"#B6E880\",\"#FF97FF\",\"#FECB52\"],\"font\":{\"color\":\"#2a3f5f\"},\"hovermode\":\"closest\",\"hoverlabel\":{\"align\":\"left\"},\"paper_bgcolor\":\"white\",\"plot_bgcolor\":\"#E5ECF6\",\"polar\":{\"bgcolor\":\"#E5ECF6\",\"angularaxis\":{\"gridcolor\":\"white\",\"linecolor\":\"white\",\"ticks\":\"\"},\"radialaxis\":{\"gridcolor\":\"white\",\"linecolor\":\"white\",\"ticks\":\"\"}},\"ternary\":{\"bgcolor\":\"#E5ECF6\",\"aaxis\":{\"gridcolor\":\"white\",\"linecolor\":\"white\",\"ticks\":\"\"},\"baxis\":{\"gridcolor\":\"white\",\"linecolor\":\"white\",\"ticks\":\"\"},\"caxis\":{\"gridcolor\":\"white\",\"linecolor\":\"white\",\"ticks\":\"\"}},\"coloraxis\":{\"colorbar\":{\"outlinewidth\":0,\"ticks\":\"\"}},\"colorscale\":{\"sequential\":[[0.0,\"#0d0887\"],[0.1111111111111111,\"#46039f\"],[0.2222222222222222,\"#7201a8\"],[0.3333333333333333,\"#9c179e\"],[0.4444444444444444,\"#bd3786\"],[0.5555555555555556,\"#d8576b\"],[0.6666666666666666,\"#ed7953\"],[0.7777777777777778,\"#fb9f3a\"],[0.8888888888888888,\"#fdca26\"],[1.0,\"#f0f921\"]],\"sequentialminus\":[[0.0,\"#0d0887\"],[0.1111111111111111,\"#46039f\"],[0.2222222222222222,\"#7201a8\"],[0.3333333333333333,\"#9c179e\"],[0.4444444444444444,\"#bd3786\"],[0.5555555555555556,\"#d8576b\"],[0.6666666666666666,\"#ed7953\"],[0.7777777777777778,\"#fb9f3a\"],[0.8888888888888888,\"#fdca26\"],[1.0,\"#f0f921\"]],\"diverging\":[[0,\"#8e0152\"],[0.1,\"#c51b7d\"],[0.2,\"#de77ae\"],[0.3,\"#f1b6da\"],[0.4,\"#fde0ef\"],[0.5,\"#f7f7f7\"],[0.6,\"#e6f5d0\"],[0.7,\"#b8e186\"],[0.8,\"#7fbc41\"],[0.9,\"#4d9221\"],[1,\"#276419\"]]},\"xaxis\":{\"gridcolor\":\"white\",\"linecolor\":\"white\",\"ticks\":\"\",\"title\":{\"standoff\":15},\"zerolinecolor\":\"white\",\"automargin\":true,\"zerolinewidth\":2},\"yaxis\":{\"gridcolor\":\"white\",\"linecolor\":\"white\",\"ticks\":\"\",\"title\":{\"standoff\":15},\"zerolinecolor\":\"white\",\"automargin\":true,\"zerolinewidth\":2},\"scene\":{\"xaxis\":{\"backgroundcolor\":\"#E5ECF6\",\"gridcolor\":\"white\",\"linecolor\":\"white\",\"showbackground\":true,\"ticks\":\"\",\"zerolinecolor\":\"white\",\"gridwidth\":2},\"yaxis\":{\"backgroundcolor\":\"#E5ECF6\",\"gridcolor\":\"white\",\"linecolor\":\"white\",\"showbackground\":true,\"ticks\":\"\",\"zerolinecolor\":\"white\",\"gridwidth\":2},\"zaxis\":{\"backgroundcolor\":\"#E5ECF6\",\"gridcolor\":\"white\",\"linecolor\":\"white\",\"showbackground\":true,\"ticks\":\"\",\"zerolinecolor\":\"white\",\"gridwidth\":2}},\"shapedefaults\":{\"line\":{\"color\":\"#2a3f5f\"}},\"annotationdefaults\":{\"arrowcolor\":\"#2a3f5f\",\"arrowhead\":0,\"arrowwidth\":1},\"geo\":{\"bgcolor\":\"white\",\"landcolor\":\"#E5ECF6\",\"subunitcolor\":\"white\",\"showland\":true,\"showlakes\":true,\"lakecolor\":\"white\"},\"title\":{\"x\":0.05},\"mapbox\":{\"style\":\"light\"}}},\"plot_bgcolor\":\"White\",\"xaxis\":{\"title\":{\"text\":\"Layer\"},\"showgrid\":true,\"gridwidth\":1,\"linecolor\":\"Black\",\"gridcolor\":\"LightGrey\"},\"yaxis\":{\"title\":{\"text\":\"Test accuracy\"},\"showgrid\":true,\"gridwidth\":1,\"linecolor\":\"Black\",\"gridcolor\":\"LightGrey\"}},                        {\"responsive\": true}                    ).then(function(){\n",
       "                            \n",
       "var gd = document.getElementById('60b6fb4d-45d2-4cdb-a71d-e67af9ee6050');\n",
       "var x = new MutationObserver(function (mutations, observer) {{\n",
       "        var display = window.getComputedStyle(gd).display;\n",
       "        if (!display || display === 'none') {{\n",
       "            console.log([gd, 'removed!']);\n",
       "            Plotly.purge(gd);\n",
       "            observer.disconnect();\n",
       "        }}\n",
       "}});\n",
       "\n",
       "// Listen for the removal of the full notebook cells\n",
       "var notebookContainer = gd.closest('#notebook-container');\n",
       "if (notebookContainer) {{\n",
       "    x.observe(notebookContainer, {childList: true});\n",
       "}}\n",
       "\n",
       "// Listen for the clearing of the current output cell\n",
       "var outputEl = gd.closest('.output');\n",
       "if (outputEl) {{\n",
       "    x.observe(outputEl, {childList: true});\n",
       "}}\n",
       "\n",
       "                        })                };                });            </script>        </div>"
      ]
     },
     "metadata": {},
     "output_type": "display_data"
    }
   ],
   "source": [
    "fig = go.Figure(layout=dict(height=700, width=900))\n",
    "fig.add_trace(go.Scatter(x=mbertun_res[\"embeddings_layer\"], y=mbertun_res[\"test/accuracy\"],\n",
    "                    mode='lines',\n",
    "                    line=dict(dash='dot', color='Red'),\n",
    "                    name='MBERT-unicode-norm'))\n",
    "fig.add_trace(go.Scatter(x=xlmbertun_res[\"embeddings_layer\"], y=xlmbertun_res[\"test/accuracy\"],\n",
    "                         mode='lines',\n",
    "                    line=dict(dash='dot', color='Green'),\n",
    "                    name='XLMRoberta-unicode-norm'))\n",
    "fig.add_trace(go.Scatter(x=mbert_res[\"embeddings_layer\"], y=mbert_res[\"test/accuracy\"],\n",
    "                    mode='lines',\n",
    "                    line=dict(color='Orange'),\n",
    "                    name='MBERT'))\n",
    "fig.add_trace(go.Scatter(x=xlmbert_res[\"embeddings_layer\"], y=xlmbert_res[\"test/accuracy\"],\n",
    "                         mode='lines',\n",
    "                    line=dict(color='Cyan'),\n",
    "                    name='XLMRoberta'))\n",
    "fig.update_layout(plot_bgcolor='White',\n",
    "                  xaxis_title=\"Layer\",\n",
    "                  yaxis_title='Test accuracy')\n",
    "fig.update_xaxes(showgrid=True, gridwidth=1, linecolor='Black', gridcolor='LightGrey')\n",
    "fig.update_yaxes(showgrid=True, gridwidth=1, linecolor='Black', gridcolor='LightGrey')\n",
    "fig.show()"
   ]
  },
  {
   "cell_type": "markdown",
   "id": "4e062c59",
   "metadata": {
    "pycharm": {
     "name": "#%% md\n"
    }
   },
   "source": [
    "# Parameter plots"
   ]
  },
  {
   "cell_type": "markdown",
   "id": "85f560d6",
   "metadata": {
    "pycharm": {
     "name": "#%% md\n"
    }
   },
   "source": [
    "## Probe batch size"
   ]
  },
  {
   "cell_type": "code",
   "execution_count": null,
   "id": "b0a6908e",
   "metadata": {
    "pycharm": {
     "name": "#%%\n"
    }
   },
   "outputs": [],
   "source": [
    "mbert_bs64 = runs_df[runs_df.name.str.fullmatch(\"mbert-bbs32-bs64\")]\n",
    "mbert_bs128 = runs_df[runs_df.name.str.fullmatch(\"mbert-bbs32-bs128\")]\n",
    "mbert_bs256 = runs_df[runs_df.name.str.fullmatch(\"mbert-bbs32-bs256\")]\n",
    "mbert_bs512 = runs_df[runs_df.name.str.fullmatch(\"mbert-bbs32-bs512\")]\n",
    "mbert_bs1024 = runs_df[runs_df.name.str.fullmatch(\"mbert-bbs32-bs1024\")]\n",
    "\n",
    "mbert_bs = pd.concat([mbert_bs64, mbert_bs128, mbert_bs256, mbert_bs512, mbert_bs1024])"
   ]
  },
  {
   "cell_type": "code",
   "execution_count": null,
   "id": "d8be4c37",
   "metadata": {
    "pycharm": {
     "name": "#%%\n"
    }
   },
   "outputs": [],
   "source": [
    "mbert_bs = pd.DataFrame({\n",
    "        \"test/accuracy\": [s[\"test/accuracy\"] for s in mbert_bs.summary],\n",
    "        \"bs\": [c[\"batch_size\"] for c in mbert_bs.config],\n",
    "})"
   ]
  },
  {
   "cell_type": "code",
   "execution_count": null,
   "id": "cc1ec36f",
   "metadata": {
    "pycharm": {
     "name": "#%%\n"
    }
   },
   "outputs": [],
   "source": [
    "fig = go.Figure(layout=dict(height=700, width=900))\n",
    "fig.add_trace(go.Bar(x=mbert_bs[\"bs\"], y=mbert_bs[\"test/accuracy\"],\n",
    "                     marker=dict(color = mbert_bs[\"bs\"],\n",
    "                     colorscale='rainbow')))\n",
    "fig.update_layout(xaxis_title=\"Probe batch size\",\n",
    "                   yaxis_title='Test accuracy',\n",
    "                 xaxis=dict(type='category'),\n",
    "                 yaxis_range=[0.85,0.95])\n",
    "fig.show()"
   ]
  },
  {
   "cell_type": "markdown",
   "id": "681f26a0",
   "metadata": {
    "pycharm": {
     "name": "#%% md\n"
    }
   },
   "source": [
    "## Embeddings batch size"
   ]
  },
  {
   "cell_type": "code",
   "execution_count": null,
   "id": "20ce11cd",
   "metadata": {
    "pycharm": {
     "name": "#%%\n"
    }
   },
   "outputs": [],
   "source": [
    "mbert_bs16 = runs_df[runs_df.name.str.fullmatch(\"mbert-bbs16\")]\n",
    "mbert_bs32 = runs_df[runs_df.name.str.fullmatch(\"mbert-bbs32\")]\n",
    "mbert_bs64 = runs_df[runs_df.name.str.fullmatch(\"mbert-bbs64\")]\n",
    "\n",
    "mbert_bs = pd.concat([mbert_bs16, mbert_bs32, mbert_bs64])"
   ]
  },
  {
   "cell_type": "code",
   "execution_count": null,
   "id": "c751b753",
   "metadata": {
    "pycharm": {
     "name": "#%%\n"
    }
   },
   "outputs": [],
   "source": [
    "mbert_bs = pd.DataFrame({\n",
    "        \"test/accuracy\": [s[\"test/accuracy\"] for s in mbert_bs.summary],\n",
    "        \"bs\": [c[\"bert_batch_size\"] for c in mbert_bs.config],\n",
    "})"
   ]
  },
  {
   "cell_type": "code",
   "execution_count": null,
   "id": "9d896bef",
   "metadata": {
    "pycharm": {
     "name": "#%%\n"
    }
   },
   "outputs": [],
   "source": [
    "fig = go.Figure(layout=dict(height=700, width=900))\n",
    "fig.add_trace(go.Bar(x=mbert_bs[\"bs\"], y=mbert_bs[\"test/accuracy\"],\n",
    "                     marker=dict(color = mbert_bs[\"bs\"],\n",
    "                     colorscale='rainbow')))\n",
    "fig.update_layout(xaxis_title=\"Embedding batch size\",\n",
    "                   yaxis_title='Test accuracy',\n",
    "                 xaxis=dict(type='category'),\n",
    "                 yaxis_range=[0.85,0.95])\n",
    "fig.show()"
   ]
  },
  {
   "cell_type": "markdown",
   "id": "f2591477",
   "metadata": {
    "pycharm": {
     "name": "#%% md\n"
    }
   },
   "source": [
    "## Activations"
   ]
  },
  {
   "cell_type": "code",
   "execution_count": null,
   "id": "18c5bc15",
   "metadata": {
    "pycharm": {
     "name": "#%%\n"
    }
   },
   "outputs": [],
   "source": [
    "mbert_bsT = runs_df[runs_df.name.str.fullmatch(\"mbert-bbs32-tanh\")]\n",
    "mbert_bsR = runs_df[runs_df.name.str.fullmatch(\"mbert-bbs32\")]\n",
    "mbert_bsS = runs_df[runs_df.name.str.fullmatch(\"mbert-bbs32-sigmoid\")]\n",
    "\n",
    "mbert_bs = pd.concat([mbert_bsT, mbert_bsR, mbert_bsS])"
   ]
  },
  {
   "cell_type": "code",
   "execution_count": null,
   "id": "93477ce7",
   "metadata": {
    "pycharm": {
     "name": "#%%\n"
    }
   },
   "outputs": [],
   "source": [
    "mbert_bs = pd.DataFrame({\n",
    "        \"test/accuracy\": [s[\"test/accuracy\"] for s in mbert_bs.summary],\n",
    "        \"act\": [c[\"activation\"] for c in mbert_bs.config],\n",
    "})"
   ]
  },
  {
   "cell_type": "code",
   "execution_count": null,
   "id": "a9efa642",
   "metadata": {
    "pycharm": {
     "name": "#%%\n"
    }
   },
   "outputs": [],
   "source": [
    "fig = go.Figure(layout=dict(height=700, width=900))\n",
    "fig.add_trace(go.Bar(x=mbert_bs[\"act\"], y=mbert_bs[\"test/accuracy\"]))\n",
    "fig.update_layout(xaxis_title=\"Activation function\",\n",
    "                   yaxis_title='Test accuracy',\n",
    "                 xaxis=dict(type='category'),\n",
    "                 yaxis_range=[0.85,0.95])\n",
    "fig.show()"
   ]
  },
  {
   "cell_type": "markdown",
   "id": "ab381641",
   "metadata": {
    "pycharm": {
     "name": "#%% md\n"
    }
   },
   "source": [
    "## Optimizer"
   ]
  },
  {
   "cell_type": "code",
   "execution_count": null,
   "id": "6bb9a531",
   "metadata": {
    "pycharm": {
     "name": "#%%\n"
    }
   },
   "outputs": [],
   "source": [
    "mbert_bsa = runs_df[runs_df.name.str.fullmatch(\"mbert-bbs32-adam\")]\n",
    "mbert_bs = runs_df[runs_df.name.str.fullmatch(\"mbert-bbs32\")]\n",
    "mbert_bsw = runs_df[runs_df.name.str.fullmatch(\"mbert-bbs32-adamw\")]\n",
    "\n",
    "mbert_bs = pd.concat([mbert_bs, mbert_bsa, mbert_bsw])"
   ]
  },
  {
   "cell_type": "code",
   "execution_count": null,
   "id": "c0d08312",
   "metadata": {
    "pycharm": {
     "name": "#%%\n"
    }
   },
   "outputs": [],
   "source": [
    "mbert_bs = pd.DataFrame({\n",
    "        \"test/accuracy\": [s[\"test/accuracy\"] for s in mbert_bs.summary],\n",
    "        \"opt\": [c[\"optimizer\"] for c in mbert_bs.config],\n",
    "})"
   ]
  },
  {
   "cell_type": "code",
   "execution_count": null,
   "id": "ab11844e",
   "metadata": {
    "pycharm": {
     "name": "#%%\n"
    }
   },
   "outputs": [],
   "source": [
    "fig = go.Figure(layout=dict(height=700, width=900))\n",
    "fig.add_trace(go.Bar(x=mbert_bs[\"opt\"], y=mbert_bs[\"test/accuracy\"]))\n",
    "fig.update_layout(xaxis_title=\"Optimizer function\",\n",
    "                   yaxis_title='Test accuracy',\n",
    "                 xaxis=dict(type='category'),\n",
    "                 yaxis_range=[0.75,0.95])\n",
    "fig.show()"
   ]
  },
  {
   "cell_type": "markdown",
   "id": "72724880",
   "metadata": {
    "pycharm": {
     "name": "#%% md\n"
    }
   },
   "source": [
    "### SGD Momentum "
   ]
  },
  {
   "cell_type": "code",
   "execution_count": null,
   "id": "e90732ca",
   "metadata": {
    "pycharm": {
     "name": "#%%\n"
    }
   },
   "outputs": [],
   "source": [
    "mbert_bs0 = runs_df[runs_df.name.str.fullmatch(\"mbert-bbs32-m08\")]\n",
    "mbert_bs = runs_df[runs_df.name.str.fullmatch(\"mbert-bbs32\")]\n",
    "mbert_bs5 = runs_df[runs_df.name.str.fullmatch(\"mbert-bbs32-m095\")]\n",
    "\n",
    "mbert_bs = pd.concat([mbert_bs0, mbert_bs, mbert_bs5])"
   ]
  },
  {
   "cell_type": "code",
   "execution_count": null,
   "id": "caa15d02",
   "metadata": {
    "pycharm": {
     "name": "#%%\n"
    }
   },
   "outputs": [],
   "source": [
    "mbert_bs = pd.DataFrame({\n",
    "        \"test/accuracy\": [s[\"test/accuracy\"] for s in mbert_bs.summary],\n",
    "        \"m\": [c[\"momentum\"] for c in mbert_bs.config],\n",
    "})"
   ]
  },
  {
   "cell_type": "code",
   "execution_count": null,
   "id": "4ca0fb54",
   "metadata": {
    "pycharm": {
     "name": "#%%\n"
    }
   },
   "outputs": [],
   "source": [
    "fig = go.Figure(layout=dict(height=700, width=900))\n",
    "fig.add_trace(go.Bar(x=mbert_bs[\"m\"], y=mbert_bs[\"test/accuracy\"]))\n",
    "fig.update_layout(xaxis_title=\"SGD momentum rates\",\n",
    "                   yaxis_title='Test accuracy',\n",
    "                 xaxis=dict(type='category'),\n",
    "                 yaxis_range=[0.9,0.93])\n",
    "fig.show()"
   ]
  },
  {
   "cell_type": "markdown",
   "id": "eb449eb0",
   "metadata": {
    "pycharm": {
     "name": "#%% md\n"
    }
   },
   "source": [
    "### SGD Learning rate"
   ]
  },
  {
   "cell_type": "code",
   "execution_count": null,
   "id": "f76ff551",
   "metadata": {
    "pycharm": {
     "name": "#%%\n"
    }
   },
   "outputs": [],
   "source": [
    "mbert_bs0 = runs_df[runs_df.name.str.fullmatch(\"mbert-lr005-bbs32\")]\n",
    "mbert_bs = runs_df[runs_df.name.str.fullmatch(\"mbert-bbs32\")]\n",
    "mbert_bs5 = runs_df[runs_df.name.str.fullmatch(\"mbert-lr05-bbs32\")]\n",
    "\n",
    "mbert_bs = pd.concat([mbert_bs0, mbert_bs, mbert_bs5])"
   ]
  },
  {
   "cell_type": "code",
   "execution_count": null,
   "id": "ef719f46",
   "metadata": {
    "pycharm": {
     "name": "#%%\n"
    }
   },
   "outputs": [],
   "source": [
    "mbert_bs = pd.DataFrame({\n",
    "        \"test/accuracy\": [s[\"test/accuracy\"] for s in mbert_bs.summary],\n",
    "        \"lr\": [c[\"learning_rate\"] for c in mbert_bs.config],\n",
    "})"
   ]
  },
  {
   "cell_type": "code",
   "execution_count": null,
   "id": "23b6ab52",
   "metadata": {
    "pycharm": {
     "name": "#%%\n"
    }
   },
   "outputs": [],
   "source": [
    "fig = go.Figure(layout=dict(height=700, width=900))\n",
    "fig.add_trace(go.Bar(x=mbert_bs[\"lr\"], y=mbert_bs[\"test/accuracy\"]))\n",
    "fig.update_layout(xaxis_title=\"SGD learning rates\",\n",
    "                   yaxis_title='Test accuracy',\n",
    "                 xaxis=dict(type='category'),\n",
    "                 yaxis_range=[0.9,0.93])\n",
    "fig.show()"
   ]
  },
  {
   "cell_type": "code",
   "execution_count": null,
   "id": "2a509ca9",
   "metadata": {
    "pycharm": {
     "name": "#%%\n"
    }
   },
   "outputs": [],
   "source": []
  }
 ],
 "metadata": {
  "kernelspec": {
   "display_name": "Python 3 (ipykernel)",
   "language": "python",
   "name": "python3"
  },
  "language_info": {
   "codemirror_mode": {
    "name": "ipython",
    "version": 3
   },
   "file_extension": ".py",
   "mimetype": "text/x-python",
   "name": "python",
   "nbconvert_exporter": "python",
   "pygments_lexer": "ipython3",
   "version": "3.9.13"
  },
  "vscode": {
   "interpreter": {
    "hash": "b00560f85506a96f756a20f1ec758ba7e58bab47875298fd1378cbdb6f991790"
   }
  }
 },
 "nbformat": 4,
 "nbformat_minor": 5
}