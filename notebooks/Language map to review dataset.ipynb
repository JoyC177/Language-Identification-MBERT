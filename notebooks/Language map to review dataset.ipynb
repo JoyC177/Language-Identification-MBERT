{
 "cells": [
  {
   "cell_type": "markdown",
   "source": [
    "New dataset:\n",
    "https://huggingface.co/datasets/papluca/language-identification\n",
    "\n",
    "arabic (ar), bulgarian (bg), german (de), modern greek (el), english (en), spanish (es), french (fr), hindi (hi), italian (it), japanese (ja), dutch (nl), polish (pl), portuguese (pt), russian (ru), swahili (sw), thai (th), turkish (tr), urdu (ur), vietnamese (vi), and chinese (zh)"
   ],
   "metadata": {
    "collapsed": false,
    "pycharm": {
     "name": "#%% md\n"
    }
   }
  },
  {
   "cell_type": "code",
   "execution_count": 5,
   "outputs": [],
   "source": [
    "from collections import defaultdict\n",
    "\n",
    "language_map = {\n",
    "    \"ara\": \"ar\",\n",
    "    \"bul\": \"bg\",\n",
    "    \"deu\": \"de\",\n",
    "    \"ell\": \"el\",\n",
    "    \"eng\": \"en\",\n",
    "    \"spa\": \"es\",\n",
    "    \"fra\": \"fr\",\n",
    "    \"hin\": \"hi\",\n",
    "    \"ita\": \"it\",\n",
    "    \"jpn\": \"ja\",\n",
    "    \"nld\": \"nl\",\n",
    "    \"pol\": \"pl\",\n",
    "    \"por\": \"pt\",\n",
    "    \"rus\": \"ru\",\n",
    "    \"swa\": \"sw\",\n",
    "    \"tha\": \"th\",\n",
    "    \"tur\": \"tr\",\n",
    "    \"urd\": \"ur\",\n",
    "    \"vie\": \"vi\",\n",
    "    \"zho\": \"zh\",\n",
    "}\n",
    "\n",
    "wili_to_papluca = defaultdict(lambda: \"OOD\", language_map)"
   ],
   "metadata": {
    "collapsed": false,
    "pycharm": {
     "name": "#%%\n"
    }
   }
  },
  {
   "cell_type": "code",
   "execution_count": 6,
   "outputs": [
    {
     "data": {
      "text/plain": "'tr'"
     },
     "execution_count": 6,
     "metadata": {},
     "output_type": "execute_result"
    }
   ],
   "source": [
    "wili_to_papluca[\"tur\"]"
   ],
   "metadata": {
    "collapsed": false,
    "pycharm": {
     "name": "#%%\n"
    }
   }
  },
  {
   "cell_type": "code",
   "execution_count": 7,
   "outputs": [
    {
     "data": {
      "text/plain": "'OOD'"
     },
     "execution_count": 7,
     "metadata": {},
     "output_type": "execute_result"
    }
   ],
   "source": [
    "wili_to_papluca[\"hbs\"]"
   ],
   "metadata": {
    "collapsed": false,
    "pycharm": {
     "name": "#%%\n"
    }
   }
  }
 ],
 "metadata": {
  "kernelspec": {
   "display_name": "Python 3",
   "language": "python",
   "name": "python3"
  },
  "language_info": {
   "codemirror_mode": {
    "name": "ipython",
    "version": 2
   },
   "file_extension": ".py",
   "mimetype": "text/x-python",
   "name": "python",
   "nbconvert_exporter": "python",
   "pygments_lexer": "ipython2",
   "version": "2.7.6"
  }
 },
 "nbformat": 4,
 "nbformat_minor": 0
}