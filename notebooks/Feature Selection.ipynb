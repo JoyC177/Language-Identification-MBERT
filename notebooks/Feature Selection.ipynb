{
 "cells": [
  {
   "cell_type": "markdown",
   "id": "ace98564",
   "metadata": {
    "pycharm": {
     "name": "#%% md\n"
    }
   },
   "source": [
    "## Load data"
   ]
  },
  {
   "cell_type": "code",
   "execution_count": 1,
   "id": "47d4d7ce",
   "metadata": {
    "pycharm": {
     "name": "#%%\n"
    }
   },
   "outputs": [],
   "source": [
    "import unicodedata\n",
    "import numpy as np\n",
    "import pandas as pd\n",
    "from collections import Counter\n",
    "import matplotlib.pyplot as plt"
   ]
  },
  {
   "cell_type": "code",
   "execution_count": 2,
   "id": "a39d8c51",
   "metadata": {
    "pycharm": {
     "name": "#%%\n"
    }
   },
   "outputs": [],
   "source": [
    "df = pd.read_csv('../data/train_pre.csv')"
   ]
  },
  {
   "cell_type": "code",
   "execution_count": 3,
   "id": "d7a25991",
   "metadata": {
    "pycharm": {
     "name": "#%%\n"
    }
   },
   "outputs": [],
   "source": [
    "# pretty much useless features\n",
    "df = df.drop(columns=['Nd', 'Cc', 'No', 'Nl', 'Co', 'Cn'])\n",
    "df = df.reset_index()"
   ]
  },
  {
   "cell_type": "code",
   "execution_count": 4,
   "id": "8600e81e",
   "metadata": {
    "pycharm": {
     "name": "#%%\n"
    }
   },
   "outputs": [
    {
     "name": "stdout",
     "output_type": "stream",
     "text": [
      "              index      Lu       Ll      Zs      Po     Pd     Ps     Pe  \\\n",
      "Language                                                                    \n",
      "ace       60549.632  13.472  223.534  43.992   7.480  0.784  0.434  0.432   \n",
      "afr       60773.022  13.716  331.412  69.256   9.190  1.276  0.636  0.636   \n",
      "als       60433.918  21.422  265.276  56.234   8.472  0.900  0.796  0.710   \n",
      "amh       60198.206   0.676    4.290  56.952   8.312  0.534  0.944  0.934   \n",
      "ang       58769.148  10.642  207.452  41.732   6.336  0.348  0.542  0.532   \n",
      "...             ...     ...      ...     ...     ...    ...    ...    ...   \n",
      "yid       56569.846   0.678    4.182  59.784   8.054  0.506  0.490  0.490   \n",
      "yor       60713.550  13.836  242.096  62.848   7.888  1.432  1.120  1.122   \n",
      "zea       57323.832  10.920  227.444  50.208  11.152  0.850  0.382  0.380   \n",
      "zh-yue    57598.768   3.958   35.150   7.086  14.244  0.376  2.500  2.498   \n",
      "zho       61318.910   5.762   12.770   2.656  17.778  0.372  2.296  2.300   \n",
      "\n",
      "               Lo     Mc     Mn     Pi     Pf     Cf     Sm     Lm     So  \\\n",
      "Language                                                                    \n",
      "ace         0.530  0.010  0.028  0.008  0.064  0.032  0.004  0.002  0.022   \n",
      "afr         0.068  0.000  0.000  0.074  0.454  0.010  0.020  0.004  0.006   \n",
      "als         0.096  0.004  0.020  0.202  0.174  0.004  0.018  0.050  0.012   \n",
      "amh       217.340  0.006  0.340  0.538  0.564  0.000  0.034  0.006  0.078   \n",
      "ang         0.190  0.034  0.048  0.008  0.006  0.002  0.006  0.004  0.004   \n",
      "...           ...    ...    ...    ...    ...    ...    ...    ...    ...   \n",
      "yid       277.694  0.006  2.932  0.006  0.006  0.092  0.010  0.004  0.020   \n",
      "yor         0.514  0.038  4.464  0.072  0.096  0.030  0.008  0.152  0.002   \n",
      "zea         0.146  0.002  0.010  0.090  0.410  0.004  0.004  0.000  0.002   \n",
      "zh-yue    136.054  0.018  0.022  0.032  0.038  0.016  0.050  0.078  0.034   \n",
      "zho       194.570  0.000  0.010  0.622  0.648  0.006  0.054  0.004  0.016   \n",
      "\n",
      "             Sc     Sk     Pc  \n",
      "Language                       \n",
      "ace       0.000  0.000  0.000  \n",
      "afr       0.036  0.000  0.000  \n",
      "als       0.002  0.002  0.000  \n",
      "amh       0.004  0.000  0.002  \n",
      "ang       0.016  0.000  0.000  \n",
      "...         ...    ...    ...  \n",
      "yid       0.004  0.000  0.010  \n",
      "yor       0.012  0.016  0.000  \n",
      "zea       0.002  0.014  0.000  \n",
      "zh-yue    0.008  0.002  0.000  \n",
      "zho       0.006  0.000  0.000  \n",
      "\n",
      "[234 rows x 20 columns]\n"
     ]
    }
   ],
   "source": [
    "lang_means = df.groupby([\"Language\"]).mean()\n",
    "print(lang_means)"
   ]
  },
  {
   "cell_type": "code",
   "execution_count": 5,
   "id": "fd894413",
   "metadata": {
    "pycharm": {
     "name": "#%%\n"
    }
   },
   "outputs": [
    {
     "name": "stdout",
     "output_type": "stream",
     "text": [
      "0         est\n",
      "1         swe\n",
      "2         mai\n",
      "3         oci\n",
      "4         tha\n",
      "         ... \n",
      "117495    bos\n",
      "117496    lim\n",
      "117497    lzh\n",
      "117498    dan\n",
      "117499    isl\n",
      "Name: Language, Length: 117500, dtype: object\n"
     ]
    }
   ],
   "source": [
    "lang_vec = df['Language']\n",
    "print(lang_vec)"
   ]
  },
  {
   "cell_type": "code",
   "execution_count": 6,
   "id": "f7f07870",
   "metadata": {
    "pycharm": {
     "name": "#%%\n"
    }
   },
   "outputs": [],
   "source": [
    "# One hot encoding of the languages\n",
    "onehot_lang = pd.get_dummies(lang_vec, prefix='Lang')"
   ]
  },
  {
   "cell_type": "code",
   "execution_count": 7,
   "id": "d43841ed",
   "metadata": {
    "pycharm": {
     "name": "#%%\n"
    }
   },
   "outputs": [
    {
     "name": "stdout",
     "output_type": "stream",
     "text": [
      "        Lu   Ll   Zs  Po  Pd  Ps  Pe   Lo  Mc  Mn  Pi  Pf  Cf  Sm  Lm  So  Sc  \\\n",
      "0        9  283   45   6   2   0   0    0   0   0   0   0   0   0   0   0   0   \n",
      "1       17  120   31  11   3   3   3    0   0   0   0   0   0   0   0   0   0   \n",
      "2        0    0   63   8   0   0   0  237  61  67   0   0   0   0   0   0   0   \n",
      "3       42  750  159  37   1  16  15    0   0   0   2   4   0   0   0   0   0   \n",
      "4        3   15   13   1   0   1   1  179   0  41   0   0   0   0   0   0   0   \n",
      "...     ..  ...  ...  ..  ..  ..  ..  ...  ..  ..  ..  ..  ..  ..  ..  ..  ..   \n",
      "117495  26  792  187  27   0   3   3    0   0   0   0   0   0   0   0   0   0   \n",
      "117496  14  200   45   9   1   0   0    0   0   0   0   0   0   0   0   0   0   \n",
      "117497   0    0    0  34   0   1   1  195   0   0   0   0   0   0   0   0   0   \n",
      "117498  19  495  106  16   0   0   0    0   0   0   0   0   0   0   0   0   0   \n",
      "117499   6  238   46   4   0   0   0    0   0   0   0   0   0   0   0   0   0   \n",
      "\n",
      "        Sk  Pc  \n",
      "0        0   0  \n",
      "1        0   0  \n",
      "2        0   0  \n",
      "3        0   0  \n",
      "4        0   0  \n",
      "...     ..  ..  \n",
      "117495   0   0  \n",
      "117496   0   0  \n",
      "117497   0   0  \n",
      "117498   0   0  \n",
      "117499   0   0  \n",
      "\n",
      "[117500 rows x 19 columns]\n"
     ]
    }
   ],
   "source": [
    "data = df.drop('Language', axis=1).drop('index', axis=1)\n",
    "print(data)"
   ]
  },
  {
   "cell_type": "code",
   "execution_count": 8,
   "id": "bd28a4c5",
   "metadata": {
    "pycharm": {
     "name": "#%%\n"
    }
   },
   "outputs": [
    {
     "name": "stdout",
     "output_type": "stream",
     "text": [
      "Lu     1156\n",
      "Ll     7592\n",
      "Zs     4506\n",
      "Po    10324\n",
      "Pd      417\n",
      "Ps      237\n",
      "Pe      347\n",
      "Lo    30418\n",
      "Mc     1666\n",
      "Mn     9174\n",
      "Pi       79\n",
      "Pf       72\n",
      "Cf      768\n",
      "Sm     1000\n",
      "Lm      156\n",
      "So      217\n",
      "Sc       10\n",
      "Sk       68\n",
      "Pc       33\n",
      "dtype: int64\n"
     ]
    }
   ],
   "source": [
    "# Print the maximum per column\n",
    "print(data.max(axis=0))"
   ]
  },
  {
   "cell_type": "code",
   "execution_count": 9,
   "id": "7794d9b2",
   "metadata": {
    "pycharm": {
     "name": "#%%\n"
    }
   },
   "outputs": [
    {
     "data": {
      "text/html": [
       "<div>\n",
       "<style scoped>\n",
       "    .dataframe tbody tr th:only-of-type {\n",
       "        vertical-align: middle;\n",
       "    }\n",
       "\n",
       "    .dataframe tbody tr th {\n",
       "        vertical-align: top;\n",
       "    }\n",
       "\n",
       "    .dataframe thead th {\n",
       "        text-align: right;\n",
       "    }\n",
       "</style>\n",
       "<table border=\"1\" class=\"dataframe\">\n",
       "  <thead>\n",
       "    <tr style=\"text-align: right;\">\n",
       "      <th></th>\n",
       "      <th>Lu</th>\n",
       "      <th>Ll</th>\n",
       "      <th>Zs</th>\n",
       "      <th>Po</th>\n",
       "      <th>Pd</th>\n",
       "      <th>Ps</th>\n",
       "      <th>Pe</th>\n",
       "      <th>Lo</th>\n",
       "      <th>Mc</th>\n",
       "      <th>Mn</th>\n",
       "      <th>Pi</th>\n",
       "      <th>Pf</th>\n",
       "      <th>Cf</th>\n",
       "      <th>Sm</th>\n",
       "      <th>Lm</th>\n",
       "      <th>So</th>\n",
       "      <th>Sc</th>\n",
       "      <th>Sk</th>\n",
       "      <th>Pc</th>\n",
       "    </tr>\n",
       "  </thead>\n",
       "  <tbody>\n",
       "    <tr>\n",
       "      <th>0</th>\n",
       "      <td>0.007785</td>\n",
       "      <td>0.037276</td>\n",
       "      <td>0.009987</td>\n",
       "      <td>0.000581</td>\n",
       "      <td>0.004796</td>\n",
       "      <td>0.000000</td>\n",
       "      <td>0.000000</td>\n",
       "      <td>0.000000</td>\n",
       "      <td>0.000000</td>\n",
       "      <td>0.000000</td>\n",
       "      <td>0.000000</td>\n",
       "      <td>0.000000</td>\n",
       "      <td>0.0</td>\n",
       "      <td>0.0</td>\n",
       "      <td>0.0</td>\n",
       "      <td>0.0</td>\n",
       "      <td>0.0</td>\n",
       "      <td>0.0</td>\n",
       "      <td>0.0</td>\n",
       "    </tr>\n",
       "    <tr>\n",
       "      <th>1</th>\n",
       "      <td>0.014706</td>\n",
       "      <td>0.015806</td>\n",
       "      <td>0.006880</td>\n",
       "      <td>0.001065</td>\n",
       "      <td>0.007194</td>\n",
       "      <td>0.012658</td>\n",
       "      <td>0.008646</td>\n",
       "      <td>0.000000</td>\n",
       "      <td>0.000000</td>\n",
       "      <td>0.000000</td>\n",
       "      <td>0.000000</td>\n",
       "      <td>0.000000</td>\n",
       "      <td>0.0</td>\n",
       "      <td>0.0</td>\n",
       "      <td>0.0</td>\n",
       "      <td>0.0</td>\n",
       "      <td>0.0</td>\n",
       "      <td>0.0</td>\n",
       "      <td>0.0</td>\n",
       "    </tr>\n",
       "    <tr>\n",
       "      <th>2</th>\n",
       "      <td>0.000000</td>\n",
       "      <td>0.000000</td>\n",
       "      <td>0.013981</td>\n",
       "      <td>0.000775</td>\n",
       "      <td>0.000000</td>\n",
       "      <td>0.000000</td>\n",
       "      <td>0.000000</td>\n",
       "      <td>0.007791</td>\n",
       "      <td>0.036615</td>\n",
       "      <td>0.007303</td>\n",
       "      <td>0.000000</td>\n",
       "      <td>0.000000</td>\n",
       "      <td>0.0</td>\n",
       "      <td>0.0</td>\n",
       "      <td>0.0</td>\n",
       "      <td>0.0</td>\n",
       "      <td>0.0</td>\n",
       "      <td>0.0</td>\n",
       "      <td>0.0</td>\n",
       "    </tr>\n",
       "    <tr>\n",
       "      <th>3</th>\n",
       "      <td>0.036332</td>\n",
       "      <td>0.098788</td>\n",
       "      <td>0.035286</td>\n",
       "      <td>0.003584</td>\n",
       "      <td>0.002398</td>\n",
       "      <td>0.067511</td>\n",
       "      <td>0.043228</td>\n",
       "      <td>0.000000</td>\n",
       "      <td>0.000000</td>\n",
       "      <td>0.000000</td>\n",
       "      <td>0.025316</td>\n",
       "      <td>0.055556</td>\n",
       "      <td>0.0</td>\n",
       "      <td>0.0</td>\n",
       "      <td>0.0</td>\n",
       "      <td>0.0</td>\n",
       "      <td>0.0</td>\n",
       "      <td>0.0</td>\n",
       "      <td>0.0</td>\n",
       "    </tr>\n",
       "    <tr>\n",
       "      <th>4</th>\n",
       "      <td>0.002595</td>\n",
       "      <td>0.001976</td>\n",
       "      <td>0.002885</td>\n",
       "      <td>0.000097</td>\n",
       "      <td>0.000000</td>\n",
       "      <td>0.004219</td>\n",
       "      <td>0.002882</td>\n",
       "      <td>0.005885</td>\n",
       "      <td>0.000000</td>\n",
       "      <td>0.004469</td>\n",
       "      <td>0.000000</td>\n",
       "      <td>0.000000</td>\n",
       "      <td>0.0</td>\n",
       "      <td>0.0</td>\n",
       "      <td>0.0</td>\n",
       "      <td>0.0</td>\n",
       "      <td>0.0</td>\n",
       "      <td>0.0</td>\n",
       "      <td>0.0</td>\n",
       "    </tr>\n",
       "    <tr>\n",
       "      <th>...</th>\n",
       "      <td>...</td>\n",
       "      <td>...</td>\n",
       "      <td>...</td>\n",
       "      <td>...</td>\n",
       "      <td>...</td>\n",
       "      <td>...</td>\n",
       "      <td>...</td>\n",
       "      <td>...</td>\n",
       "      <td>...</td>\n",
       "      <td>...</td>\n",
       "      <td>...</td>\n",
       "      <td>...</td>\n",
       "      <td>...</td>\n",
       "      <td>...</td>\n",
       "      <td>...</td>\n",
       "      <td>...</td>\n",
       "      <td>...</td>\n",
       "      <td>...</td>\n",
       "      <td>...</td>\n",
       "    </tr>\n",
       "    <tr>\n",
       "      <th>117495</th>\n",
       "      <td>0.022491</td>\n",
       "      <td>0.104320</td>\n",
       "      <td>0.041500</td>\n",
       "      <td>0.002615</td>\n",
       "      <td>0.000000</td>\n",
       "      <td>0.012658</td>\n",
       "      <td>0.008646</td>\n",
       "      <td>0.000000</td>\n",
       "      <td>0.000000</td>\n",
       "      <td>0.000000</td>\n",
       "      <td>0.000000</td>\n",
       "      <td>0.000000</td>\n",
       "      <td>0.0</td>\n",
       "      <td>0.0</td>\n",
       "      <td>0.0</td>\n",
       "      <td>0.0</td>\n",
       "      <td>0.0</td>\n",
       "      <td>0.0</td>\n",
       "      <td>0.0</td>\n",
       "    </tr>\n",
       "    <tr>\n",
       "      <th>117496</th>\n",
       "      <td>0.012111</td>\n",
       "      <td>0.026344</td>\n",
       "      <td>0.009987</td>\n",
       "      <td>0.000872</td>\n",
       "      <td>0.002398</td>\n",
       "      <td>0.000000</td>\n",
       "      <td>0.000000</td>\n",
       "      <td>0.000000</td>\n",
       "      <td>0.000000</td>\n",
       "      <td>0.000000</td>\n",
       "      <td>0.000000</td>\n",
       "      <td>0.000000</td>\n",
       "      <td>0.0</td>\n",
       "      <td>0.0</td>\n",
       "      <td>0.0</td>\n",
       "      <td>0.0</td>\n",
       "      <td>0.0</td>\n",
       "      <td>0.0</td>\n",
       "      <td>0.0</td>\n",
       "    </tr>\n",
       "    <tr>\n",
       "      <th>117497</th>\n",
       "      <td>0.000000</td>\n",
       "      <td>0.000000</td>\n",
       "      <td>0.000000</td>\n",
       "      <td>0.003293</td>\n",
       "      <td>0.000000</td>\n",
       "      <td>0.004219</td>\n",
       "      <td>0.002882</td>\n",
       "      <td>0.006411</td>\n",
       "      <td>0.000000</td>\n",
       "      <td>0.000000</td>\n",
       "      <td>0.000000</td>\n",
       "      <td>0.000000</td>\n",
       "      <td>0.0</td>\n",
       "      <td>0.0</td>\n",
       "      <td>0.0</td>\n",
       "      <td>0.0</td>\n",
       "      <td>0.0</td>\n",
       "      <td>0.0</td>\n",
       "      <td>0.0</td>\n",
       "    </tr>\n",
       "    <tr>\n",
       "      <th>117498</th>\n",
       "      <td>0.016436</td>\n",
       "      <td>0.065200</td>\n",
       "      <td>0.023524</td>\n",
       "      <td>0.001550</td>\n",
       "      <td>0.000000</td>\n",
       "      <td>0.000000</td>\n",
       "      <td>0.000000</td>\n",
       "      <td>0.000000</td>\n",
       "      <td>0.000000</td>\n",
       "      <td>0.000000</td>\n",
       "      <td>0.000000</td>\n",
       "      <td>0.000000</td>\n",
       "      <td>0.0</td>\n",
       "      <td>0.0</td>\n",
       "      <td>0.0</td>\n",
       "      <td>0.0</td>\n",
       "      <td>0.0</td>\n",
       "      <td>0.0</td>\n",
       "      <td>0.0</td>\n",
       "    </tr>\n",
       "    <tr>\n",
       "      <th>117499</th>\n",
       "      <td>0.005190</td>\n",
       "      <td>0.031349</td>\n",
       "      <td>0.010209</td>\n",
       "      <td>0.000387</td>\n",
       "      <td>0.000000</td>\n",
       "      <td>0.000000</td>\n",
       "      <td>0.000000</td>\n",
       "      <td>0.000000</td>\n",
       "      <td>0.000000</td>\n",
       "      <td>0.000000</td>\n",
       "      <td>0.000000</td>\n",
       "      <td>0.000000</td>\n",
       "      <td>0.0</td>\n",
       "      <td>0.0</td>\n",
       "      <td>0.0</td>\n",
       "      <td>0.0</td>\n",
       "      <td>0.0</td>\n",
       "      <td>0.0</td>\n",
       "      <td>0.0</td>\n",
       "    </tr>\n",
       "  </tbody>\n",
       "</table>\n",
       "<p>117500 rows × 19 columns</p>\n",
       "</div>"
      ],
      "text/plain": [
       "              Lu        Ll        Zs        Po        Pd        Ps        Pe  \\\n",
       "0       0.007785  0.037276  0.009987  0.000581  0.004796  0.000000  0.000000   \n",
       "1       0.014706  0.015806  0.006880  0.001065  0.007194  0.012658  0.008646   \n",
       "2       0.000000  0.000000  0.013981  0.000775  0.000000  0.000000  0.000000   \n",
       "3       0.036332  0.098788  0.035286  0.003584  0.002398  0.067511  0.043228   \n",
       "4       0.002595  0.001976  0.002885  0.000097  0.000000  0.004219  0.002882   \n",
       "...          ...       ...       ...       ...       ...       ...       ...   \n",
       "117495  0.022491  0.104320  0.041500  0.002615  0.000000  0.012658  0.008646   \n",
       "117496  0.012111  0.026344  0.009987  0.000872  0.002398  0.000000  0.000000   \n",
       "117497  0.000000  0.000000  0.000000  0.003293  0.000000  0.004219  0.002882   \n",
       "117498  0.016436  0.065200  0.023524  0.001550  0.000000  0.000000  0.000000   \n",
       "117499  0.005190  0.031349  0.010209  0.000387  0.000000  0.000000  0.000000   \n",
       "\n",
       "              Lo        Mc        Mn        Pi        Pf   Cf   Sm   Lm   So  \\\n",
       "0       0.000000  0.000000  0.000000  0.000000  0.000000  0.0  0.0  0.0  0.0   \n",
       "1       0.000000  0.000000  0.000000  0.000000  0.000000  0.0  0.0  0.0  0.0   \n",
       "2       0.007791  0.036615  0.007303  0.000000  0.000000  0.0  0.0  0.0  0.0   \n",
       "3       0.000000  0.000000  0.000000  0.025316  0.055556  0.0  0.0  0.0  0.0   \n",
       "4       0.005885  0.000000  0.004469  0.000000  0.000000  0.0  0.0  0.0  0.0   \n",
       "...          ...       ...       ...       ...       ...  ...  ...  ...  ...   \n",
       "117495  0.000000  0.000000  0.000000  0.000000  0.000000  0.0  0.0  0.0  0.0   \n",
       "117496  0.000000  0.000000  0.000000  0.000000  0.000000  0.0  0.0  0.0  0.0   \n",
       "117497  0.006411  0.000000  0.000000  0.000000  0.000000  0.0  0.0  0.0  0.0   \n",
       "117498  0.000000  0.000000  0.000000  0.000000  0.000000  0.0  0.0  0.0  0.0   \n",
       "117499  0.000000  0.000000  0.000000  0.000000  0.000000  0.0  0.0  0.0  0.0   \n",
       "\n",
       "         Sc   Sk   Pc  \n",
       "0       0.0  0.0  0.0  \n",
       "1       0.0  0.0  0.0  \n",
       "2       0.0  0.0  0.0  \n",
       "3       0.0  0.0  0.0  \n",
       "4       0.0  0.0  0.0  \n",
       "...     ...  ...  ...  \n",
       "117495  0.0  0.0  0.0  \n",
       "117496  0.0  0.0  0.0  \n",
       "117497  0.0  0.0  0.0  \n",
       "117498  0.0  0.0  0.0  \n",
       "117499  0.0  0.0  0.0  \n",
       "\n",
       "[117500 rows x 19 columns]"
      ]
     },
     "execution_count": 9,
     "metadata": {},
     "output_type": "execute_result"
    }
   ],
   "source": [
    "# Normalize the data over the maximum per column\n",
    "max_norm_data = data / data.max(axis=0)\n",
    "max_norm_data"
   ]
  },
  {
   "cell_type": "code",
   "execution_count": 10,
   "id": "e35d96e6",
   "metadata": {
    "pycharm": {
     "name": "#%%\n"
    }
   },
   "outputs": [
    {
     "name": "stdout",
     "output_type": "stream",
     "text": [
      "              Lu        Ll        Zs        Po        Pd        Ps        Pe  \\\n",
      "0       0.026087  0.820290  0.130435  0.017391  0.005797  0.000000  0.000000   \n",
      "1       0.090426  0.638298  0.164894  0.058511  0.015957  0.015957  0.015957   \n",
      "2       0.000000  0.000000  0.144495  0.018349  0.000000  0.000000  0.000000   \n",
      "3       0.040936  0.730994  0.154971  0.036062  0.000975  0.015595  0.014620   \n",
      "4       0.011811  0.059055  0.051181  0.003937  0.000000  0.003937  0.003937   \n",
      "...          ...       ...       ...       ...       ...       ...       ...   \n",
      "117495  0.025048  0.763006  0.180154  0.026012  0.000000  0.002890  0.002890   \n",
      "117496  0.052045  0.743494  0.167286  0.033457  0.003717  0.000000  0.000000   \n",
      "117497  0.000000  0.000000  0.000000  0.147186  0.000000  0.004329  0.004329   \n",
      "117498  0.029874  0.778302  0.166667  0.025157  0.000000  0.000000  0.000000   \n",
      "117499  0.020408  0.809524  0.156463  0.013605  0.000000  0.000000  0.000000   \n",
      "\n",
      "              Lo        Mc        Mn        Pi        Pf   Cf   Sm   Lm   So  \\\n",
      "0       0.000000  0.000000  0.000000  0.000000  0.000000  0.0  0.0  0.0  0.0   \n",
      "1       0.000000  0.000000  0.000000  0.000000  0.000000  0.0  0.0  0.0  0.0   \n",
      "2       0.543578  0.139908  0.153670  0.000000  0.000000  0.0  0.0  0.0  0.0   \n",
      "3       0.000000  0.000000  0.000000  0.001949  0.003899  0.0  0.0  0.0  0.0   \n",
      "4       0.704724  0.000000  0.161417  0.000000  0.000000  0.0  0.0  0.0  0.0   \n",
      "...          ...       ...       ...       ...       ...  ...  ...  ...  ...   \n",
      "117495  0.000000  0.000000  0.000000  0.000000  0.000000  0.0  0.0  0.0  0.0   \n",
      "117496  0.000000  0.000000  0.000000  0.000000  0.000000  0.0  0.0  0.0  0.0   \n",
      "117497  0.844156  0.000000  0.000000  0.000000  0.000000  0.0  0.0  0.0  0.0   \n",
      "117498  0.000000  0.000000  0.000000  0.000000  0.000000  0.0  0.0  0.0  0.0   \n",
      "117499  0.000000  0.000000  0.000000  0.000000  0.000000  0.0  0.0  0.0  0.0   \n",
      "\n",
      "         Sc   Sk   Pc  \n",
      "0       0.0  0.0  0.0  \n",
      "1       0.0  0.0  0.0  \n",
      "2       0.0  0.0  0.0  \n",
      "3       0.0  0.0  0.0  \n",
      "4       0.0  0.0  0.0  \n",
      "...     ...  ...  ...  \n",
      "117495  0.0  0.0  0.0  \n",
      "117496  0.0  0.0  0.0  \n",
      "117497  0.0  0.0  0.0  \n",
      "117498  0.0  0.0  0.0  \n",
      "117499  0.0  0.0  0.0  \n",
      "\n",
      "[117500 rows x 19 columns]\n"
     ]
    }
   ],
   "source": [
    "norm_data = data.div(data.sum(axis=1), axis=0)\n",
    "print(norm_data)"
   ]
  },
  {
   "cell_type": "markdown",
   "id": "1759bb26",
   "metadata": {
    "pycharm": {
     "name": "#%% md\n"
    }
   },
   "source": [
    "### VarianceThresholding for feature selection"
   ]
  },
  {
   "cell_type": "code",
   "execution_count": null,
   "id": "b2fdf7ce",
   "metadata": {
    "pycharm": {
     "name": "#%%\n"
    }
   },
   "outputs": [],
   "source": [
    "from sklearn.feature_selection import VarianceThreshold\n",
    "\n",
    "X = data.to_numpy()\n",
    "Y = norm_data.to_numpy()\n",
    "print(X.shape)\n",
    "print(Y.shape)"
   ]
  },
  {
   "cell_type": "code",
   "execution_count": null,
   "id": "47ed8b73",
   "metadata": {
    "pycharm": {
     "name": "#%%\n"
    }
   },
   "outputs": [],
   "source": [
    "selector = VarianceThreshold(0.5)\n",
    "new_x = selector.fit_transform(X)\n",
    "selector = VarianceThreshold(0.00005)\n",
    "new_y = selector.fit_transform(Y)\n",
    "print(new_x.shape)\n",
    "print(new_y.shape)"
   ]
  },
  {
   "cell_type": "markdown",
   "id": "7d556cc1",
   "metadata": {
    "pycharm": {
     "name": "#%% md\n"
    }
   },
   "source": [
    "# Scikit RandomForestClassification"
   ]
  },
  {
   "cell_type": "markdown",
   "id": "c828872d",
   "metadata": {
    "pycharm": {
     "name": "#%% md\n"
    }
   },
   "source": [
    "### Without normalisation of data"
   ]
  },
  {
   "cell_type": "code",
   "execution_count": 9,
   "id": "0afff547",
   "metadata": {
    "pycharm": {
     "name": "#%%\n"
    }
   },
   "outputs": [],
   "source": [
    "from sklearn.ensemble import RandomForestClassifier\n",
    "from sklearn.model_selection import train_test_split\n",
    "\n",
    "# Spliiting data into test and train sets\n",
    "X_train, X_test, y_train, y_test = train_test_split(data, onehot_lang, test_size=0.20, random_state=0)"
   ]
  },
  {
   "cell_type": "code",
   "execution_count": 10,
   "id": "e196115e",
   "metadata": {
    "pycharm": {
     "name": "#%%\n"
    }
   },
   "outputs": [
    {
     "data": {
      "text/html": [
       "<style>#sk-container-id-1 {color: black;background-color: white;}#sk-container-id-1 pre{padding: 0;}#sk-container-id-1 div.sk-toggleable {background-color: white;}#sk-container-id-1 label.sk-toggleable__label {cursor: pointer;display: block;width: 100%;margin-bottom: 0;padding: 0.3em;box-sizing: border-box;text-align: center;}#sk-container-id-1 label.sk-toggleable__label-arrow:before {content: \"▸\";float: left;margin-right: 0.25em;color: #696969;}#sk-container-id-1 label.sk-toggleable__label-arrow:hover:before {color: black;}#sk-container-id-1 div.sk-estimator:hover label.sk-toggleable__label-arrow:before {color: black;}#sk-container-id-1 div.sk-toggleable__content {max-height: 0;max-width: 0;overflow: hidden;text-align: left;background-color: #f0f8ff;}#sk-container-id-1 div.sk-toggleable__content pre {margin: 0.2em;color: black;border-radius: 0.25em;background-color: #f0f8ff;}#sk-container-id-1 input.sk-toggleable__control:checked~div.sk-toggleable__content {max-height: 200px;max-width: 100%;overflow: auto;}#sk-container-id-1 input.sk-toggleable__control:checked~label.sk-toggleable__label-arrow:before {content: \"▾\";}#sk-container-id-1 div.sk-estimator input.sk-toggleable__control:checked~label.sk-toggleable__label {background-color: #d4ebff;}#sk-container-id-1 div.sk-label input.sk-toggleable__control:checked~label.sk-toggleable__label {background-color: #d4ebff;}#sk-container-id-1 input.sk-hidden--visually {border: 0;clip: rect(1px 1px 1px 1px);clip: rect(1px, 1px, 1px, 1px);height: 1px;margin: -1px;overflow: hidden;padding: 0;position: absolute;width: 1px;}#sk-container-id-1 div.sk-estimator {font-family: monospace;background-color: #f0f8ff;border: 1px dotted black;border-radius: 0.25em;box-sizing: border-box;margin-bottom: 0.5em;}#sk-container-id-1 div.sk-estimator:hover {background-color: #d4ebff;}#sk-container-id-1 div.sk-parallel-item::after {content: \"\";width: 100%;border-bottom: 1px solid gray;flex-grow: 1;}#sk-container-id-1 div.sk-label:hover label.sk-toggleable__label {background-color: #d4ebff;}#sk-container-id-1 div.sk-serial::before {content: \"\";position: absolute;border-left: 1px solid gray;box-sizing: border-box;top: 0;bottom: 0;left: 50%;z-index: 0;}#sk-container-id-1 div.sk-serial {display: flex;flex-direction: column;align-items: center;background-color: white;padding-right: 0.2em;padding-left: 0.2em;position: relative;}#sk-container-id-1 div.sk-item {position: relative;z-index: 1;}#sk-container-id-1 div.sk-parallel {display: flex;align-items: stretch;justify-content: center;background-color: white;position: relative;}#sk-container-id-1 div.sk-item::before, #sk-container-id-1 div.sk-parallel-item::before {content: \"\";position: absolute;border-left: 1px solid gray;box-sizing: border-box;top: 0;bottom: 0;left: 50%;z-index: -1;}#sk-container-id-1 div.sk-parallel-item {display: flex;flex-direction: column;z-index: 1;position: relative;background-color: white;}#sk-container-id-1 div.sk-parallel-item:first-child::after {align-self: flex-end;width: 50%;}#sk-container-id-1 div.sk-parallel-item:last-child::after {align-self: flex-start;width: 50%;}#sk-container-id-1 div.sk-parallel-item:only-child::after {width: 0;}#sk-container-id-1 div.sk-dashed-wrapped {border: 1px dashed gray;margin: 0 0.4em 0.5em 0.4em;box-sizing: border-box;padding-bottom: 0.4em;background-color: white;}#sk-container-id-1 div.sk-label label {font-family: monospace;font-weight: bold;display: inline-block;line-height: 1.2em;}#sk-container-id-1 div.sk-label-container {text-align: center;}#sk-container-id-1 div.sk-container {/* jupyter's `normalize.less` sets `[hidden] { display: none; }` but bootstrap.min.css set `[hidden] { display: none !important; }` so we also need the `!important` here to be able to override the default hidden behavior on the sphinx rendered scikit-learn.org. See: https://github.com/scikit-learn/scikit-learn/issues/21755 */display: inline-block !important;position: relative;}#sk-container-id-1 div.sk-text-repr-fallback {display: none;}</style><div id=\"sk-container-id-1\" class=\"sk-top-container\"><div class=\"sk-text-repr-fallback\"><pre>RandomForestClassifier(n_estimators=50, n_jobs=-1, random_state=42)</pre><b>In a Jupyter environment, please rerun this cell to show the HTML representation or trust the notebook. <br />On GitHub, the HTML representation is unable to render, please try loading this page with nbviewer.org.</b></div><div class=\"sk-container\" hidden><div class=\"sk-item\"><div class=\"sk-estimator sk-toggleable\"><input class=\"sk-toggleable__control sk-hidden--visually\" id=\"sk-estimator-id-1\" type=\"checkbox\" checked><label for=\"sk-estimator-id-1\" class=\"sk-toggleable__label sk-toggleable__label-arrow\">RandomForestClassifier</label><div class=\"sk-toggleable__content\"><pre>RandomForestClassifier(n_estimators=50, n_jobs=-1, random_state=42)</pre></div></div></div></div></div>"
      ],
      "text/plain": [
       "RandomForestClassifier(n_estimators=50, n_jobs=-1, random_state=42)"
      ]
     },
     "execution_count": 10,
     "metadata": {},
     "output_type": "execute_result"
    }
   ],
   "source": [
    "# fitting the model\n",
    "model = RandomForestClassifier(n_estimators=50, n_jobs=-1, random_state=42)\n",
    "model.fit(X_train, y_train)"
   ]
  },
  {
   "cell_type": "code",
   "execution_count": 11,
   "id": "86b067da",
   "metadata": {
    "pycharm": {
     "name": "#%%\n"
    }
   },
   "outputs": [
    {
     "data": {
      "image/png": "[encoded data removed]",
      "text/plain": [
       "<Figure size 800x800 with 1 Axes>"
      ]
     },
     "metadata": {},
     "output_type": "display_data"
    }
   ],
   "source": [
    "# plotting feature importances\n",
    "features = df.drop('Language', axis=1).columns\n",
    "features = features.drop('index')\n",
    "importances = model.feature_importances_\n",
    "indices = np.argsort(importances)\n",
    "plt.figure(figsize=(8,8))\n",
    "plt.title('Feature Importances')\n",
    "plt.barh(range(len(indices)), importances[indices], color='b', align='center')\n",
    "plt.yticks(range(len(indices)), [features[i] for i in indices])\n",
    "plt.xlabel('Relative Importance')\n",
    "plt.show()"
   ]
  },
  {
   "cell_type": "code",
   "execution_count": 13,
   "id": "3513c34d",
   "metadata": {
    "pycharm": {
     "name": "#%%\n"
    }
   },
   "outputs": [
    {
     "name": "stdout",
     "output_type": "stream",
     "text": [
      "0.1869787234042553\n"
     ]
    }
   ],
   "source": [
    "from sklearn.metrics import accuracy_score\n",
    "y_pred = model.predict(X_test)\n",
    "\n",
    "predictions = np.round(y_pred)\n",
    "\n",
    "accuracy = accuracy_score(y_test, predictions)\n",
    "print(accuracy)"
   ]
  },
  {
   "cell_type": "markdown",
   "id": "93af9e84",
   "metadata": {
    "pycharm": {
     "name": "#%% md\n"
    }
   },
   "source": [
    "### With normalisation of the data (each feature is a % of the sentence)"
   ]
  },
  {
   "cell_type": "code",
   "execution_count": 9,
   "id": "22c22b17",
   "metadata": {
    "pycharm": {
     "name": "#%%\n"
    }
   },
   "outputs": [],
   "source": [
    "from sklearn.ensemble import RandomForestClassifier\n",
    "from sklearn.model_selection import train_test_split\n",
    "\n",
    "# Spliiting data into test and train sets\n",
    "X_train, X_test, y_train, y_test = train_test_split(norm_data, onehot_lang, test_size=0.20, random_state=0)"
   ]
  },
  {
   "cell_type": "code",
   "execution_count": 10,
   "id": "31a616c7",
   "metadata": {
    "pycharm": {
     "name": "#%%\n"
    }
   },
   "outputs": [
    {
     "data": {
      "text/html": [
       "<style>#sk-container-id-1 {color: black;background-color: white;}#sk-container-id-1 pre{padding: 0;}#sk-container-id-1 div.sk-toggleable {background-color: white;}#sk-container-id-1 label.sk-toggleable__label {cursor: pointer;display: block;width: 100%;margin-bottom: 0;padding: 0.3em;box-sizing: border-box;text-align: center;}#sk-container-id-1 label.sk-toggleable__label-arrow:before {content: \"▸\";float: left;margin-right: 0.25em;color: #696969;}#sk-container-id-1 label.sk-toggleable__label-arrow:hover:before {color: black;}#sk-container-id-1 div.sk-estimator:hover label.sk-toggleable__label-arrow:before {color: black;}#sk-container-id-1 div.sk-toggleable__content {max-height: 0;max-width: 0;overflow: hidden;text-align: left;background-color: #f0f8ff;}#sk-container-id-1 div.sk-toggleable__content pre {margin: 0.2em;color: black;border-radius: 0.25em;background-color: #f0f8ff;}#sk-container-id-1 input.sk-toggleable__control:checked~div.sk-toggleable__content {max-height: 200px;max-width: 100%;overflow: auto;}#sk-container-id-1 input.sk-toggleable__control:checked~label.sk-toggleable__label-arrow:before {content: \"▾\";}#sk-container-id-1 div.sk-estimator input.sk-toggleable__control:checked~label.sk-toggleable__label {background-color: #d4ebff;}#sk-container-id-1 div.sk-label input.sk-toggleable__control:checked~label.sk-toggleable__label {background-color: #d4ebff;}#sk-container-id-1 input.sk-hidden--visually {border: 0;clip: rect(1px 1px 1px 1px);clip: rect(1px, 1px, 1px, 1px);height: 1px;margin: -1px;overflow: hidden;padding: 0;position: absolute;width: 1px;}#sk-container-id-1 div.sk-estimator {font-family: monospace;background-color: #f0f8ff;border: 1px dotted black;border-radius: 0.25em;box-sizing: border-box;margin-bottom: 0.5em;}#sk-container-id-1 div.sk-estimator:hover {background-color: #d4ebff;}#sk-container-id-1 div.sk-parallel-item::after {content: \"\";width: 100%;border-bottom: 1px solid gray;flex-grow: 1;}#sk-container-id-1 div.sk-label:hover label.sk-toggleable__label {background-color: #d4ebff;}#sk-container-id-1 div.sk-serial::before {content: \"\";position: absolute;border-left: 1px solid gray;box-sizing: border-box;top: 0;bottom: 0;left: 50%;z-index: 0;}#sk-container-id-1 div.sk-serial {display: flex;flex-direction: column;align-items: center;background-color: white;padding-right: 0.2em;padding-left: 0.2em;position: relative;}#sk-container-id-1 div.sk-item {position: relative;z-index: 1;}#sk-container-id-1 div.sk-parallel {display: flex;align-items: stretch;justify-content: center;background-color: white;position: relative;}#sk-container-id-1 div.sk-item::before, #sk-container-id-1 div.sk-parallel-item::before {content: \"\";position: absolute;border-left: 1px solid gray;box-sizing: border-box;top: 0;bottom: 0;left: 50%;z-index: -1;}#sk-container-id-1 div.sk-parallel-item {display: flex;flex-direction: column;z-index: 1;position: relative;background-color: white;}#sk-container-id-1 div.sk-parallel-item:first-child::after {align-self: flex-end;width: 50%;}#sk-container-id-1 div.sk-parallel-item:last-child::after {align-self: flex-start;width: 50%;}#sk-container-id-1 div.sk-parallel-item:only-child::after {width: 0;}#sk-container-id-1 div.sk-dashed-wrapped {border: 1px dashed gray;margin: 0 0.4em 0.5em 0.4em;box-sizing: border-box;padding-bottom: 0.4em;background-color: white;}#sk-container-id-1 div.sk-label label {font-family: monospace;font-weight: bold;display: inline-block;line-height: 1.2em;}#sk-container-id-1 div.sk-label-container {text-align: center;}#sk-container-id-1 div.sk-container {/* jupyter's `normalize.less` sets `[hidden] { display: none; }` but bootstrap.min.css set `[hidden] { display: none !important; }` so we also need the `!important` here to be able to override the default hidden behavior on the sphinx rendered scikit-learn.org. See: https://github.com/scikit-learn/scikit-learn/issues/21755 */display: inline-block !important;position: relative;}#sk-container-id-1 div.sk-text-repr-fallback {display: none;}</style><div id=\"sk-container-id-1\" class=\"sk-top-container\"><div class=\"sk-text-repr-fallback\"><pre>RandomForestClassifier(n_estimators=50, n_jobs=-1, random_state=42)</pre><b>In a Jupyter environment, please rerun this cell to show the HTML representation or trust the notebook. <br />On GitHub, the HTML representation is unable to render, please try loading this page with nbviewer.org.</b></div><div class=\"sk-container\" hidden><div class=\"sk-item\"><div class=\"sk-estimator sk-toggleable\"><input class=\"sk-toggleable__control sk-hidden--visually\" id=\"sk-estimator-id-1\" type=\"checkbox\" checked><label for=\"sk-estimator-id-1\" class=\"sk-toggleable__label sk-toggleable__label-arrow\">RandomForestClassifier</label><div class=\"sk-toggleable__content\"><pre>RandomForestClassifier(n_estimators=50, n_jobs=-1, random_state=42)</pre></div></div></div></div></div>"
      ],
      "text/plain": [
       "RandomForestClassifier(n_estimators=50, n_jobs=-1, random_state=42)"
      ]
     },
     "execution_count": 10,
     "metadata": {},
     "output_type": "execute_result"
    }
   ],
   "source": [
    "# fitting the model\n",
    "model = RandomForestClassifier(n_estimators=50, n_jobs=-1, random_state=42)\n",
    "model.fit(X_train, y_train)"
   ]
  },
  {
   "cell_type": "code",
   "execution_count": 11,
   "id": "8c87af0a",
   "metadata": {
    "pycharm": {
     "name": "#%%\n"
    }
   },
   "outputs": [
    {
     "data": {
      "image/png": "[encoded data removed]",
      "text/plain": [
       "<Figure size 800x800 with 1 Axes>"
      ]
     },
     "metadata": {},
     "output_type": "display_data"
    }
   ],
   "source": [
    "# plotting feature importances\n",
    "features = df.drop('Language', axis=1).columns\n",
    "features = features.drop('index')\n",
    "importances = model.feature_importances_\n",
    "indices = np.argsort(importances)\n",
    "plt.figure(figsize=(8,8))\n",
    "plt.title('Feature Importances')\n",
    "plt.barh(range(len(indices)), importances[indices], color='b', align='center')\n",
    "plt.yticks(range(len(indices)), [features[i] for i in indices])\n",
    "plt.xlabel('Relative Importance')\n",
    "plt.show()"
   ]
  },
  {
   "cell_type": "code",
   "execution_count": 13,
   "id": "4c361120",
   "metadata": {
    "pycharm": {
     "name": "#%%\n"
    }
   },
   "outputs": [
    {
     "name": "stdout",
     "output_type": "stream",
     "text": [
      "0.2027659574468085\n"
     ]
    }
   ],
   "source": [
    "from sklearn.metrics import accuracy_score\n",
    "y_pred = model.predict(X_test)\n",
    "\n",
    "predictions = np.round(y_pred)\n",
    "\n",
    "accuracy = accuracy_score(y_test, predictions)\n",
    "print(accuracy)"
   ]
  },
  {
   "cell_type": "markdown",
   "id": "d9d96b5e",
   "metadata": {
    "pycharm": {
     "name": "#%% md\n"
    }
   },
   "source": [
    "# XGBoost classification"
   ]
  },
  {
   "cell_type": "code",
   "execution_count": 16,
   "id": "064d4fdf",
   "metadata": {
    "pycharm": {
     "name": "#%%\n"
    }
   },
   "outputs": [
    {
     "name": "stderr",
     "output_type": "stream",
     "text": [
      "/home/nils/miniconda3/envs/std/lib/python3.9/site-packages/xgboost/compat.py:36: FutureWarning: pandas.Int64Index is deprecated and will be removed from pandas in a future version. Use pandas.Index with the appropriate dtype instead.\n",
      "  from pandas import MultiIndex, Int64Index\n",
      "/home/nils/miniconda3/envs/std/lib/python3.9/site-packages/xgboost/sklearn.py:1224: UserWarning: The use of label encoder in XGBClassifier is deprecated and will be removed in a future release. To remove this warning, do the following: 1) Pass option use_label_encoder=False when constructing XGBClassifier object; and 2) Encode your labels (y) as integers starting with 0, i.e. 0, 1, 2, ..., [num_class - 1].\n",
      "  warnings.warn(label_encoder_deprecation_msg, UserWarning)\n",
      "/home/nils/miniconda3/envs/std/lib/python3.9/site-packages/xgboost/data.py:250: FutureWarning: pandas.Int64Index is deprecated and will be removed from pandas in a future version. Use pandas.Index with the appropriate dtype instead.\n",
      "  elif isinstance(data.columns, (pd.Int64Index, pd.RangeIndex)):\n"
     ]
    },
    {
     "data": {
      "text/html": [
       "<style>#sk-container-id-1 {color: black;background-color: white;}#sk-container-id-1 pre{padding: 0;}#sk-container-id-1 div.sk-toggleable {background-color: white;}#sk-container-id-1 label.sk-toggleable__label {cursor: pointer;display: block;width: 100%;margin-bottom: 0;padding: 0.3em;box-sizing: border-box;text-align: center;}#sk-container-id-1 label.sk-toggleable__label-arrow:before {content: \"▸\";float: left;margin-right: 0.25em;color: #696969;}#sk-container-id-1 label.sk-toggleable__label-arrow:hover:before {color: black;}#sk-container-id-1 div.sk-estimator:hover label.sk-toggleable__label-arrow:before {color: black;}#sk-container-id-1 div.sk-toggleable__content {max-height: 0;max-width: 0;overflow: hidden;text-align: left;background-color: #f0f8ff;}#sk-container-id-1 div.sk-toggleable__content pre {margin: 0.2em;color: black;border-radius: 0.25em;background-color: #f0f8ff;}#sk-container-id-1 input.sk-toggleable__control:checked~div.sk-toggleable__content {max-height: 200px;max-width: 100%;overflow: auto;}#sk-container-id-1 input.sk-toggleable__control:checked~label.sk-toggleable__label-arrow:before {content: \"▾\";}#sk-container-id-1 div.sk-estimator input.sk-toggleable__control:checked~label.sk-toggleable__label {background-color: #d4ebff;}#sk-container-id-1 div.sk-label input.sk-toggleable__control:checked~label.sk-toggleable__label {background-color: #d4ebff;}#sk-container-id-1 input.sk-hidden--visually {border: 0;clip: rect(1px 1px 1px 1px);clip: rect(1px, 1px, 1px, 1px);height: 1px;margin: -1px;overflow: hidden;padding: 0;position: absolute;width: 1px;}#sk-container-id-1 div.sk-estimator {font-family: monospace;background-color: #f0f8ff;border: 1px dotted black;border-radius: 0.25em;box-sizing: border-box;margin-bottom: 0.5em;}#sk-container-id-1 div.sk-estimator:hover {background-color: #d4ebff;}#sk-container-id-1 div.sk-parallel-item::after {content: \"\";width: 100%;border-bottom: 1px solid gray;flex-grow: 1;}#sk-container-id-1 div.sk-label:hover label.sk-toggleable__label {background-color: #d4ebff;}#sk-container-id-1 div.sk-serial::before {content: \"\";position: absolute;border-left: 1px solid gray;box-sizing: border-box;top: 0;bottom: 0;left: 50%;z-index: 0;}#sk-container-id-1 div.sk-serial {display: flex;flex-direction: column;align-items: center;background-color: white;padding-right: 0.2em;padding-left: 0.2em;position: relative;}#sk-container-id-1 div.sk-item {position: relative;z-index: 1;}#sk-container-id-1 div.sk-parallel {display: flex;align-items: stretch;justify-content: center;background-color: white;position: relative;}#sk-container-id-1 div.sk-item::before, #sk-container-id-1 div.sk-parallel-item::before {content: \"\";position: absolute;border-left: 1px solid gray;box-sizing: border-box;top: 0;bottom: 0;left: 50%;z-index: -1;}#sk-container-id-1 div.sk-parallel-item {display: flex;flex-direction: column;z-index: 1;position: relative;background-color: white;}#sk-container-id-1 div.sk-parallel-item:first-child::after {align-self: flex-end;width: 50%;}#sk-container-id-1 div.sk-parallel-item:last-child::after {align-self: flex-start;width: 50%;}#sk-container-id-1 div.sk-parallel-item:only-child::after {width: 0;}#sk-container-id-1 div.sk-dashed-wrapped {border: 1px dashed gray;margin: 0 0.4em 0.5em 0.4em;box-sizing: border-box;padding-bottom: 0.4em;background-color: white;}#sk-container-id-1 div.sk-label label {font-family: monospace;font-weight: bold;display: inline-block;line-height: 1.2em;}#sk-container-id-1 div.sk-label-container {text-align: center;}#sk-container-id-1 div.sk-container {/* jupyter's `normalize.less` sets `[hidden] { display: none; }` but bootstrap.min.css set `[hidden] { display: none !important; }` so we also need the `!important` here to be able to override the default hidden behavior on the sphinx rendered scikit-learn.org. See: https://github.com/scikit-learn/scikit-learn/issues/21755 */display: inline-block !important;position: relative;}#sk-container-id-1 div.sk-text-repr-fallback {display: none;}</style><div id=\"sk-container-id-1\" class=\"sk-top-container\"><div class=\"sk-text-repr-fallback\"><pre>XGBClassifier(base_score=0.5, booster=&#x27;gbtree&#x27;, colsample_bylevel=1,\n",
       "              colsample_bynode=1, colsample_bytree=1, enable_categorical=False,\n",
       "              eval_metric=&#x27;mlogloss&#x27;, gamma=0, gpu_id=-1, importance_type=None,\n",
       "              interaction_constraints=&#x27;&#x27;, learning_rate=0.300000012,\n",
       "              max_delta_step=0, max_depth=4, min_child_weight=1, missing=nan,\n",
       "              monotone_constraints=&#x27;()&#x27;, n_estimators=100, n_jobs=-1,\n",
       "              num_parallel_tree=1, objective=&#x27;multi:softprob&#x27;, predictor=&#x27;auto&#x27;,\n",
       "              random_state=0, reg_alpha=0, reg_lambda=1, scale_pos_weight=None,\n",
       "              subsample=1, tree_method=&#x27;exact&#x27;, validate_parameters=1,\n",
       "              verbosity=None)</pre><b>In a Jupyter environment, please rerun this cell to show the HTML representation or trust the notebook. <br />On GitHub, the HTML representation is unable to render, please try loading this page with nbviewer.org.</b></div><div class=\"sk-container\" hidden><div class=\"sk-item\"><div class=\"sk-estimator sk-toggleable\"><input class=\"sk-toggleable__control sk-hidden--visually\" id=\"sk-estimator-id-1\" type=\"checkbox\" checked><label for=\"sk-estimator-id-1\" class=\"sk-toggleable__label sk-toggleable__label-arrow\">XGBClassifier</label><div class=\"sk-toggleable__content\"><pre>XGBClassifier(base_score=0.5, booster=&#x27;gbtree&#x27;, colsample_bylevel=1,\n",
       "              colsample_bynode=1, colsample_bytree=1, enable_categorical=False,\n",
       "              eval_metric=&#x27;mlogloss&#x27;, gamma=0, gpu_id=-1, importance_type=None,\n",
       "              interaction_constraints=&#x27;&#x27;, learning_rate=0.300000012,\n",
       "              max_delta_step=0, max_depth=4, min_child_weight=1, missing=nan,\n",
       "              monotone_constraints=&#x27;()&#x27;, n_estimators=100, n_jobs=-1,\n",
       "              num_parallel_tree=1, objective=&#x27;multi:softprob&#x27;, predictor=&#x27;auto&#x27;,\n",
       "              random_state=0, reg_alpha=0, reg_lambda=1, scale_pos_weight=None,\n",
       "              subsample=1, tree_method=&#x27;exact&#x27;, validate_parameters=1,\n",
       "              verbosity=None)</pre></div></div></div></div></div>"
      ],
      "text/plain": [
       "XGBClassifier(base_score=0.5, booster='gbtree', colsample_bylevel=1,\n",
       "              colsample_bynode=1, colsample_bytree=1, enable_categorical=False,\n",
       "              eval_metric='mlogloss', gamma=0, gpu_id=-1, importance_type=None,\n",
       "              interaction_constraints='', learning_rate=0.300000012,\n",
       "              max_delta_step=0, max_depth=4, min_child_weight=1, missing=nan,\n",
       "              monotone_constraints='()', n_estimators=100, n_jobs=-1,\n",
       "              num_parallel_tree=1, objective='multi:softprob', predictor='auto',\n",
       "              random_state=0, reg_alpha=0, reg_lambda=1, scale_pos_weight=None,\n",
       "              subsample=1, tree_method='exact', validate_parameters=1,\n",
       "              verbosity=None)"
      ]
     },
     "execution_count": 16,
     "metadata": {},
     "output_type": "execute_result"
    }
   ],
   "source": [
    "from xgboost import XGBClassifier\n",
    "from sklearn.preprocessing import LabelEncoder\n",
    "\n",
    "# encode languages in a 1 d vector\n",
    "label_encoder = LabelEncoder()\n",
    "label_encoder = label_encoder.fit(lang_vec)\n",
    "label_encoded_y = label_encoder.transform(lang_vec)\n",
    "\n",
    "# Spliiting data into test and train sets\n",
    "X_train, X_test, y_train, y_test = train_test_split(norm_data, label_encoded_y, test_size=0.20, random_state=42)\n",
    "\n",
    "model = XGBClassifier(n_estimators=100, eval_metric='mlogloss', n_jobs=-1, max_depth=4)\n",
    "model.fit(X_train, y_train)"
   ]
  },
  {
   "cell_type": "code",
   "execution_count": 18,
   "id": "9869944b",
   "metadata": {
    "pycharm": {
     "name": "#%%\n"
    }
   },
   "outputs": [
    {
     "data": {
      "image/png": "[encoded data removed]",
      "text/plain": [
       "<Figure size 800x800 with 1 Axes>"
      ]
     },
     "metadata": {},
     "output_type": "display_data"
    }
   ],
   "source": [
    "# plotting feature importances\n",
    "features = df.drop('Language', axis=1).columns\n",
    "features = features.drop('index')\n",
    "importances = model.feature_importances_\n",
    "indices = np.argsort(importances)\n",
    "plt.figure(figsize=(8,8))\n",
    "plt.title('Feature Importances')\n",
    "plt.barh(range(len(indices)), importances[indices], color='b', align='center')\n",
    "plt.yticks(range(len(indices)), [features[i] for i in indices])\n",
    "plt.xlabel('Relative Importance')\n",
    "plt.show()"
   ]
  },
  {
   "cell_type": "code",
   "execution_count": 17,
   "id": "c2296d03",
   "metadata": {
    "pycharm": {
     "name": "#%%\n"
    }
   },
   "outputs": [
    {
     "name": "stdout",
     "output_type": "stream",
     "text": [
      "0.294\n"
     ]
    }
   ],
   "source": [
    "from sklearn.metrics import accuracy_score\n",
    "y_pred = model.predict(X_test)\n",
    "\n",
    "predictions = [round(value) for value in y_pred]\n",
    "\n",
    "accuracy = accuracy_score(y_test, predictions)\n",
    "print(accuracy)"
   ]
  },
  {
   "cell_type": "markdown",
   "id": "4cebccbd",
   "metadata": {
    "pycharm": {
     "name": "#%%\n"
    }
   },
   "source": [
    "## SVM"
   ]
  },
  {
   "cell_type": "code",
   "execution_count": 37,
   "id": "5359f511",
   "metadata": {},
   "outputs": [
    {
     "name": "stderr",
     "output_type": "stream",
     "text": [
      "/home/nils/miniconda3/envs/std/lib/python3.9/site-packages/sklearn/svm/_base.py:1225: ConvergenceWarning: Liblinear failed to converge, increase the number of iterations.\n",
      "  warnings.warn(\n"
     ]
    }
   ],
   "source": [
    "from sklearn.pipeline import make_pipeline\n",
    "from sklearn.preprocessing import StandardScaler\n",
    "from sklearn.svm import LinearSVC, NuSVC\n",
    "from sklearn.metrics import accuracy_score\n",
    "from sklearn.model_selection import train_test_split\n",
    "from sklearn.preprocessing import LabelEncoder\n",
    "\n",
    "# encode languages in a 1 d vector\n",
    "label_encoder = LabelEncoder()\n",
    "label_encoder = label_encoder.fit(lang_vec)\n",
    "label_encoded_y = label_encoder.transform(lang_vec)\n",
    "\n",
    "X_train, X_test, y_train, y_test = train_test_split(norm_data, label_encoded_y, test_size=0.20, random_state=42)\n",
    "\n",
    "clf = make_pipeline(StandardScaler(), LinearSVC())\n",
    "\n",
    "clf.fit(X_train, y_train)\n",
    "\n",
    "y_pred = clf.predict(X_test)"
   ]
  },
  {
   "cell_type": "code",
   "execution_count": 38,
   "id": "b96a20e9",
   "metadata": {},
   "outputs": [
    {
     "name": "stdout",
     "output_type": "stream",
     "text": [
      "0.17595744680851064\n"
     ]
    }
   ],
   "source": [
    "predictions = np.round(y_pred)\n",
    "accuracy = accuracy_score(y_test, predictions)\n",
    "print(accuracy)"
   ]
  },
  {
   "cell_type": "markdown",
   "id": "62f0d4ef",
   "metadata": {},
   "source": [
    "## Deconvolutional Neural Net\n"
   ]
  },
  {
   "cell_type": "code",
   "execution_count": 55,
   "id": "bb62e1f0",
   "metadata": {},
   "outputs": [],
   "source": [
    "import torch\n",
    "\n",
    "class DeconvolutionalClassifier(torch.nn.Module):\n",
    "    def __init__(self, input_dim, output_dim, hidden_dims=None,\n",
    "                 h_activation=torch.nn.ReLU, c_activation=torch.nn.Softmax):\n",
    "        super().__init__()\n",
    "        if hidden_dims is None:\n",
    "            hidden_dims = []\n",
    "        \n",
    "        # Save arguments\n",
    "        self.input_dim = input_dim\n",
    "        self.output_dim = output_dim\n",
    "        self.hidden_dims = hidden_dims\n",
    "        self.h_activation = h_activation\n",
    "        self.c_activation = c_activation\n",
    "\n",
    "        dims = [input_dim] + hidden_dims + [output_dim]\n",
    "\n",
    "        # Construct layers\n",
    "        layers = []\n",
    "        for i_dim, o_dim in zip(dims, dims[1:]):\n",
    "            layers.append(torch.nn.Linear(i_dim, o_dim))\n",
    "            layers.append(self.h_activation())\n",
    "        layers = layers[:-1]  # remove last activation\n",
    "        layers.append(self.c_activation())\n",
    "        self.classifier = torch.nn.Sequential(*layers)\n",
    "\n",
    "    def forward(self, x):\n",
    "        return self.classifier(x)"
   ]
  },
  {
   "cell_type": "code",
   "execution_count": 61,
   "id": "23d0f189",
   "metadata": {},
   "outputs": [
    {
     "name": "stdout",
     "output_type": "stream",
     "text": [
      "cuda\n"
     ]
    }
   ],
   "source": [
    "import skorch\n",
    "from skorch import NeuralNet\n",
    "from skorch.helper import predefined_split\n",
    "from skorch.dataset import Dataset\n",
    "import random\n",
    "import os\n",
    "from tqdm.auto import trange\n",
    "from meta_collector import metadata_collector\n",
    "from sklearn.metrics import classification_report\n",
    "\n",
    "def load_ds(path: str):\n",
    "    with open(path, encoding=\"utf8\") as f:\n",
    "        for l in f:\n",
    "            yield l.rstrip(\"\\n\")\n",
    "\n",
    "def seed_everything(seed: int):\n",
    "    random.seed(seed)\n",
    "    os.environ['PYTHONHASHSEED'] = str(seed)\n",
    "    np.random.seed(seed)\n",
    "    torch.manual_seed(seed)\n",
    "    torch.cuda.manual_seed(seed)\n",
    "    torch.backends.cudnn.deterministic = True\n",
    "    torch.backends.cudnn.benchmark = True\n",
    "\n",
    "seed_everything(13331)\n",
    "    \n",
    "x_train = load_ds(\"../data/wili-2018/x_train.txt\")\n",
    "y_train = load_ds(\"../data/wili-2018/y_train.txt\")\n",
    "x_test = load_ds(\"../data/wili-2018/x_test.txt\")\n",
    "y_test = load_ds(\"../data/wili-2018/y_test.txt\")\n",
    "\n",
    "x_train = pd.DataFrame(x_train, columns=[\"sentence\"])\n",
    "y_train = pd.DataFrame(y_train, columns=[\"lang\"])\n",
    "x_test = pd.DataFrame(x_test, columns=[\"sentence\"])\n",
    "y_test = pd.DataFrame(y_test, columns=[\"lang\"])\n",
    "\n",
    "# Create a train dev split\n",
    "x_train, x_dev, y_train, y_dev = train_test_split(x_train, y_train, test_size=0.2, random_state=42, stratify=y_train)\n",
    "\n",
    "train = pd.concat([x_train, y_train], axis=1)\n",
    "dev = pd.concat([x_dev, y_dev], axis=1)\n",
    "test = pd.concat([x_test, y_test], axis=1)\n",
    "langs = sorted(y_train.lang.unique())\n",
    "chars = set(c for s in train.sentence for c in s)\n",
    "\n",
    "device = torch.device(\"cuda\" if torch.cuda.is_available() else \"cpu\")\n",
    "print(device)\n",
    "\n",
    "# Switch here by uncommenting and commenting\n",
    "features = [\"Ll\", \"Zs\", \"Lu\", \"Po\", \"Pd\", \"Lo\", \"Mn\", \"Ps\", \"Pe\", \"Mc\"]\n",
    "# features = []"
   ]
  },
  {
   "cell_type": "code",
   "execution_count": 62,
   "id": "97698bc2",
   "metadata": {},
   "outputs": [],
   "source": [
    "def get_features_embeddings(sentences, features, batch_size=4, shrinkage_fact=1):\n",
    "    sentences = sentences[:len(sentences) // shrinkage_fact]    \n",
    "    embeddings = torch.zeros((len(sentences), len(features))).to(device)\n",
    "    \n",
    "    for i in trange(0, len(sentences), batch_size):\n",
    "        meta = metadata_collector(list(sentences[i:i+batch_size]), device, features)\n",
    "        embeddings[i:i+len(meta)] = meta\n",
    "\n",
    "    return torch.div(embeddings.T, torch.sum(embeddings, 1)).T"
   ]
  },
  {
   "cell_type": "code",
   "execution_count": 48,
   "id": "5dfaa866",
   "metadata": {},
   "outputs": [
    {
     "data": {
      "application/vnd.jupyter.widget-view+json": {
       "model_id": "9ce72ea81fd84854b938de523a7206de",
       "version_major": 2,
       "version_minor": 0
      },
      "text/plain": [
       "  0%|          | 0/2938 [00:00<?, ?it/s]"
      ]
     },
     "metadata": {},
     "output_type": "display_data"
    },
    {
     "data": {
      "application/vnd.jupyter.widget-view+json": {
       "model_id": "f6b76c2470a04c908a6e9184277ab303",
       "version_major": 2,
       "version_minor": 0
      },
      "text/plain": [
       "  0%|          | 0/735 [00:00<?, ?it/s]"
      ]
     },
     "metadata": {},
     "output_type": "display_data"
    }
   ],
   "source": [
    "train_embeddings = get_features_embeddings(train.sentence, features, batch_size=32)\n",
    "dev_embeddings = get_features_embeddings(dev.sentence, features, batch_size=32)"
   ]
  },
  {
   "cell_type": "code",
   "execution_count": 50,
   "id": "7b6b1fc0",
   "metadata": {},
   "outputs": [],
   "source": [
    "language_to_index = {lang: i for i, lang in enumerate(langs)}\n",
    "index_to_language = {i: lang for i, lang in enumerate(langs)}\n",
    "\n",
    "y_dev_id = [language_to_index[lang] for lang in y_dev.lang]\n",
    "y_train_id = [language_to_index[lang] for lang in y_train.lang]\n",
    "valid_ds = Dataset(dev_embeddings, y_dev_id[:len(dev_embeddings)])"
   ]
  },
  {
   "cell_type": "code",
   "execution_count": 72,
   "id": "ce95f0f2",
   "metadata": {
    "scrolled": true
   },
   "outputs": [
    {
     "name": "stderr",
     "output_type": "stream",
     "text": [
      "/home/nils/miniconda3/envs/std/lib/python3.9/site-packages/torch/nn/modules/container.py:139: UserWarning: Implicit dimension choice for softmax has been deprecated. Change the call to include dim=X as an argument.\n",
      "  input = module(input)\n"
     ]
    },
    {
     "name": "stdout",
     "output_type": "stream",
     "text": [
      "  epoch    train_loss    valid_loss     dur\n",
      "-------  ------------  ------------  ------\n",
      "      1        \u001b[36m5.4596\u001b[0m        \u001b[32m5.4596\u001b[0m  0.8112\n",
      "      2        \u001b[36m5.4595\u001b[0m        \u001b[32m5.4595\u001b[0m  0.8134\n",
      "      3        \u001b[36m5.4595\u001b[0m        \u001b[32m5.4595\u001b[0m  0.8049\n",
      "      4        \u001b[36m5.4594\u001b[0m        \u001b[32m5.4594\u001b[0m  0.8158\n",
      "      5        \u001b[36m5.4594\u001b[0m        \u001b[32m5.4593\u001b[0m  0.8260\n",
      "      6        \u001b[36m5.4592\u001b[0m        \u001b[32m5.4591\u001b[0m  0.8327\n",
      "      7        \u001b[36m5.4590\u001b[0m        \u001b[32m5.4588\u001b[0m  0.8101\n",
      "      8        \u001b[36m5.4583\u001b[0m        \u001b[32m5.4568\u001b[0m  0.7911\n",
      "      9        \u001b[36m5.4564\u001b[0m        \u001b[32m5.4562\u001b[0m  0.8073\n",
      "     10        \u001b[36m5.4561\u001b[0m        \u001b[32m5.4560\u001b[0m  0.7960\n",
      "     11        \u001b[36m5.4560\u001b[0m        \u001b[32m5.4558\u001b[0m  0.7943\n",
      "     12        \u001b[36m5.4558\u001b[0m        \u001b[32m5.4556\u001b[0m  0.7900\n",
      "     13        \u001b[36m5.4556\u001b[0m        \u001b[32m5.4554\u001b[0m  0.7919\n",
      "     14        \u001b[36m5.4554\u001b[0m        \u001b[32m5.4551\u001b[0m  0.8028\n",
      "     15        \u001b[36m5.4548\u001b[0m        \u001b[32m5.4542\u001b[0m  0.7993\n",
      "     16        \u001b[36m5.4530\u001b[0m        \u001b[32m5.4506\u001b[0m  0.7965\n",
      "     17        \u001b[36m5.4493\u001b[0m        \u001b[32m5.4484\u001b[0m  0.7974\n",
      "     18        \u001b[36m5.4482\u001b[0m        \u001b[32m5.4479\u001b[0m  0.7962\n",
      "     19        \u001b[36m5.4478\u001b[0m        \u001b[32m5.4476\u001b[0m  0.8031\n",
      "     20        \u001b[36m5.4476\u001b[0m        \u001b[32m5.4474\u001b[0m  0.7997\n",
      "     21        \u001b[36m5.4474\u001b[0m        \u001b[32m5.4472\u001b[0m  0.8009\n",
      "     22        \u001b[36m5.4472\u001b[0m        \u001b[32m5.4470\u001b[0m  0.8012\n",
      "     23        \u001b[36m5.4471\u001b[0m        \u001b[32m5.4468\u001b[0m  0.7932\n",
      "     24        \u001b[36m5.4469\u001b[0m        \u001b[32m5.4466\u001b[0m  0.7934\n",
      "     25        \u001b[36m5.4467\u001b[0m        \u001b[32m5.4464\u001b[0m  0.7964\n",
      "     26        \u001b[36m5.4464\u001b[0m        \u001b[32m5.4461\u001b[0m  0.7900\n",
      "     27        \u001b[36m5.4461\u001b[0m        \u001b[32m5.4458\u001b[0m  0.7933\n",
      "     28        \u001b[36m5.4458\u001b[0m        \u001b[32m5.4455\u001b[0m  0.7931\n",
      "     29        \u001b[36m5.4455\u001b[0m        \u001b[32m5.4452\u001b[0m  0.8082\n",
      "     30        \u001b[36m5.4452\u001b[0m        \u001b[32m5.4450\u001b[0m  0.7868\n",
      "     31        \u001b[36m5.4450\u001b[0m        \u001b[32m5.4448\u001b[0m  0.7905\n",
      "     32        \u001b[36m5.4447\u001b[0m        \u001b[32m5.4446\u001b[0m  0.7894\n",
      "     33        \u001b[36m5.4445\u001b[0m        \u001b[32m5.4444\u001b[0m  0.8172\n",
      "     34        \u001b[36m5.4442\u001b[0m        \u001b[32m5.4441\u001b[0m  0.8227\n",
      "     35        \u001b[36m5.4437\u001b[0m        \u001b[32m5.4435\u001b[0m  0.8179\n",
      "     36        \u001b[36m5.4432\u001b[0m        \u001b[32m5.4430\u001b[0m  0.8133\n",
      "     37        \u001b[36m5.4427\u001b[0m        \u001b[32m5.4426\u001b[0m  0.8069\n",
      "     38        \u001b[36m5.4423\u001b[0m        \u001b[32m5.4423\u001b[0m  0.8064\n",
      "     39        \u001b[36m5.4420\u001b[0m        \u001b[32m5.4420\u001b[0m  0.8094\n",
      "     40        \u001b[36m5.4418\u001b[0m        \u001b[32m5.4418\u001b[0m  0.8102\n",
      "     41        \u001b[36m5.4415\u001b[0m        \u001b[32m5.4415\u001b[0m  0.8109\n",
      "     42        \u001b[36m5.4413\u001b[0m        \u001b[32m5.4413\u001b[0m  0.8077\n",
      "     43        \u001b[36m5.4410\u001b[0m        \u001b[32m5.4411\u001b[0m  0.8118\n",
      "     44        \u001b[36m5.4408\u001b[0m        \u001b[32m5.4409\u001b[0m  0.8173\n",
      "     45        \u001b[36m5.4406\u001b[0m        \u001b[32m5.4406\u001b[0m  0.8117\n",
      "     46        \u001b[36m5.4403\u001b[0m        \u001b[32m5.4404\u001b[0m  0.7983\n",
      "     47        \u001b[36m5.4400\u001b[0m        \u001b[32m5.4404\u001b[0m  0.7894\n",
      "     48        \u001b[36m5.4396\u001b[0m        \u001b[32m5.4403\u001b[0m  0.7904\n",
      "     49        \u001b[36m5.4392\u001b[0m        \u001b[32m5.4398\u001b[0m  0.7906\n",
      "     50        \u001b[36m5.4388\u001b[0m        \u001b[32m5.4394\u001b[0m  0.7883\n",
      "     51        \u001b[36m5.4383\u001b[0m        \u001b[32m5.4389\u001b[0m  0.7852\n",
      "     52        \u001b[36m5.4379\u001b[0m        \u001b[32m5.4384\u001b[0m  0.7976\n",
      "     53        \u001b[36m5.4376\u001b[0m        \u001b[32m5.4380\u001b[0m  0.7914\n",
      "     54        \u001b[36m5.4373\u001b[0m        \u001b[32m5.4376\u001b[0m  0.7865\n",
      "     55        \u001b[36m5.4370\u001b[0m        \u001b[32m5.4373\u001b[0m  0.7865\n",
      "     56        \u001b[36m5.4367\u001b[0m        \u001b[32m5.4369\u001b[0m  0.7862\n",
      "     57        \u001b[36m5.4363\u001b[0m        \u001b[32m5.4366\u001b[0m  0.7870\n",
      "     58        \u001b[36m5.4361\u001b[0m        \u001b[32m5.4363\u001b[0m  0.7882\n",
      "     59        \u001b[36m5.4359\u001b[0m        \u001b[32m5.4360\u001b[0m  0.7889\n",
      "     60        \u001b[36m5.4357\u001b[0m        \u001b[32m5.4358\u001b[0m  0.7888\n",
      "     61        \u001b[36m5.4355\u001b[0m        \u001b[32m5.4356\u001b[0m  0.7897\n",
      "     62        \u001b[36m5.4353\u001b[0m        \u001b[32m5.4354\u001b[0m  0.8131\n",
      "     63        \u001b[36m5.4352\u001b[0m        \u001b[32m5.4352\u001b[0m  0.8090\n",
      "     64        \u001b[36m5.4351\u001b[0m        \u001b[32m5.4351\u001b[0m  0.8070\n",
      "     65        \u001b[36m5.4349\u001b[0m        \u001b[32m5.4349\u001b[0m  0.8108\n",
      "     66        \u001b[36m5.4348\u001b[0m        \u001b[32m5.4347\u001b[0m  0.8034\n",
      "     67        \u001b[36m5.4346\u001b[0m        \u001b[32m5.4346\u001b[0m  0.8071\n",
      "     68        \u001b[36m5.4345\u001b[0m        \u001b[32m5.4344\u001b[0m  0.8044\n",
      "     69        \u001b[36m5.4343\u001b[0m        \u001b[32m5.4343\u001b[0m  0.8068\n",
      "     70        \u001b[36m5.4342\u001b[0m        \u001b[32m5.4342\u001b[0m  0.8107\n",
      "     71        \u001b[36m5.4341\u001b[0m        \u001b[32m5.4341\u001b[0m  0.8020\n",
      "     72        \u001b[36m5.4340\u001b[0m        \u001b[32m5.4339\u001b[0m  0.7995\n",
      "     73        \u001b[36m5.4339\u001b[0m        \u001b[32m5.4338\u001b[0m  0.7966\n",
      "     74        \u001b[36m5.4337\u001b[0m        \u001b[32m5.4337\u001b[0m  0.7942\n",
      "     75        \u001b[36m5.4336\u001b[0m        \u001b[32m5.4336\u001b[0m  0.7970\n",
      "     76        \u001b[36m5.4335\u001b[0m        \u001b[32m5.4335\u001b[0m  0.8051\n",
      "     77        \u001b[36m5.4334\u001b[0m        \u001b[32m5.4334\u001b[0m  0.7954\n",
      "     78        \u001b[36m5.4332\u001b[0m        \u001b[32m5.4332\u001b[0m  0.7935\n",
      "     79        \u001b[36m5.4331\u001b[0m        \u001b[32m5.4331\u001b[0m  0.8002\n",
      "     80        \u001b[36m5.4329\u001b[0m        \u001b[32m5.4329\u001b[0m  0.7948\n",
      "     81        \u001b[36m5.4328\u001b[0m        \u001b[32m5.4327\u001b[0m  0.7998\n",
      "     82        \u001b[36m5.4326\u001b[0m        \u001b[32m5.4325\u001b[0m  0.7935\n",
      "     83        \u001b[36m5.4325\u001b[0m        \u001b[32m5.4324\u001b[0m  0.7886\n",
      "     84        \u001b[36m5.4323\u001b[0m        \u001b[32m5.4322\u001b[0m  0.8052\n",
      "     85        \u001b[36m5.4322\u001b[0m        \u001b[32m5.4321\u001b[0m  0.8337\n",
      "     86        \u001b[36m5.4320\u001b[0m        \u001b[32m5.4320\u001b[0m  0.8347\n",
      "     87        \u001b[36m5.4319\u001b[0m        \u001b[32m5.4318\u001b[0m  0.8335\n",
      "     88        \u001b[36m5.4318\u001b[0m        \u001b[32m5.4317\u001b[0m  0.8423\n",
      "     89        \u001b[36m5.4316\u001b[0m        \u001b[32m5.4315\u001b[0m  0.8212\n",
      "     90        \u001b[36m5.4315\u001b[0m        \u001b[32m5.4314\u001b[0m  0.8076\n",
      "     91        \u001b[36m5.4314\u001b[0m        \u001b[32m5.4312\u001b[0m  0.8298\n",
      "     92        \u001b[36m5.4313\u001b[0m        \u001b[32m5.4311\u001b[0m  0.8350\n",
      "     93        \u001b[36m5.4311\u001b[0m        \u001b[32m5.4310\u001b[0m  0.8374\n",
      "     94        \u001b[36m5.4310\u001b[0m        \u001b[32m5.4308\u001b[0m  0.8378\n",
      "     95        \u001b[36m5.4310\u001b[0m        \u001b[32m5.4307\u001b[0m  0.7985\n",
      "     96        \u001b[36m5.4309\u001b[0m        \u001b[32m5.4306\u001b[0m  0.8058\n",
      "     97        \u001b[36m5.4308\u001b[0m        \u001b[32m5.4305\u001b[0m  0.8044\n",
      "     98        \u001b[36m5.4307\u001b[0m        \u001b[32m5.4304\u001b[0m  0.7930\n",
      "     99        \u001b[36m5.4306\u001b[0m        \u001b[32m5.4303\u001b[0m  0.7893\n",
      "    100        \u001b[36m5.4306\u001b[0m        \u001b[32m5.4303\u001b[0m  0.7979\n",
      "    101        \u001b[36m5.4305\u001b[0m        \u001b[32m5.4302\u001b[0m  0.7924\n",
      "    102        \u001b[36m5.4305\u001b[0m        \u001b[32m5.4301\u001b[0m  0.7927\n",
      "    103        \u001b[36m5.4304\u001b[0m        \u001b[32m5.4301\u001b[0m  0.7991\n",
      "    104        \u001b[36m5.4304\u001b[0m        \u001b[32m5.4300\u001b[0m  0.8022\n",
      "    105        \u001b[36m5.4303\u001b[0m        \u001b[32m5.4300\u001b[0m  0.7967\n",
      "    106        \u001b[36m5.4303\u001b[0m        \u001b[32m5.4299\u001b[0m  0.7926\n",
      "    107        \u001b[36m5.4302\u001b[0m        \u001b[32m5.4299\u001b[0m  0.7951\n",
      "    108        \u001b[36m5.4302\u001b[0m        \u001b[32m5.4298\u001b[0m  0.8051\n",
      "    109        \u001b[36m5.4301\u001b[0m        \u001b[32m5.4298\u001b[0m  0.7902\n",
      "    110        \u001b[36m5.4301\u001b[0m        \u001b[32m5.4297\u001b[0m  0.7928\n",
      "    111        \u001b[36m5.4301\u001b[0m        \u001b[32m5.4297\u001b[0m  0.7953\n",
      "    112        \u001b[36m5.4301\u001b[0m        \u001b[32m5.4297\u001b[0m  0.7933\n",
      "    113        \u001b[36m5.4300\u001b[0m        \u001b[32m5.4296\u001b[0m  0.7904\n",
      "    114        \u001b[36m5.4300\u001b[0m        \u001b[32m5.4296\u001b[0m  0.8010\n",
      "    115        \u001b[36m5.4300\u001b[0m        \u001b[32m5.4296\u001b[0m  0.7896\n",
      "    116        \u001b[36m5.4299\u001b[0m        \u001b[32m5.4295\u001b[0m  0.7953\n",
      "    117        \u001b[36m5.4299\u001b[0m        \u001b[32m5.4295\u001b[0m  0.7902\n",
      "    118        \u001b[36m5.4299\u001b[0m        \u001b[32m5.4295\u001b[0m  0.7901\n",
      "    119        \u001b[36m5.4299\u001b[0m        \u001b[32m5.4294\u001b[0m  0.7947\n",
      "    120        \u001b[36m5.4299\u001b[0m        \u001b[32m5.4294\u001b[0m  0.7999\n",
      "    121        \u001b[36m5.4298\u001b[0m        \u001b[32m5.4294\u001b[0m  0.8142\n",
      "    122        \u001b[36m5.4298\u001b[0m        \u001b[32m5.4294\u001b[0m  0.7986\n",
      "    123        \u001b[36m5.4298\u001b[0m        \u001b[32m5.4294\u001b[0m  0.7987\n",
      "    124        \u001b[36m5.4298\u001b[0m        \u001b[32m5.4293\u001b[0m  0.7955\n",
      "    125        \u001b[36m5.4298\u001b[0m        \u001b[32m5.4293\u001b[0m  0.7959\n",
      "    126        \u001b[36m5.4297\u001b[0m        \u001b[32m5.4293\u001b[0m  0.7981\n",
      "    127        \u001b[36m5.4297\u001b[0m        \u001b[32m5.4293\u001b[0m  0.8013\n",
      "    128        \u001b[36m5.4297\u001b[0m        \u001b[32m5.4293\u001b[0m  0.7969\n",
      "    129        \u001b[36m5.4297\u001b[0m        \u001b[32m5.4292\u001b[0m  0.8100\n",
      "    130        \u001b[36m5.4297\u001b[0m        \u001b[32m5.4292\u001b[0m  0.8125\n",
      "    131        \u001b[36m5.4297\u001b[0m        \u001b[32m5.4292\u001b[0m  0.8044\n"
     ]
    },
    {
     "name": "stdout",
     "output_type": "stream",
     "text": [
      "    132        \u001b[36m5.4297\u001b[0m        \u001b[32m5.4292\u001b[0m  0.8081\n",
      "    133        \u001b[36m5.4296\u001b[0m        \u001b[32m5.4292\u001b[0m  0.8166\n",
      "    134        \u001b[36m5.4296\u001b[0m        \u001b[32m5.4292\u001b[0m  0.8048\n",
      "    135        \u001b[36m5.4296\u001b[0m        \u001b[32m5.4292\u001b[0m  0.8060\n",
      "    136        \u001b[36m5.4296\u001b[0m        \u001b[32m5.4291\u001b[0m  0.8047\n",
      "    137        \u001b[36m5.4296\u001b[0m        \u001b[32m5.4291\u001b[0m  0.8055\n",
      "    138        \u001b[36m5.4296\u001b[0m        \u001b[32m5.4291\u001b[0m  0.8060\n",
      "    139        \u001b[36m5.4296\u001b[0m        \u001b[32m5.4291\u001b[0m  0.8043\n",
      "    140        \u001b[36m5.4296\u001b[0m        \u001b[32m5.4291\u001b[0m  0.8059\n",
      "    141        \u001b[36m5.4295\u001b[0m        \u001b[32m5.4291\u001b[0m  0.8085\n",
      "    142        \u001b[36m5.4295\u001b[0m        \u001b[32m5.4291\u001b[0m  0.8048\n",
      "    143        \u001b[36m5.4295\u001b[0m        \u001b[32m5.4291\u001b[0m  0.8074\n",
      "    144        \u001b[36m5.4295\u001b[0m        \u001b[32m5.4290\u001b[0m  0.8039\n",
      "    145        \u001b[36m5.4295\u001b[0m        \u001b[32m5.4290\u001b[0m  0.8201\n",
      "    146        \u001b[36m5.4295\u001b[0m        \u001b[32m5.4290\u001b[0m  0.8158\n",
      "    147        \u001b[36m5.4295\u001b[0m        \u001b[32m5.4290\u001b[0m  0.8148\n",
      "    148        \u001b[36m5.4295\u001b[0m        \u001b[32m5.4290\u001b[0m  0.8051\n",
      "    149        \u001b[36m5.4295\u001b[0m        \u001b[32m5.4290\u001b[0m  0.8033\n",
      "    150        \u001b[36m5.4294\u001b[0m        \u001b[32m5.4290\u001b[0m  0.7994\n",
      "    151        \u001b[36m5.4294\u001b[0m        \u001b[32m5.4290\u001b[0m  0.8166\n",
      "    152        \u001b[36m5.4294\u001b[0m        \u001b[32m5.4290\u001b[0m  0.8032\n",
      "    153        \u001b[36m5.4294\u001b[0m        \u001b[32m5.4290\u001b[0m  0.8100\n",
      "    154        \u001b[36m5.4294\u001b[0m        \u001b[32m5.4290\u001b[0m  0.7905\n",
      "    155        \u001b[36m5.4294\u001b[0m        \u001b[32m5.4289\u001b[0m  0.7910\n",
      "    156        \u001b[36m5.4294\u001b[0m        \u001b[32m5.4289\u001b[0m  0.7870\n",
      "    157        \u001b[36m5.4294\u001b[0m        \u001b[32m5.4289\u001b[0m  0.7907\n",
      "    158        \u001b[36m5.4294\u001b[0m        \u001b[32m5.4289\u001b[0m  0.7869\n",
      "    159        \u001b[36m5.4294\u001b[0m        \u001b[32m5.4289\u001b[0m  0.8022\n",
      "    160        \u001b[36m5.4294\u001b[0m        \u001b[32m5.4289\u001b[0m  0.8080\n",
      "    161        \u001b[36m5.4294\u001b[0m        \u001b[32m5.4289\u001b[0m  0.8058\n",
      "    162        \u001b[36m5.4293\u001b[0m        \u001b[32m5.4289\u001b[0m  0.8072\n",
      "    163        \u001b[36m5.4293\u001b[0m        \u001b[32m5.4289\u001b[0m  0.8087\n",
      "    164        \u001b[36m5.4293\u001b[0m        \u001b[32m5.4289\u001b[0m  0.8112\n",
      "    165        \u001b[36m5.4293\u001b[0m        \u001b[32m5.4289\u001b[0m  0.8091\n",
      "    166        \u001b[36m5.4293\u001b[0m        \u001b[32m5.4289\u001b[0m  0.8074\n",
      "    167        \u001b[36m5.4293\u001b[0m        \u001b[32m5.4289\u001b[0m  0.8101\n",
      "    168        \u001b[36m5.4293\u001b[0m        \u001b[32m5.4289\u001b[0m  0.8089\n",
      "    169        \u001b[36m5.4293\u001b[0m        \u001b[32m5.4289\u001b[0m  0.8121\n",
      "    170        \u001b[36m5.4293\u001b[0m        \u001b[32m5.4289\u001b[0m  0.8103\n",
      "    171        \u001b[36m5.4293\u001b[0m        \u001b[32m5.4289\u001b[0m  0.8155\n",
      "    172        \u001b[36m5.4293\u001b[0m        \u001b[32m5.4288\u001b[0m  0.8071\n",
      "    173        \u001b[36m5.4293\u001b[0m        \u001b[32m5.4288\u001b[0m  0.8059\n",
      "    174        \u001b[36m5.4293\u001b[0m        \u001b[32m5.4288\u001b[0m  0.8122\n",
      "    175        \u001b[36m5.4293\u001b[0m        \u001b[32m5.4288\u001b[0m  0.8071\n",
      "    176        \u001b[36m5.4293\u001b[0m        \u001b[32m5.4288\u001b[0m  0.8072\n",
      "    177        \u001b[36m5.4292\u001b[0m        \u001b[32m5.4288\u001b[0m  0.8087\n",
      "    178        \u001b[36m5.4292\u001b[0m        \u001b[32m5.4288\u001b[0m  0.8101\n",
      "    179        \u001b[36m5.4292\u001b[0m        \u001b[32m5.4288\u001b[0m  0.8012\n",
      "    180        \u001b[36m5.4292\u001b[0m        \u001b[32m5.4288\u001b[0m  0.7930\n",
      "    181        \u001b[36m5.4292\u001b[0m        \u001b[32m5.4288\u001b[0m  0.8216\n",
      "    182        \u001b[36m5.4292\u001b[0m        \u001b[32m5.4288\u001b[0m  0.7877\n",
      "    183        \u001b[36m5.4292\u001b[0m        \u001b[32m5.4288\u001b[0m  0.7963\n",
      "    184        \u001b[36m5.4292\u001b[0m        \u001b[32m5.4288\u001b[0m  0.7914\n",
      "    185        \u001b[36m5.4292\u001b[0m        \u001b[32m5.4288\u001b[0m  0.7859\n",
      "    186        \u001b[36m5.4292\u001b[0m        \u001b[32m5.4288\u001b[0m  0.7970\n",
      "    187        \u001b[36m5.4292\u001b[0m        \u001b[32m5.4288\u001b[0m  0.7988\n",
      "    188        \u001b[36m5.4292\u001b[0m        \u001b[32m5.4288\u001b[0m  0.7941\n",
      "    189        \u001b[36m5.4292\u001b[0m        \u001b[32m5.4288\u001b[0m  0.7978\n",
      "    190        \u001b[36m5.4292\u001b[0m        \u001b[32m5.4288\u001b[0m  0.7972\n",
      "    191        \u001b[36m5.4292\u001b[0m        \u001b[32m5.4288\u001b[0m  0.7940\n",
      "    192        \u001b[36m5.4292\u001b[0m        \u001b[32m5.4288\u001b[0m  0.7977\n",
      "    193        \u001b[36m5.4292\u001b[0m        \u001b[32m5.4288\u001b[0m  0.8035\n",
      "    194        \u001b[36m5.4292\u001b[0m        \u001b[32m5.4288\u001b[0m  0.8054\n",
      "    195        \u001b[36m5.4292\u001b[0m        \u001b[32m5.4288\u001b[0m  0.8116\n",
      "    196        \u001b[36m5.4291\u001b[0m        \u001b[32m5.4287\u001b[0m  0.8146\n",
      "    197        \u001b[36m5.4291\u001b[0m        \u001b[32m5.4287\u001b[0m  0.8136\n",
      "    198        \u001b[36m5.4291\u001b[0m        \u001b[32m5.4287\u001b[0m  0.8100\n",
      "    199        \u001b[36m5.4291\u001b[0m        \u001b[32m5.4287\u001b[0m  0.8085\n",
      "    200        \u001b[36m5.4291\u001b[0m        \u001b[32m5.4287\u001b[0m  0.8059\n",
      "    201        \u001b[36m5.4291\u001b[0m        \u001b[32m5.4287\u001b[0m  0.8030\n",
      "    202        \u001b[36m5.4291\u001b[0m        \u001b[32m5.4287\u001b[0m  0.8037\n",
      "    203        \u001b[36m5.4291\u001b[0m        \u001b[32m5.4287\u001b[0m  0.8060\n",
      "    204        \u001b[36m5.4291\u001b[0m        \u001b[32m5.4287\u001b[0m  0.8153\n",
      "    205        \u001b[36m5.4291\u001b[0m        \u001b[32m5.4287\u001b[0m  0.8055\n",
      "    206        \u001b[36m5.4291\u001b[0m        \u001b[32m5.4287\u001b[0m  0.8102\n",
      "    207        \u001b[36m5.4291\u001b[0m        \u001b[32m5.4287\u001b[0m  0.8143\n",
      "    208        \u001b[36m5.4291\u001b[0m        \u001b[32m5.4287\u001b[0m  0.8072\n",
      "    209        \u001b[36m5.4291\u001b[0m        \u001b[32m5.4287\u001b[0m  0.8141\n",
      "    210        \u001b[36m5.4291\u001b[0m        \u001b[32m5.4287\u001b[0m  0.8143\n",
      "    211        \u001b[36m5.4291\u001b[0m        \u001b[32m5.4287\u001b[0m  0.8048\n",
      "    212        \u001b[36m5.4291\u001b[0m        5.4287  0.7924\n",
      "    213        \u001b[36m5.4291\u001b[0m        \u001b[32m5.4287\u001b[0m  0.7947\n",
      "    214        \u001b[36m5.4291\u001b[0m        \u001b[32m5.4287\u001b[0m  0.7988\n",
      "    215        \u001b[36m5.4291\u001b[0m        \u001b[32m5.4287\u001b[0m  0.8067\n",
      "    216        \u001b[36m5.4291\u001b[0m        \u001b[32m5.4287\u001b[0m  0.7983\n",
      "    217        \u001b[36m5.4291\u001b[0m        \u001b[32m5.4287\u001b[0m  0.7907\n",
      "    218        \u001b[36m5.4291\u001b[0m        \u001b[32m5.4287\u001b[0m  0.7933\n",
      "    219        \u001b[36m5.4291\u001b[0m        \u001b[32m5.4287\u001b[0m  0.7945\n",
      "    220        \u001b[36m5.4291\u001b[0m        \u001b[32m5.4287\u001b[0m  0.7889\n",
      "    221        \u001b[36m5.4290\u001b[0m        5.4287  0.7874\n",
      "    222        \u001b[36m5.4290\u001b[0m        \u001b[32m5.4287\u001b[0m  0.7872\n",
      "    223        \u001b[36m5.4290\u001b[0m        5.4287  0.7874\n",
      "    224        \u001b[36m5.4290\u001b[0m        5.4287  0.7871\n",
      "    225        \u001b[36m5.4290\u001b[0m        \u001b[32m5.4287\u001b[0m  0.7865\n",
      "    226        \u001b[36m5.4290\u001b[0m        5.4287  0.7857\n",
      "    227        \u001b[36m5.4290\u001b[0m        \u001b[32m5.4287\u001b[0m  0.7884\n",
      "    228        \u001b[36m5.4290\u001b[0m        5.4287  0.8211\n",
      "    229        \u001b[36m5.4290\u001b[0m        \u001b[32m5.4287\u001b[0m  0.8049\n",
      "    230        \u001b[36m5.4290\u001b[0m        \u001b[32m5.4287\u001b[0m  0.7862\n",
      "    231        \u001b[36m5.4290\u001b[0m        5.4287  0.7919\n",
      "    232        \u001b[36m5.4290\u001b[0m        5.4287  0.7910\n",
      "    233        \u001b[36m5.4290\u001b[0m        \u001b[32m5.4287\u001b[0m  0.7892\n",
      "    234        \u001b[36m5.4290\u001b[0m        5.4287  0.7903\n",
      "    235        \u001b[36m5.4290\u001b[0m        \u001b[32m5.4287\u001b[0m  0.7923\n",
      "    236        \u001b[36m5.4290\u001b[0m        \u001b[32m5.4286\u001b[0m  0.7880\n",
      "    237        \u001b[36m5.4290\u001b[0m        \u001b[32m5.4286\u001b[0m  0.7863\n",
      "    238        \u001b[36m5.4290\u001b[0m        \u001b[32m5.4286\u001b[0m  0.7851\n",
      "    239        \u001b[36m5.4290\u001b[0m        5.4286  0.7897\n",
      "    240        \u001b[36m5.4290\u001b[0m        \u001b[32m5.4286\u001b[0m  0.7870\n",
      "    241        \u001b[36m5.4290\u001b[0m        5.4286  0.7870\n",
      "    242        \u001b[36m5.4290\u001b[0m        5.4286  0.7968\n",
      "    243        \u001b[36m5.4290\u001b[0m        \u001b[32m5.4286\u001b[0m  0.7915\n",
      "    244        \u001b[36m5.4289\u001b[0m        \u001b[32m5.4286\u001b[0m  0.7933\n",
      "    245        \u001b[36m5.4289\u001b[0m        \u001b[32m5.4285\u001b[0m  0.8080\n",
      "    246        \u001b[36m5.4288\u001b[0m        \u001b[32m5.4285\u001b[0m  0.7980\n",
      "    247        \u001b[36m5.4288\u001b[0m        \u001b[32m5.4284\u001b[0m  0.7981\n",
      "    248        \u001b[36m5.4288\u001b[0m        \u001b[32m5.4284\u001b[0m  0.7913\n",
      "    249        \u001b[36m5.4287\u001b[0m        \u001b[32m5.4284\u001b[0m  0.7918\n",
      "    250        \u001b[36m5.4287\u001b[0m        \u001b[32m5.4283\u001b[0m  0.7897\n",
      "    251        \u001b[36m5.4287\u001b[0m        \u001b[32m5.4283\u001b[0m  0.7913\n",
      "    252        \u001b[36m5.4287\u001b[0m        \u001b[32m5.4283\u001b[0m  0.7894\n",
      "    253        \u001b[36m5.4287\u001b[0m        \u001b[32m5.4282\u001b[0m  0.7904\n",
      "    254        \u001b[36m5.4286\u001b[0m        \u001b[32m5.4282\u001b[0m  0.7926\n",
      "    255        \u001b[36m5.4286\u001b[0m        \u001b[32m5.4282\u001b[0m  0.7883\n",
      "    256        \u001b[36m5.4286\u001b[0m        \u001b[32m5.4282\u001b[0m  0.7893\n",
      "    257        \u001b[36m5.4286\u001b[0m        \u001b[32m5.4281\u001b[0m  0.7955\n",
      "    258        \u001b[36m5.4286\u001b[0m        \u001b[32m5.4281\u001b[0m  0.7914\n",
      "    259        \u001b[36m5.4286\u001b[0m        \u001b[32m5.4281\u001b[0m  0.7886\n",
      "    260        \u001b[36m5.4285\u001b[0m        \u001b[32m5.4281\u001b[0m  0.7876\n",
      "    261        \u001b[36m5.4285\u001b[0m        \u001b[32m5.4281\u001b[0m  0.7874\n",
      "    262        \u001b[36m5.4285\u001b[0m        \u001b[32m5.4280\u001b[0m  0.7887\n",
      "    263        \u001b[36m5.4285\u001b[0m        \u001b[32m5.4280\u001b[0m  0.7899\n",
      "    264        \u001b[36m5.4285\u001b[0m        \u001b[32m5.4280\u001b[0m  0.7923\n",
      "    265        \u001b[36m5.4285\u001b[0m        \u001b[32m5.4280\u001b[0m  0.7879\n"
     ]
    },
    {
     "name": "stdout",
     "output_type": "stream",
     "text": [
      "    266        \u001b[36m5.4285\u001b[0m        \u001b[32m5.4280\u001b[0m  0.8048\n",
      "    267        \u001b[36m5.4285\u001b[0m        \u001b[32m5.4280\u001b[0m  0.7902\n",
      "    268        \u001b[36m5.4284\u001b[0m        \u001b[32m5.4280\u001b[0m  0.7885\n",
      "    269        \u001b[36m5.4284\u001b[0m        \u001b[32m5.4280\u001b[0m  0.7881\n",
      "    270        \u001b[36m5.4284\u001b[0m        \u001b[32m5.4280\u001b[0m  0.7883\n",
      "    271        \u001b[36m5.4284\u001b[0m        \u001b[32m5.4279\u001b[0m  0.7911\n",
      "    272        \u001b[36m5.4284\u001b[0m        \u001b[32m5.4279\u001b[0m  0.9506\n",
      "    273        \u001b[36m5.4284\u001b[0m        \u001b[32m5.4279\u001b[0m  0.7912\n",
      "    274        \u001b[36m5.4284\u001b[0m        \u001b[32m5.4279\u001b[0m  0.7944\n",
      "    275        \u001b[36m5.4284\u001b[0m        \u001b[32m5.4279\u001b[0m  0.7918\n",
      "    276        \u001b[36m5.4284\u001b[0m        \u001b[32m5.4279\u001b[0m  0.7914\n",
      "    277        \u001b[36m5.4284\u001b[0m        \u001b[32m5.4279\u001b[0m  0.7931\n",
      "    278        \u001b[36m5.4283\u001b[0m        5.4279  0.7923\n",
      "    279        \u001b[36m5.4283\u001b[0m        \u001b[32m5.4279\u001b[0m  0.7942\n",
      "    280        \u001b[36m5.4283\u001b[0m        \u001b[32m5.4279\u001b[0m  0.8071\n",
      "    281        \u001b[36m5.4283\u001b[0m        5.4279  0.8021\n",
      "    282        \u001b[36m5.4283\u001b[0m        \u001b[32m5.4279\u001b[0m  0.8116\n",
      "    283        \u001b[36m5.4283\u001b[0m        5.4279  0.7967\n",
      "    284        \u001b[36m5.4283\u001b[0m        \u001b[32m5.4279\u001b[0m  0.7987\n",
      "    285        \u001b[36m5.4283\u001b[0m        \u001b[32m5.4279\u001b[0m  0.7955\n",
      "    286        \u001b[36m5.4283\u001b[0m        \u001b[32m5.4279\u001b[0m  0.8026\n",
      "    287        \u001b[36m5.4283\u001b[0m        5.4279  0.8096\n",
      "    288        \u001b[36m5.4283\u001b[0m        \u001b[32m5.4279\u001b[0m  0.7958\n",
      "    289        \u001b[36m5.4283\u001b[0m        \u001b[32m5.4279\u001b[0m  0.8052\n",
      "    290        \u001b[36m5.4283\u001b[0m        5.4279  0.7954\n",
      "    291        \u001b[36m5.4282\u001b[0m        \u001b[32m5.4279\u001b[0m  0.7990\n",
      "    292        \u001b[36m5.4282\u001b[0m        \u001b[32m5.4279\u001b[0m  0.8077\n",
      "    293        \u001b[36m5.4282\u001b[0m        \u001b[32m5.4278\u001b[0m  0.8022\n",
      "    294        \u001b[36m5.4282\u001b[0m        \u001b[32m5.4278\u001b[0m  0.7950\n",
      "    295        \u001b[36m5.4282\u001b[0m        5.4278  0.7969\n",
      "    296        \u001b[36m5.4282\u001b[0m        5.4278  0.7966\n",
      "    297        \u001b[36m5.4282\u001b[0m        \u001b[32m5.4278\u001b[0m  0.8045\n",
      "    298        \u001b[36m5.4282\u001b[0m        5.4278  0.8276\n",
      "    299        \u001b[36m5.4282\u001b[0m        5.4278  0.8267\n",
      "    300        \u001b[36m5.4282\u001b[0m        \u001b[32m5.4278\u001b[0m  0.8235\n",
      "    301        \u001b[36m5.4282\u001b[0m        5.4278  0.8294\n",
      "    302        \u001b[36m5.4282\u001b[0m        \u001b[32m5.4278\u001b[0m  0.8178\n",
      "    303        \u001b[36m5.4282\u001b[0m        \u001b[32m5.4278\u001b[0m  0.7890\n",
      "    304        \u001b[36m5.4282\u001b[0m        \u001b[32m5.4278\u001b[0m  0.7883\n",
      "    305        \u001b[36m5.4281\u001b[0m        \u001b[32m5.4277\u001b[0m  0.7903\n",
      "    306        \u001b[36m5.4281\u001b[0m        \u001b[32m5.4275\u001b[0m  0.7906\n",
      "    307        \u001b[36m5.4277\u001b[0m        \u001b[32m5.4271\u001b[0m  0.8017\n",
      "    308        \u001b[36m5.4275\u001b[0m        \u001b[32m5.4269\u001b[0m  0.7911\n",
      "    309        \u001b[36m5.4274\u001b[0m        \u001b[32m5.4268\u001b[0m  0.8164\n",
      "    310        \u001b[36m5.4273\u001b[0m        \u001b[32m5.4267\u001b[0m  0.8138\n",
      "    311        \u001b[36m5.4272\u001b[0m        \u001b[32m5.4266\u001b[0m  0.8280\n",
      "    312        \u001b[36m5.4271\u001b[0m        \u001b[32m5.4265\u001b[0m  0.8295\n",
      "    313        \u001b[36m5.4270\u001b[0m        \u001b[32m5.4265\u001b[0m  0.8291\n",
      "    314        \u001b[36m5.4269\u001b[0m        \u001b[32m5.4264\u001b[0m  0.8297\n",
      "    315        \u001b[36m5.4269\u001b[0m        \u001b[32m5.4264\u001b[0m  0.8085\n",
      "    316        \u001b[36m5.4268\u001b[0m        \u001b[32m5.4263\u001b[0m  0.8138\n",
      "    317        \u001b[36m5.4268\u001b[0m        \u001b[32m5.4263\u001b[0m  0.8099\n",
      "    318        \u001b[36m5.4267\u001b[0m        \u001b[32m5.4263\u001b[0m  0.8148\n",
      "    319        \u001b[36m5.4267\u001b[0m        \u001b[32m5.4262\u001b[0m  0.8294\n",
      "    320        \u001b[36m5.4267\u001b[0m        \u001b[32m5.4262\u001b[0m  0.8101\n",
      "    321        \u001b[36m5.4266\u001b[0m        \u001b[32m5.4262\u001b[0m  0.8010\n",
      "    322        \u001b[36m5.4266\u001b[0m        \u001b[32m5.4262\u001b[0m  0.7975\n",
      "    323        \u001b[36m5.4266\u001b[0m        \u001b[32m5.4261\u001b[0m  0.7971\n",
      "    324        \u001b[36m5.4266\u001b[0m        \u001b[32m5.4261\u001b[0m  0.7911\n",
      "    325        \u001b[36m5.4265\u001b[0m        \u001b[32m5.4261\u001b[0m  0.7952\n",
      "    326        \u001b[36m5.4265\u001b[0m        \u001b[32m5.4261\u001b[0m  0.7910\n",
      "    327        \u001b[36m5.4265\u001b[0m        \u001b[32m5.4261\u001b[0m  0.7910\n",
      "    328        \u001b[36m5.4265\u001b[0m        \u001b[32m5.4260\u001b[0m  0.7974\n",
      "    329        \u001b[36m5.4265\u001b[0m        \u001b[32m5.4260\u001b[0m  0.8020\n",
      "    330        \u001b[36m5.4265\u001b[0m        \u001b[32m5.4260\u001b[0m  0.8022\n",
      "    331        \u001b[36m5.4264\u001b[0m        \u001b[32m5.4260\u001b[0m  0.8056\n",
      "    332        \u001b[36m5.4264\u001b[0m        \u001b[32m5.4260\u001b[0m  0.8075\n",
      "    333        \u001b[36m5.4264\u001b[0m        \u001b[32m5.4260\u001b[0m  0.8107\n",
      "    334        \u001b[36m5.4264\u001b[0m        \u001b[32m5.4260\u001b[0m  0.7925\n",
      "    335        \u001b[36m5.4264\u001b[0m        \u001b[32m5.4260\u001b[0m  0.7944\n",
      "    336        \u001b[36m5.4264\u001b[0m        \u001b[32m5.4260\u001b[0m  0.7928\n",
      "    337        \u001b[36m5.4264\u001b[0m        \u001b[32m5.4259\u001b[0m  0.7964\n",
      "    338        \u001b[36m5.4264\u001b[0m        \u001b[32m5.4259\u001b[0m  0.7956\n",
      "    339        \u001b[36m5.4263\u001b[0m        \u001b[32m5.4259\u001b[0m  0.7921\n",
      "    340        \u001b[36m5.4263\u001b[0m        5.4259  0.7917\n",
      "    341        \u001b[36m5.4263\u001b[0m        \u001b[32m5.4259\u001b[0m  0.7912\n",
      "    342        \u001b[36m5.4263\u001b[0m        \u001b[32m5.4259\u001b[0m  0.8029\n",
      "    343        \u001b[36m5.4263\u001b[0m        \u001b[32m5.4259\u001b[0m  0.7886\n",
      "    344        \u001b[36m5.4263\u001b[0m        \u001b[32m5.4259\u001b[0m  0.7943\n",
      "    345        \u001b[36m5.4263\u001b[0m        \u001b[32m5.4259\u001b[0m  0.8203\n",
      "    346        \u001b[36m5.4263\u001b[0m        \u001b[32m5.4259\u001b[0m  0.8125\n",
      "    347        \u001b[36m5.4263\u001b[0m        \u001b[32m5.4258\u001b[0m  0.7949\n",
      "    348        \u001b[36m5.4262\u001b[0m        \u001b[32m5.4258\u001b[0m  0.8136\n",
      "    349        \u001b[36m5.4262\u001b[0m        \u001b[32m5.4258\u001b[0m  0.8118\n",
      "    350        \u001b[36m5.4262\u001b[0m        \u001b[32m5.4258\u001b[0m  0.8115\n",
      "    351        \u001b[36m5.4262\u001b[0m        \u001b[32m5.4258\u001b[0m  0.8152\n",
      "    352        \u001b[36m5.4262\u001b[0m        \u001b[32m5.4258\u001b[0m  0.8132\n",
      "    353        \u001b[36m5.4262\u001b[0m        \u001b[32m5.4258\u001b[0m  0.8092\n",
      "    354        \u001b[36m5.4262\u001b[0m        \u001b[32m5.4258\u001b[0m  0.8061\n",
      "    355        \u001b[36m5.4262\u001b[0m        5.4258  0.8092\n",
      "    356        \u001b[36m5.4262\u001b[0m        \u001b[32m5.4258\u001b[0m  0.8263\n",
      "    357        \u001b[36m5.4262\u001b[0m        \u001b[32m5.4258\u001b[0m  0.8250\n",
      "    358        \u001b[36m5.4262\u001b[0m        \u001b[32m5.4258\u001b[0m  0.8275\n",
      "    359        \u001b[36m5.4262\u001b[0m        \u001b[32m5.4258\u001b[0m  0.8252\n",
      "    360        \u001b[36m5.4261\u001b[0m        \u001b[32m5.4258\u001b[0m  0.8322\n",
      "    361        \u001b[36m5.4261\u001b[0m        \u001b[32m5.4258\u001b[0m  0.8258\n",
      "    362        \u001b[36m5.4261\u001b[0m        \u001b[32m5.4257\u001b[0m  0.8210\n",
      "    363        \u001b[36m5.4261\u001b[0m        \u001b[32m5.4257\u001b[0m  0.7983\n",
      "    364        \u001b[36m5.4261\u001b[0m        \u001b[32m5.4257\u001b[0m  0.8010\n",
      "    365        \u001b[36m5.4261\u001b[0m        5.4257  0.7943\n",
      "    366        \u001b[36m5.4261\u001b[0m        \u001b[32m5.4257\u001b[0m  0.7945\n",
      "    367        \u001b[36m5.4261\u001b[0m        \u001b[32m5.4257\u001b[0m  0.7956\n",
      "    368        \u001b[36m5.4261\u001b[0m        5.4257  0.7968\n",
      "    369        \u001b[36m5.4261\u001b[0m        \u001b[32m5.4257\u001b[0m  0.7980\n",
      "    370        \u001b[36m5.4261\u001b[0m        \u001b[32m5.4257\u001b[0m  0.7966\n",
      "    371        \u001b[36m5.4261\u001b[0m        5.4257  0.7976\n",
      "    372        \u001b[36m5.4261\u001b[0m        5.4257  0.8025\n",
      "    373        \u001b[36m5.4260\u001b[0m        \u001b[32m5.4257\u001b[0m  0.7994\n",
      "    374        \u001b[36m5.4260\u001b[0m        \u001b[32m5.4257\u001b[0m  0.7982\n",
      "    375        \u001b[36m5.4260\u001b[0m        5.4257  0.7985\n",
      "    376        \u001b[36m5.4260\u001b[0m        5.4257  0.8008\n",
      "    377        \u001b[36m5.4260\u001b[0m        \u001b[32m5.4257\u001b[0m  0.8042\n",
      "    378        \u001b[36m5.4260\u001b[0m        \u001b[32m5.4257\u001b[0m  0.7904\n",
      "    379        \u001b[36m5.4260\u001b[0m        5.4257  0.7938\n",
      "    380        \u001b[36m5.4260\u001b[0m        \u001b[32m5.4257\u001b[0m  0.7927\n",
      "    381        \u001b[36m5.4260\u001b[0m        \u001b[32m5.4257\u001b[0m  0.7915\n",
      "    382        \u001b[36m5.4260\u001b[0m        \u001b[32m5.4256\u001b[0m  0.7918\n",
      "    383        \u001b[36m5.4260\u001b[0m        5.4257  0.7861\n",
      "    384        \u001b[36m5.4260\u001b[0m        5.4257  0.7919\n",
      "    385        \u001b[36m5.4260\u001b[0m        5.4256  0.7953\n",
      "    386        \u001b[36m5.4260\u001b[0m        5.4256  0.7978\n",
      "    387        \u001b[36m5.4260\u001b[0m        5.4256  0.8020\n",
      "    388        \u001b[36m5.4260\u001b[0m        \u001b[32m5.4256\u001b[0m  0.8014\n",
      "    389        \u001b[36m5.4259\u001b[0m        \u001b[32m5.4256\u001b[0m  0.7950\n",
      "    390        \u001b[36m5.4259\u001b[0m        \u001b[32m5.4256\u001b[0m  0.7968\n",
      "    391        \u001b[36m5.4259\u001b[0m        5.4256  0.7922\n",
      "    392        \u001b[36m5.4259\u001b[0m        \u001b[32m5.4256\u001b[0m  0.7949\n",
      "    393        \u001b[36m5.4259\u001b[0m        \u001b[32m5.4256\u001b[0m  0.7949\n",
      "    394        \u001b[36m5.4259\u001b[0m        5.4256  0.7943\n",
      "    395        \u001b[36m5.4259\u001b[0m        \u001b[32m5.4256\u001b[0m  0.7973\n",
      "    396        \u001b[36m5.4259\u001b[0m        \u001b[32m5.4256\u001b[0m  0.7960\n",
      "    397        \u001b[36m5.4259\u001b[0m        \u001b[32m5.4256\u001b[0m  0.7993\n",
      "    398        \u001b[36m5.4259\u001b[0m        \u001b[32m5.4256\u001b[0m  0.7989\n",
      "    399        \u001b[36m5.4259\u001b[0m        5.4256  0.7976\n",
      "    400        \u001b[36m5.4259\u001b[0m        5.4256  0.8098\n",
      "    401        \u001b[36m5.4259\u001b[0m        5.4256  0.7993\n",
      "    402        \u001b[36m5.4259\u001b[0m        \u001b[32m5.4256\u001b[0m  0.8011\n"
     ]
    },
    {
     "name": "stdout",
     "output_type": "stream",
     "text": [
      "    403        \u001b[36m5.4259\u001b[0m        \u001b[32m5.4256\u001b[0m  0.7977\n",
      "    404        \u001b[36m5.4259\u001b[0m        5.4256  0.7958\n",
      "    405        \u001b[36m5.4259\u001b[0m        \u001b[32m5.4256\u001b[0m  0.7951\n",
      "    406        \u001b[36m5.4259\u001b[0m        \u001b[32m5.4256\u001b[0m  0.8007\n",
      "    407        \u001b[36m5.4259\u001b[0m        \u001b[32m5.4256\u001b[0m  0.7927\n",
      "    408        \u001b[36m5.4259\u001b[0m        \u001b[32m5.4255\u001b[0m  0.7916\n",
      "    409        \u001b[36m5.4259\u001b[0m        \u001b[32m5.4255\u001b[0m  0.7940\n",
      "    410        5.4259        \u001b[32m5.4255\u001b[0m  0.7971\n",
      "    411        \u001b[36m5.4258\u001b[0m        5.4255  0.7981\n",
      "    412        \u001b[36m5.4258\u001b[0m        5.4255  0.8053\n",
      "    413        \u001b[36m5.4258\u001b[0m        \u001b[32m5.4255\u001b[0m  0.8361\n",
      "    414        \u001b[36m5.4258\u001b[0m        \u001b[32m5.4255\u001b[0m  0.8163\n",
      "    415        5.4258        5.4255  0.8207\n",
      "    416        \u001b[36m5.4258\u001b[0m        \u001b[32m5.4255\u001b[0m  0.8153\n",
      "    417        \u001b[36m5.4258\u001b[0m        5.4255  0.8124\n",
      "    418        \u001b[36m5.4258\u001b[0m        5.4255  0.8177\n",
      "    419        \u001b[36m5.4258\u001b[0m        5.4255  0.8159\n",
      "    420        \u001b[36m5.4258\u001b[0m        5.4255  0.8206\n",
      "    421        \u001b[36m5.4258\u001b[0m        \u001b[32m5.4255\u001b[0m  0.8143\n",
      "    422        \u001b[36m5.4258\u001b[0m        5.4255  0.8158\n",
      "    423        \u001b[36m5.4258\u001b[0m        5.4255  0.8149\n",
      "    424        \u001b[36m5.4258\u001b[0m        \u001b[32m5.4255\u001b[0m  0.8127\n",
      "    425        \u001b[36m5.4258\u001b[0m        \u001b[32m5.4255\u001b[0m  0.8229\n",
      "    426        \u001b[36m5.4258\u001b[0m        5.4255  0.8154\n",
      "    427        \u001b[36m5.4258\u001b[0m        \u001b[32m5.4255\u001b[0m  0.8153\n",
      "    428        \u001b[36m5.4258\u001b[0m        \u001b[32m5.4255\u001b[0m  0.8104\n",
      "    429        \u001b[36m5.4258\u001b[0m        5.4255  0.8198\n",
      "    430        \u001b[36m5.4258\u001b[0m        5.4255  0.8330\n",
      "    431        \u001b[36m5.4258\u001b[0m        \u001b[32m5.4254\u001b[0m  0.8149\n",
      "    432        \u001b[36m5.4258\u001b[0m        5.4255  0.8118\n",
      "    433        \u001b[36m5.4258\u001b[0m        \u001b[32m5.4254\u001b[0m  0.8284\n",
      "    434        \u001b[36m5.4258\u001b[0m        \u001b[32m5.4254\u001b[0m  0.8195\n",
      "    435        \u001b[36m5.4258\u001b[0m        \u001b[32m5.4254\u001b[0m  0.8112\n",
      "    436        \u001b[36m5.4258\u001b[0m        \u001b[32m5.4254\u001b[0m  0.8105\n",
      "    437        \u001b[36m5.4257\u001b[0m        \u001b[32m5.4254\u001b[0m  0.8150\n",
      "    438        \u001b[36m5.4257\u001b[0m        \u001b[32m5.4254\u001b[0m  0.8134\n",
      "    439        5.4257        5.4254  0.8003\n",
      "    440        \u001b[36m5.4257\u001b[0m        5.4254  0.7999\n",
      "    441        \u001b[36m5.4257\u001b[0m        \u001b[32m5.4254\u001b[0m  0.7972\n",
      "    442        \u001b[36m5.4257\u001b[0m        \u001b[32m5.4254\u001b[0m  0.8029\n",
      "    443        \u001b[36m5.4257\u001b[0m        5.4254  0.7991\n",
      "    444        \u001b[36m5.4257\u001b[0m        5.4254  0.8019\n",
      "    445        5.4257        \u001b[32m5.4254\u001b[0m  0.7978\n",
      "    446        \u001b[36m5.4257\u001b[0m        5.4254  0.8015\n",
      "    447        \u001b[36m5.4257\u001b[0m        5.4254  0.8020\n",
      "    448        \u001b[36m5.4257\u001b[0m        \u001b[32m5.4254\u001b[0m  0.8050\n",
      "    449        5.4257        \u001b[32m5.4254\u001b[0m  0.8010\n",
      "    450        \u001b[36m5.4257\u001b[0m        5.4254  0.8170\n",
      "    451        \u001b[36m5.4257\u001b[0m        5.4254  0.8127\n",
      "    452        \u001b[36m5.4257\u001b[0m        \u001b[32m5.4254\u001b[0m  0.8184\n",
      "    453        \u001b[36m5.4257\u001b[0m        \u001b[32m5.4254\u001b[0m  0.8230\n",
      "    454        \u001b[36m5.4257\u001b[0m        5.4254  0.8270\n",
      "    455        \u001b[36m5.4257\u001b[0m        5.4254  0.8308\n",
      "    456        \u001b[36m5.4257\u001b[0m        \u001b[32m5.4254\u001b[0m  0.7974\n",
      "    457        \u001b[36m5.4257\u001b[0m        5.4254  0.7949\n",
      "    458        \u001b[36m5.4257\u001b[0m        5.4254  0.7965\n",
      "    459        \u001b[36m5.4257\u001b[0m        \u001b[32m5.4254\u001b[0m  0.7953\n",
      "    460        \u001b[36m5.4257\u001b[0m        5.4254  0.7974\n",
      "    461        5.4257        \u001b[32m5.4253\u001b[0m  0.7955\n",
      "    462        \u001b[36m5.4257\u001b[0m        \u001b[32m5.4253\u001b[0m  0.7944\n",
      "    463        \u001b[36m5.4257\u001b[0m        \u001b[32m5.4253\u001b[0m  0.7932\n",
      "    464        \u001b[36m5.4257\u001b[0m        \u001b[32m5.4253\u001b[0m  0.7943\n",
      "    465        \u001b[36m5.4257\u001b[0m        \u001b[32m5.4253\u001b[0m  0.7973\n",
      "    466        \u001b[36m5.4257\u001b[0m        \u001b[32m5.4253\u001b[0m  0.7978\n",
      "    467        \u001b[36m5.4257\u001b[0m        5.4253  0.8075\n",
      "    468        \u001b[36m5.4257\u001b[0m        5.4253  0.8006\n",
      "    469        \u001b[36m5.4257\u001b[0m        \u001b[32m5.4253\u001b[0m  0.8009\n",
      "    470        \u001b[36m5.4257\u001b[0m        \u001b[32m5.4253\u001b[0m  0.7986\n",
      "    471        5.4257        \u001b[32m5.4253\u001b[0m  0.7971\n",
      "    472        \u001b[36m5.4257\u001b[0m        \u001b[32m5.4253\u001b[0m  0.7977\n",
      "    473        \u001b[36m5.4256\u001b[0m        5.4253  0.7953\n",
      "    474        \u001b[36m5.4256\u001b[0m        5.4253  0.7994\n",
      "    475        \u001b[36m5.4256\u001b[0m        \u001b[32m5.4253\u001b[0m  0.7965\n",
      "    476        5.4256        \u001b[32m5.4253\u001b[0m  0.8006\n",
      "    477        \u001b[36m5.4256\u001b[0m        \u001b[32m5.4253\u001b[0m  0.8261\n",
      "    478        \u001b[36m5.4256\u001b[0m        \u001b[32m5.4253\u001b[0m  0.7947\n",
      "    479        \u001b[36m5.4256\u001b[0m        \u001b[32m5.4253\u001b[0m  0.7958\n",
      "    480        \u001b[36m5.4256\u001b[0m        5.4253  0.7921\n",
      "    481        \u001b[36m5.4256\u001b[0m        \u001b[32m5.4253\u001b[0m  0.7960\n",
      "    482        5.4256        5.4253  0.7952\n",
      "    483        \u001b[36m5.4256\u001b[0m        \u001b[32m5.4253\u001b[0m  0.7930\n",
      "    484        \u001b[36m5.4256\u001b[0m        5.4253  0.7941\n",
      "    485        \u001b[36m5.4256\u001b[0m        \u001b[32m5.4253\u001b[0m  0.7970\n",
      "    486        \u001b[36m5.4256\u001b[0m        \u001b[32m5.4253\u001b[0m  0.8223\n",
      "    487        \u001b[36m5.4256\u001b[0m        \u001b[32m5.4253\u001b[0m  0.8249\n",
      "    488        \u001b[36m5.4256\u001b[0m        \u001b[32m5.4253\u001b[0m  0.8162\n",
      "    489        \u001b[36m5.4256\u001b[0m        5.4253  0.8184\n",
      "    490        5.4256        \u001b[32m5.4253\u001b[0m  0.8285\n",
      "    491        \u001b[36m5.4256\u001b[0m        \u001b[32m5.4253\u001b[0m  0.8185\n",
      "    492        \u001b[36m5.4256\u001b[0m        5.4253  0.8166\n",
      "    493        \u001b[36m5.4256\u001b[0m        5.4253  0.8347\n",
      "    494        \u001b[36m5.4256\u001b[0m        5.4253  0.8357\n",
      "    495        \u001b[36m5.4256\u001b[0m        \u001b[32m5.4253\u001b[0m  0.8267\n",
      "    496        \u001b[36m5.4256\u001b[0m        \u001b[32m5.4253\u001b[0m  0.8227\n",
      "    497        \u001b[36m5.4256\u001b[0m        \u001b[32m5.4252\u001b[0m  0.8245\n",
      "    498        \u001b[36m5.4256\u001b[0m        \u001b[32m5.4252\u001b[0m  0.8268\n",
      "    499        \u001b[36m5.4256\u001b[0m        \u001b[32m5.4252\u001b[0m  0.8276\n",
      "    500        \u001b[36m5.4256\u001b[0m        \u001b[32m5.4252\u001b[0m  0.8312\n"
     ]
    },
    {
     "data": {
      "text/plain": [
       "<class 'skorch.net.NeuralNet'>[initialized](\n",
       "  module_=DeconvolutionalClassifier(\n",
       "    (classifier): Sequential(\n",
       "      (0): Linear(in_features=10, out_features=122, bias=True)\n",
       "      (1): ReLU()\n",
       "      (2): Linear(in_features=122, out_features=235, bias=True)\n",
       "      (3): Softmax(dim=None)\n",
       "    )\n",
       "  ),\n",
       ")"
      ]
     },
     "execution_count": 72,
     "metadata": {},
     "output_type": "execute_result"
    }
   ],
   "source": [
    "net = NeuralNet(\n",
    "    module=DeconvolutionalClassifier,\n",
    "    module__input_dim=len(features),\n",
    "    module__output_dim=len(langs),\n",
    "    module__hidden_dims=[122],\n",
    "    module__h_activation=torch.nn.ReLU,\n",
    "    module__c_activation=torch.nn.Softmax,\n",
    "    criterion=torch.nn.CrossEntropyLoss,\n",
    "    train_split=predefined_split(valid_ds),\n",
    "    max_epochs=500,\n",
    "    device=device,\n",
    "    verbose=1,\n",
    "    optimizer = torch.optim.SGD,\n",
    "    optimizer__momentum=0.9,\n",
    "    optimizer__lr=0.2,\n",
    "#     optimizer = torch.optim.Adam,\n",
    "#     callbacks=[\n",
    "#         skorch.callbacks.EarlyStopping()\n",
    "#     ]\n",
    ")\n",
    "\n",
    "net.fit(train_embeddings, y_train_id[:len(train_embeddings)])"
   ]
  },
  {
   "cell_type": "code",
   "execution_count": 73,
   "id": "86a9fdcd",
   "metadata": {},
   "outputs": [
    {
     "name": "stdout",
     "output_type": "stream",
     "text": [
      "              precision    recall  f1-score   support\n",
      "\n",
      "         ace       0.06      0.31      0.10       100\n",
      "         afr       0.00      0.00      0.00       100\n",
      "         als       0.00      0.00      0.00       100\n",
      "         amh       0.00      0.00      0.00       100\n",
      "         ang       0.00      0.00      0.00       100\n",
      "         ara       0.00      0.00      0.00       100\n",
      "         arg       0.00      0.00      0.00       100\n",
      "         arz       0.00      0.00      0.00       100\n",
      "         asm       0.00      0.00      0.00       100\n",
      "         ast       0.00      0.00      0.00       100\n",
      "         ava       0.00      0.00      0.00       100\n",
      "         aym       0.00      0.00      0.00       100\n",
      "         azb       0.00      0.00      0.00       100\n",
      "         aze       0.00      0.00      0.00       100\n",
      "         bak       0.00      0.00      0.00       100\n",
      "         bar       0.00      0.00      0.00       100\n",
      "         bcl       0.00      0.00      0.00       100\n",
      "   be-tarask       0.00      0.00      0.00       100\n",
      "         bel       0.00      0.00      0.00       100\n",
      "         ben       0.00      0.00      0.00       100\n",
      "         bho       0.00      0.00      0.00       100\n",
      "         bjn       0.00      0.00      0.00       100\n",
      "         bod       0.00      0.00      0.00       100\n",
      "         bos       0.00      0.00      0.00       100\n",
      "         bpy       0.00      0.00      0.00       100\n",
      "         bre       0.00      0.00      0.00       100\n",
      "         bul       0.00      0.00      0.00       100\n",
      "         bxr       0.00      0.00      0.00       100\n",
      "         cat       0.00      0.00      0.00       100\n",
      "         cbk       0.00      0.00      0.00       100\n",
      "         cdo       0.00      0.00      0.00       100\n",
      "         ceb       0.00      0.00      0.00       100\n",
      "         ces       0.00      0.00      0.00       100\n",
      "         che       0.02      0.84      0.04       100\n",
      "         chr       0.76      0.99      0.86       100\n",
      "         chv       0.00      0.00      0.00       100\n",
      "         ckb       0.07      1.00      0.13       100\n",
      "         cor       0.00      0.00      0.00       100\n",
      "         cos       0.00      0.00      0.00       100\n",
      "         crh       0.00      0.00      0.00       100\n",
      "         csb       0.00      0.00      0.00       100\n",
      "         cym       0.00      0.00      0.00       100\n",
      "         dan       0.00      0.00      0.00       100\n",
      "         deu       0.00      0.00      0.00       100\n",
      "         diq       0.00      0.00      0.00       100\n",
      "         div       0.00      0.00      0.00       100\n",
      "         dsb       0.00      0.00      0.00       100\n",
      "         dty       0.05      0.92      0.10       100\n",
      "         egl       0.00      0.00      0.00       100\n",
      "         ell       0.00      0.00      0.00       100\n",
      "         eng       0.00      0.00      0.00       100\n",
      "         epo       0.00      0.00      0.00       100\n",
      "         est       0.00      0.00      0.00       100\n",
      "         eus       0.00      0.00      0.00       100\n",
      "         ext       0.00      0.00      0.00       100\n",
      "         fao       0.00      0.00      0.00       100\n",
      "         fas       0.00      0.00      0.00       100\n",
      "         fin       0.00      0.00      0.00       100\n",
      "         fra       0.00      0.00      0.00       100\n",
      "         frp       0.00      0.00      0.00       100\n",
      "         fry       0.00      0.00      0.00       100\n",
      "         fur       0.00      0.00      0.00       100\n",
      "         gag       0.00      0.00      0.00       100\n",
      "         gla       0.00      0.00      0.00       100\n",
      "         gle       0.00      0.00      0.00       100\n",
      "         glg       0.00      0.00      0.00       100\n",
      "         glk       0.00      0.00      0.00       100\n",
      "         glv       0.00      0.00      0.00       100\n",
      "         grn       0.00      0.00      0.00       100\n",
      "         guj       0.00      0.00      0.00       100\n",
      "         hak       0.00      0.00      0.00       100\n",
      "         hat       0.00      0.00      0.00       100\n",
      "         hau       0.00      0.00      0.00       100\n",
      "         hbs       0.00      0.00      0.00       100\n",
      "         heb       0.00      0.00      0.00       100\n",
      "         hif       0.00      0.00      0.00       100\n",
      "         hin       0.00      0.00      0.00       100\n",
      "         hrv       0.00      0.00      0.00       100\n",
      "         hsb       0.00      0.00      0.00       100\n",
      "         hun       0.00      0.00      0.00       100\n",
      "         hye       0.00      0.00      0.00       100\n",
      "         ibo       0.00      0.00      0.00       100\n",
      "         ido       0.00      0.00      0.00       100\n",
      "         ile       0.00      0.00      0.00       100\n",
      "         ilo       0.00      0.00      0.00       100\n",
      "         ina       0.00      0.00      0.00       100\n",
      "         ind       0.00      0.00      0.00       100\n",
      "         isl       0.00      0.00      0.00       100\n",
      "         ita       0.00      0.00      0.00       100\n",
      "         jam       0.00      0.00      0.00       100\n",
      "         jav       0.00      0.00      0.00       100\n",
      "         jbo       0.00      0.00      0.00       100\n",
      "         jpn       0.00      0.00      0.00       100\n",
      "         kaa       0.00      0.00      0.00       100\n",
      "         kab       0.00      0.00      0.00       100\n",
      "         kan       0.06      0.97      0.12       100\n",
      "         kat       0.00      0.00      0.00       100\n",
      "         kaz       0.00      0.00      0.00       100\n",
      "         kbd       0.00      0.00      0.00       100\n",
      "         khm       0.00      0.00      0.00       100\n",
      "         kin       0.00      0.00      0.00       100\n",
      "         kir       0.00      0.00      0.00       100\n",
      "         koi       0.00      0.00      0.00       100\n",
      "         kok       0.00      0.00      0.00       100\n",
      "         kom       0.00      0.00      0.00       100\n",
      "         kor       0.00      0.00      0.00       100\n",
      "         krc       0.00      0.00      0.00       100\n",
      "         ksh       0.00      0.00      0.00       100\n",
      "         kur       0.00      0.00      0.00       100\n",
      "         lad       0.00      0.00      0.00       100\n",
      "         lao       0.00      0.00      0.00       100\n",
      "         lat       0.00      0.00      0.00       100\n",
      "         lav       0.00      0.00      0.00       100\n",
      "         lez       0.00      0.00      0.00       100\n",
      "         lij       0.00      0.00      0.00       100\n",
      "         lim       0.00      0.00      0.00       100\n",
      "         lin       0.00      0.00      0.00       100\n",
      "         lit       0.00      0.00      0.00       100\n",
      "         lmo       0.00      0.00      0.00       100\n",
      "         lrc       0.00      0.00      0.00       100\n",
      "         ltg       0.00      0.00      0.00       100\n",
      "         ltz       0.00      0.00      0.00       100\n",
      "         lug       0.00      0.00      0.00       100\n",
      "         lzh       0.00      0.00      0.00       100\n",
      "         mai       0.00      0.00      0.00       100\n",
      "         mal       0.00      0.00      0.00       100\n",
      "     map-bms       0.00      0.00      0.00       100\n",
      "         mar       0.00      0.00      0.00       100\n",
      "         mdf       0.00      0.00      0.00       100\n",
      "         mhr       0.00      0.00      0.00       100\n",
      "         min       0.00      0.00      0.00       100\n",
      "         mkd       0.00      0.00      0.00       100\n",
      "         mlg       0.00      0.00      0.00       100\n",
      "         mlt       0.00      0.00      0.00       100\n",
      "         mon       0.00      0.00      0.00       100\n",
      "         mri       0.04      0.97      0.08       100\n",
      "         mrj       0.00      0.00      0.00       100\n",
      "         msa       0.00      0.00      0.00       100\n",
      "         mwl       0.00      0.00      0.00       100\n",
      "         mya       0.00      0.00      0.00       100\n",
      "         myv       0.00      0.00      0.00       100\n",
      "         mzn       0.00      0.00      0.00       100\n",
      "         nan       0.11      1.00      0.20       100\n",
      "         nap       0.00      0.00      0.00       100\n",
      "         nav       0.00      0.00      0.00       100\n",
      "         nci       0.00      0.00      0.00       100\n",
      "         nds       0.00      0.00      0.00       100\n",
      "      nds-nl       0.00      0.00      0.00       100\n",
      "         nep       0.00      0.00      0.00       100\n",
      "         new       0.00      0.00      0.00       100\n",
      "         nld       0.00      0.00      0.00       100\n",
      "         nno       0.00      0.00      0.00       100\n",
      "         nob       0.00      0.00      0.00       100\n",
      "         nrm       0.00      0.00      0.00       100\n",
      "         nso       0.00      0.00      0.00       100\n",
      "         oci       0.00      0.00      0.00       100\n",
      "         olo       0.00      0.00      0.00       100\n",
      "         ori       0.00      0.00      0.00       100\n",
      "         orm       0.00      0.00      0.00       100\n",
      "         oss       0.00      0.00      0.00       100\n",
      "         pag       0.00      0.00      0.00       100\n",
      "         pam       0.00      0.00      0.00       100\n",
      "         pan       0.00      0.00      0.00       100\n",
      "         pap       0.00      0.00      0.00       100\n",
      "         pcd       0.00      0.00      0.00       100\n",
      "         pdc       0.00      0.00      0.00       100\n",
      "         pfl       0.02      0.52      0.04       100\n",
      "         pnb       0.00      0.00      0.00       100\n",
      "         pol       0.00      0.00      0.00       100\n",
      "         por       0.00      0.00      0.00       100\n",
      "         pus       0.00      0.00      0.00       100\n",
      "         que       0.00      0.00      0.00       100\n",
      "    roa-tara       0.00      0.00      0.00       100\n",
      "         roh       0.00      0.00      0.00       100\n",
      "         ron       0.00      0.00      0.00       100\n",
      "         rue       0.00      0.00      0.00       100\n",
      "         rup       0.00      0.00      0.00       100\n",
      "         rus       0.00      0.00      0.00       100\n",
      "         sah       0.00      0.00      0.00       100\n",
      "         san       0.00      0.00      0.00       100\n",
      "         scn       0.00      0.00      0.00       100\n",
      "         sco       0.00      0.00      0.00       100\n",
      "         sgs       0.00      0.00      0.00       100\n",
      "         sin       0.00      0.00      0.00       100\n",
      "         slk       0.00      0.00      0.00       100\n",
      "         slv       0.00      0.00      0.00       100\n",
      "         sme       0.00      0.00      0.00       100\n",
      "         sna       0.00      0.00      0.00       100\n",
      "         snd       0.00      0.00      0.00       100\n",
      "         som       0.00      0.00      0.00       100\n",
      "         spa       0.00      0.00      0.00       100\n",
      "         sqi       0.00      0.00      0.00       100\n",
      "         srd       0.00      0.00      0.00       100\n",
      "         srn       0.00      0.00      0.00       100\n",
      "         srp       0.00      0.00      0.00       100\n",
      "         stq       0.00      0.00      0.00       100\n",
      "         sun       0.00      0.00      0.00       100\n",
      "         swa       0.00      0.00      0.00       100\n",
      "         swe       0.00      0.00      0.00       100\n",
      "         szl       0.00      0.00      0.00       100\n",
      "         tam       0.00      0.00      0.00       100\n",
      "         tat       0.00      0.00      0.00       100\n",
      "         tcy       0.00      0.00      0.00       100\n",
      "         tel       0.00      0.00      0.00       100\n",
      "         tet       0.00      0.00      0.00       100\n",
      "         tgk       0.00      0.00      0.00       100\n",
      "         tgl       0.00      0.00      0.00       100\n",
      "         tha       0.00      0.00      0.00       100\n",
      "         ton       0.00      0.00      0.00       100\n",
      "         tsn       0.00      0.00      0.00       100\n",
      "         tuk       0.02      0.75      0.04       100\n",
      "         tur       0.00      0.00      0.00       100\n",
      "         tyv       0.00      0.00      0.00       100\n",
      "         udm       0.00      0.00      0.00       100\n",
      "         uig       0.00      0.00      0.00       100\n",
      "         ukr       0.00      0.00      0.00       100\n",
      "         urd       0.00      0.00      0.00       100\n",
      "         uzb       0.00      0.00      0.00       100\n",
      "         vec       0.00      0.00      0.00       100\n",
      "         vep       0.00      0.00      0.00       100\n",
      "         vie       0.00      0.00      0.00       100\n",
      "         vls       0.00      0.00      0.00       100\n",
      "         vol       0.00      0.00      0.00       100\n",
      "         vro       0.00      0.00      0.00       100\n",
      "         war       0.06      0.86      0.11       100\n",
      "         wln       0.00      0.00      0.00       100\n",
      "         wol       0.00      0.00      0.00       100\n",
      "         wuu       0.00      0.00      0.00       100\n",
      "         xho       0.00      0.00      0.00       100\n",
      "         xmf       0.00      0.00      0.00       100\n",
      "         yid       0.00      0.00      0.00       100\n",
      "         yor       0.00      0.00      0.00       100\n",
      "         zea       0.02      0.67      0.03       100\n",
      "      zh-yue       0.00      0.00      0.00       100\n",
      "         zho       0.00      0.00      0.00       100\n",
      "\n",
      "    accuracy                           0.04     23500\n",
      "   macro avg       0.01      0.04      0.01     23500\n",
      "weighted avg       0.01      0.04      0.01     23500\n",
      "\n"
     ]
    }
   ],
   "source": [
    "dev_y_pred_id = np.argmax(net.predict(dev_embeddings), axis=1)\n",
    "dev_y_pred = [index_to_language[id] for id in dev_y_pred_id]\n",
    "print(classification_report(y_dev[:len(dev_y_pred)], dev_y_pred, target_names=langs, zero_division=0))"
   ]
  },
  {
   "cell_type": "code",
   "execution_count": null,
   "id": "aaa896ba",
   "metadata": {},
   "outputs": [],
   "source": []
  }
 ],
 "metadata": {
  "kernelspec": {
   "display_name": "Python 3 (ipykernel)",
   "language": "python",
   "name": "python3"
  },
  "language_info": {
   "codemirror_mode": {
    "name": "ipython",
    "version": 3
   },
   "file_extension": ".py",
   "mimetype": "text/x-python",
   "name": "python",
   "nbconvert_exporter": "python",
   "pygments_lexer": "ipython3",
   "version": "3.9.13"
  },
  "vscode": {
   "interpreter": {
    "hash": "e8c4bf9a1a9f7e7cc011ed0f1048bb31683f8a7a3e3a00930cb02ac8df58bef2"
   }
  }
 },
 "nbformat": 4,
 "nbformat_minor": 5
}
