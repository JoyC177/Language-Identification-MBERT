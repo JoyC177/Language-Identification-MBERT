{
 "cells": [
  {
   "cell_type": "code",
   "execution_count": 2,
   "id": "8d67dca9",
   "metadata": {},
   "outputs": [],
   "source": [
    "import unicodedata\n",
    "import numpy as np\n",
    "import pandas as pd\n",
    "from collections import Counter"
   ]
  },
  {
   "cell_type": "code",
   "execution_count": 4,
   "id": "fb058aab",
   "metadata": {},
   "outputs": [],
   "source": [
    "\n",
    "# sen=\"藤女の女性教師。48歳。数学担当。風紀指導を担当しており、リコにとっては天敵。藤女とその伝統に強い誇りを抱いており、サヨの彼氏バレの際には厳しい態度を取る。その一方で体育祭の時に天ヶ崎が仕込んだ悪ふざけを承知の上で見逃したり、生徒会執行部が何事か画策しているのを悟りながらある一線を越えない限り黙認するなど、単なる堅物ではない一面ものぞかせる。体育祭の応援合戦でマキマキオから白いバラを受け取った際には、顔を真っ赤にしていた。\"\n",
    "# count = 0\n",
    "\n",
    "# for i, s in enumerate(sen):\n",
    "#   # print(unicodedata.category(s))\n",
    "#   if \"P\" in unicodedata.category(s):\n",
    "#     print(s, unicodedata.category(s))\n",
    "#     count+=1\n",
    "\n",
    "# print(count)"
   ]
  },
  {
   "cell_type": "code",
   "execution_count": 3,
   "id": "f1ee5d1e",
   "metadata": {},
   "outputs": [],
   "source": [
    "# preprocess the training data into a file of unicode categories for each character\n",
    "# this will be needed for the metadata analytics in plots etc\n",
    "\n",
    "d_dir = \"data/wili-2018/\"\n",
    "\n",
    "with open(d_dir+\"x_train.txt\", encoding = 'utf-8') as fx, open(d_dir+\"y_train.txt\", encoding = 'utf-8') as fy:\n",
    "    stats = np.array([])\n",
    "    langs = np.array([])\n",
    "    \n",
    "    for paragraph, language in zip(fx, fy):\n",
    "        par_list = np.array([])\n",
    "        langs = np.append(langs, language.strip())\n",
    "\n",
    "        for char in paragraph:\n",
    "            cat = unicodedata.category(char)\n",
    "            par_list = np.append(par_list, cat)\n",
    "\n",
    "        stats = np.append(stats, Counter(par_list))\n",
    "            \n",
    "df = pd.DataFrame(data=langs,\n",
    "                   columns=['Language'])\n",
    "\n",
    "df2 = pd.DataFrame.from_records(stats).fillna(0).astype(int)\n",
    "df = df.join(df2)\n",
    "\n",
    "df.to_csv('data/train_pre2.csv', index=False)"
   ]
  },
  {
   "cell_type": "code",
   "execution_count": 32,
   "id": "146bc3a8",
   "metadata": {},
   "outputs": [],
   "source": [
    "# https://docs.python.org/3/howto/unicode.html\n",
    "# https://www.unicode.org/reports/tr44/#General_Category_Values"
   ]
  }
 ],
 "metadata": {
  "kernelspec": {
   "display_name": "Python 3.9.13 ('std')",
   "language": "python",
   "name": "python3"
  },
  "language_info": {
   "codemirror_mode": {
    "name": "ipython",
    "version": 3
   },
   "file_extension": ".py",
   "mimetype": "text/x-python",
   "name": "python",
   "nbconvert_exporter": "python",
   "pygments_lexer": "ipython3",
   "version": "3.9.13"
  },
  "vscode": {
   "interpreter": {
    "hash": "e8c4bf9a1a9f7e7cc011ed0f1048bb31683f8a7a3e3a00930cb02ac8df58bef2"
   }
  }
 },
 "nbformat": 4,
 "nbformat_minor": 5
}
